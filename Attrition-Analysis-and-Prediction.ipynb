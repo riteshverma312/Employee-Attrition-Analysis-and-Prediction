{
 "cells": [
  {
   "cell_type": "code",
   "execution_count": 1,
   "id": "bc080274",
   "metadata": {
    "ExecuteTime": {
     "end_time": "2023-05-10T01:13:13.922337Z",
     "start_time": "2023-05-10T01:13:12.811106Z"
    }
   },
   "outputs": [
    {
     "data": {
      "text/html": [
       "<style>.container { width:100% !important; }</style>"
      ],
      "text/plain": [
       "<IPython.core.display.HTML object>"
      ]
     },
     "metadata": {},
     "output_type": "display_data"
    },
    {
     "name": "stdout",
     "output_type": "stream",
     "text": [
      "2023-05-09 21:13:13,920 :: [INFO] :: Logger initialized WITHOUT file handler\n"
     ]
    }
   ],
   "source": [
    "try:\n",
    "    from az_common_funcs import *   \n",
    "except:\n",
    "    log_info = print\n",
    "    log_info(\"az_common_funcs missing. Logger not initialized.\")"
   ]
  },
  {
   "cell_type": "code",
   "execution_count": 2,
   "id": "12f94f9a",
   "metadata": {
    "ExecuteTime": {
     "end_time": "2023-05-10T01:13:14.823836Z",
     "start_time": "2023-05-10T01:13:13.923583Z"
    }
   },
   "outputs": [],
   "source": [
    "# Importing relevent Libraries \n",
    "import pandas as pd\n",
    "import numpy as np\n",
    "\n",
    "import matplotlib.pyplot as plt\n",
    "import seaborn as sns\n",
    "sns.set_theme(style=\"darkgrid\", palette = \"crest_r\")"
   ]
  },
  {
   "cell_type": "code",
   "execution_count": 3,
   "id": "67874a3b",
   "metadata": {
    "ExecuteTime": {
     "end_time": "2023-05-10T01:13:14.838247Z",
     "start_time": "2023-05-10T01:13:14.826300Z"
    }
   },
   "outputs": [],
   "source": [
    "df = pd.read_csv(\"WA_Fn-UseC_-HR-Employee-Attrition.csv\") # Reading the data downloaded from Kaggle"
   ]
  },
  {
   "cell_type": "code",
   "execution_count": 4,
   "id": "abd04729",
   "metadata": {
    "ExecuteTime": {
     "end_time": "2023-05-10T01:13:14.860719Z",
     "start_time": "2023-05-10T01:13:14.839047Z"
    }
   },
   "outputs": [
    {
     "name": "stdout",
     "output_type": "stream",
     "text": [
      "<class 'pandas.core.frame.DataFrame'>\n",
      "RangeIndex: 1470 entries, 0 to 1469\n",
      "Data columns (total 35 columns):\n",
      " #   Column                    Non-Null Count  Dtype \n",
      "---  ------                    --------------  ----- \n",
      " 0   Age                       1470 non-null   int64 \n",
      " 1   Attrition                 1470 non-null   object\n",
      " 2   BusinessTravel            1470 non-null   object\n",
      " 3   DailyRate                 1470 non-null   int64 \n",
      " 4   Department                1470 non-null   object\n",
      " 5   DistanceFromHome          1470 non-null   int64 \n",
      " 6   Education                 1470 non-null   int64 \n",
      " 7   EducationField            1470 non-null   object\n",
      " 8   EmployeeCount             1470 non-null   int64 \n",
      " 9   EmployeeNumber            1470 non-null   int64 \n",
      " 10  EnvironmentSatisfaction   1470 non-null   int64 \n",
      " 11  Gender                    1470 non-null   object\n",
      " 12  HourlyRate                1470 non-null   int64 \n",
      " 13  JobInvolvement            1470 non-null   int64 \n",
      " 14  JobLevel                  1470 non-null   int64 \n",
      " 15  JobRole                   1470 non-null   object\n",
      " 16  JobSatisfaction           1470 non-null   int64 \n",
      " 17  MaritalStatus             1470 non-null   object\n",
      " 18  MonthlyIncome             1470 non-null   int64 \n",
      " 19  MonthlyRate               1470 non-null   int64 \n",
      " 20  NumCompaniesWorked        1470 non-null   int64 \n",
      " 21  Over18                    1470 non-null   object\n",
      " 22  OverTime                  1470 non-null   object\n",
      " 23  PercentSalaryHike         1470 non-null   int64 \n",
      " 24  PerformanceRating         1470 non-null   int64 \n",
      " 25  RelationshipSatisfaction  1470 non-null   int64 \n",
      " 26  StandardHours             1470 non-null   int64 \n",
      " 27  StockOptionLevel          1470 non-null   int64 \n",
      " 28  TotalWorkingYears         1470 non-null   int64 \n",
      " 29  TrainingTimesLastYear     1470 non-null   int64 \n",
      " 30  WorkLifeBalance           1470 non-null   int64 \n",
      " 31  YearsAtCompany            1470 non-null   int64 \n",
      " 32  YearsInCurrentRole        1470 non-null   int64 \n",
      " 33  YearsSinceLastPromotion   1470 non-null   int64 \n",
      " 34  YearsWithCurrManager      1470 non-null   int64 \n",
      "dtypes: int64(26), object(9)\n",
      "memory usage: 402.1+ KB\n"
     ]
    },
    {
     "data": {
      "text/html": [
       "<div>\n",
       "<style scoped>\n",
       "    .dataframe tbody tr th:only-of-type {\n",
       "        vertical-align: middle;\n",
       "    }\n",
       "\n",
       "    .dataframe tbody tr th {\n",
       "        vertical-align: top;\n",
       "    }\n",
       "\n",
       "    .dataframe thead th {\n",
       "        text-align: right;\n",
       "    }\n",
       "</style>\n",
       "<table border=\"1\" class=\"dataframe\">\n",
       "  <thead>\n",
       "    <tr style=\"text-align: right;\">\n",
       "      <th></th>\n",
       "      <th>Age</th>\n",
       "      <th>Attrition</th>\n",
       "      <th>BusinessTravel</th>\n",
       "      <th>DailyRate</th>\n",
       "      <th>Department</th>\n",
       "      <th>DistanceFromHome</th>\n",
       "      <th>Education</th>\n",
       "      <th>EducationField</th>\n",
       "      <th>EmployeeCount</th>\n",
       "      <th>EmployeeNumber</th>\n",
       "      <th>...</th>\n",
       "      <th>RelationshipSatisfaction</th>\n",
       "      <th>StandardHours</th>\n",
       "      <th>StockOptionLevel</th>\n",
       "      <th>TotalWorkingYears</th>\n",
       "      <th>TrainingTimesLastYear</th>\n",
       "      <th>WorkLifeBalance</th>\n",
       "      <th>YearsAtCompany</th>\n",
       "      <th>YearsInCurrentRole</th>\n",
       "      <th>YearsSinceLastPromotion</th>\n",
       "      <th>YearsWithCurrManager</th>\n",
       "    </tr>\n",
       "  </thead>\n",
       "  <tbody>\n",
       "    <tr>\n",
       "      <th>0</th>\n",
       "      <td>41</td>\n",
       "      <td>Yes</td>\n",
       "      <td>Travel_Rarely</td>\n",
       "      <td>1102</td>\n",
       "      <td>Sales</td>\n",
       "      <td>1</td>\n",
       "      <td>2</td>\n",
       "      <td>Life Sciences</td>\n",
       "      <td>1</td>\n",
       "      <td>1</td>\n",
       "      <td>...</td>\n",
       "      <td>1</td>\n",
       "      <td>80</td>\n",
       "      <td>0</td>\n",
       "      <td>8</td>\n",
       "      <td>0</td>\n",
       "      <td>1</td>\n",
       "      <td>6</td>\n",
       "      <td>4</td>\n",
       "      <td>0</td>\n",
       "      <td>5</td>\n",
       "    </tr>\n",
       "    <tr>\n",
       "      <th>1</th>\n",
       "      <td>49</td>\n",
       "      <td>No</td>\n",
       "      <td>Travel_Frequently</td>\n",
       "      <td>279</td>\n",
       "      <td>Research &amp; Development</td>\n",
       "      <td>8</td>\n",
       "      <td>1</td>\n",
       "      <td>Life Sciences</td>\n",
       "      <td>1</td>\n",
       "      <td>2</td>\n",
       "      <td>...</td>\n",
       "      <td>4</td>\n",
       "      <td>80</td>\n",
       "      <td>1</td>\n",
       "      <td>10</td>\n",
       "      <td>3</td>\n",
       "      <td>3</td>\n",
       "      <td>10</td>\n",
       "      <td>7</td>\n",
       "      <td>1</td>\n",
       "      <td>7</td>\n",
       "    </tr>\n",
       "    <tr>\n",
       "      <th>2</th>\n",
       "      <td>37</td>\n",
       "      <td>Yes</td>\n",
       "      <td>Travel_Rarely</td>\n",
       "      <td>1373</td>\n",
       "      <td>Research &amp; Development</td>\n",
       "      <td>2</td>\n",
       "      <td>2</td>\n",
       "      <td>Other</td>\n",
       "      <td>1</td>\n",
       "      <td>4</td>\n",
       "      <td>...</td>\n",
       "      <td>2</td>\n",
       "      <td>80</td>\n",
       "      <td>0</td>\n",
       "      <td>7</td>\n",
       "      <td>3</td>\n",
       "      <td>3</td>\n",
       "      <td>0</td>\n",
       "      <td>0</td>\n",
       "      <td>0</td>\n",
       "      <td>0</td>\n",
       "    </tr>\n",
       "    <tr>\n",
       "      <th>3</th>\n",
       "      <td>33</td>\n",
       "      <td>No</td>\n",
       "      <td>Travel_Frequently</td>\n",
       "      <td>1392</td>\n",
       "      <td>Research &amp; Development</td>\n",
       "      <td>3</td>\n",
       "      <td>4</td>\n",
       "      <td>Life Sciences</td>\n",
       "      <td>1</td>\n",
       "      <td>5</td>\n",
       "      <td>...</td>\n",
       "      <td>3</td>\n",
       "      <td>80</td>\n",
       "      <td>0</td>\n",
       "      <td>8</td>\n",
       "      <td>3</td>\n",
       "      <td>3</td>\n",
       "      <td>8</td>\n",
       "      <td>7</td>\n",
       "      <td>3</td>\n",
       "      <td>0</td>\n",
       "    </tr>\n",
       "    <tr>\n",
       "      <th>4</th>\n",
       "      <td>27</td>\n",
       "      <td>No</td>\n",
       "      <td>Travel_Rarely</td>\n",
       "      <td>591</td>\n",
       "      <td>Research &amp; Development</td>\n",
       "      <td>2</td>\n",
       "      <td>1</td>\n",
       "      <td>Medical</td>\n",
       "      <td>1</td>\n",
       "      <td>7</td>\n",
       "      <td>...</td>\n",
       "      <td>4</td>\n",
       "      <td>80</td>\n",
       "      <td>1</td>\n",
       "      <td>6</td>\n",
       "      <td>3</td>\n",
       "      <td>3</td>\n",
       "      <td>2</td>\n",
       "      <td>2</td>\n",
       "      <td>2</td>\n",
       "      <td>2</td>\n",
       "    </tr>\n",
       "  </tbody>\n",
       "</table>\n",
       "<p>5 rows × 35 columns</p>\n",
       "</div>"
      ],
      "text/plain": [
       "   Age Attrition     BusinessTravel  DailyRate              Department  \\\n",
       "0   41       Yes      Travel_Rarely       1102                   Sales   \n",
       "1   49        No  Travel_Frequently        279  Research & Development   \n",
       "2   37       Yes      Travel_Rarely       1373  Research & Development   \n",
       "3   33        No  Travel_Frequently       1392  Research & Development   \n",
       "4   27        No      Travel_Rarely        591  Research & Development   \n",
       "\n",
       "   DistanceFromHome  Education EducationField  EmployeeCount  EmployeeNumber  \\\n",
       "0                 1          2  Life Sciences              1               1   \n",
       "1                 8          1  Life Sciences              1               2   \n",
       "2                 2          2          Other              1               4   \n",
       "3                 3          4  Life Sciences              1               5   \n",
       "4                 2          1        Medical              1               7   \n",
       "\n",
       "   ...  RelationshipSatisfaction StandardHours  StockOptionLevel  \\\n",
       "0  ...                         1            80                 0   \n",
       "1  ...                         4            80                 1   \n",
       "2  ...                         2            80                 0   \n",
       "3  ...                         3            80                 0   \n",
       "4  ...                         4            80                 1   \n",
       "\n",
       "   TotalWorkingYears  TrainingTimesLastYear WorkLifeBalance  YearsAtCompany  \\\n",
       "0                  8                      0               1               6   \n",
       "1                 10                      3               3              10   \n",
       "2                  7                      3               3               0   \n",
       "3                  8                      3               3               8   \n",
       "4                  6                      3               3               2   \n",
       "\n",
       "  YearsInCurrentRole  YearsSinceLastPromotion  YearsWithCurrManager  \n",
       "0                  4                        0                     5  \n",
       "1                  7                        1                     7  \n",
       "2                  0                        0                     0  \n",
       "3                  7                        3                     0  \n",
       "4                  2                        2                     2  \n",
       "\n",
       "[5 rows x 35 columns]"
      ]
     },
     "execution_count": 4,
     "metadata": {},
     "output_type": "execute_result"
    }
   ],
   "source": [
    "df.info()\n",
    "df.head()"
   ]
  },
  {
   "cell_type": "code",
   "execution_count": 5,
   "id": "249b8b5f",
   "metadata": {
    "ExecuteTime": {
     "end_time": "2023-05-10T01:13:14.891901Z",
     "start_time": "2023-05-10T01:13:14.861629Z"
    }
   },
   "outputs": [
    {
     "data": {
      "text/html": [
       "<div>\n",
       "<style scoped>\n",
       "    .dataframe tbody tr th:only-of-type {\n",
       "        vertical-align: middle;\n",
       "    }\n",
       "\n",
       "    .dataframe tbody tr th {\n",
       "        vertical-align: top;\n",
       "    }\n",
       "\n",
       "    .dataframe thead th {\n",
       "        text-align: right;\n",
       "    }\n",
       "</style>\n",
       "<table border=\"1\" class=\"dataframe\">\n",
       "  <thead>\n",
       "    <tr style=\"text-align: right;\">\n",
       "      <th></th>\n",
       "      <th>count</th>\n",
       "      <th>mean</th>\n",
       "      <th>std</th>\n",
       "      <th>min</th>\n",
       "      <th>25%</th>\n",
       "      <th>50%</th>\n",
       "      <th>75%</th>\n",
       "      <th>max</th>\n",
       "    </tr>\n",
       "  </thead>\n",
       "  <tbody>\n",
       "    <tr>\n",
       "      <th>Age</th>\n",
       "      <td>1470.0</td>\n",
       "      <td>36.923810</td>\n",
       "      <td>9.135373</td>\n",
       "      <td>18.0</td>\n",
       "      <td>30.00</td>\n",
       "      <td>36.0</td>\n",
       "      <td>43.00</td>\n",
       "      <td>60.0</td>\n",
       "    </tr>\n",
       "    <tr>\n",
       "      <th>DailyRate</th>\n",
       "      <td>1470.0</td>\n",
       "      <td>802.485714</td>\n",
       "      <td>403.509100</td>\n",
       "      <td>102.0</td>\n",
       "      <td>465.00</td>\n",
       "      <td>802.0</td>\n",
       "      <td>1157.00</td>\n",
       "      <td>1499.0</td>\n",
       "    </tr>\n",
       "    <tr>\n",
       "      <th>DistanceFromHome</th>\n",
       "      <td>1470.0</td>\n",
       "      <td>9.192517</td>\n",
       "      <td>8.106864</td>\n",
       "      <td>1.0</td>\n",
       "      <td>2.00</td>\n",
       "      <td>7.0</td>\n",
       "      <td>14.00</td>\n",
       "      <td>29.0</td>\n",
       "    </tr>\n",
       "    <tr>\n",
       "      <th>Education</th>\n",
       "      <td>1470.0</td>\n",
       "      <td>2.912925</td>\n",
       "      <td>1.024165</td>\n",
       "      <td>1.0</td>\n",
       "      <td>2.00</td>\n",
       "      <td>3.0</td>\n",
       "      <td>4.00</td>\n",
       "      <td>5.0</td>\n",
       "    </tr>\n",
       "    <tr>\n",
       "      <th>EmployeeCount</th>\n",
       "      <td>1470.0</td>\n",
       "      <td>1.000000</td>\n",
       "      <td>0.000000</td>\n",
       "      <td>1.0</td>\n",
       "      <td>1.00</td>\n",
       "      <td>1.0</td>\n",
       "      <td>1.00</td>\n",
       "      <td>1.0</td>\n",
       "    </tr>\n",
       "    <tr>\n",
       "      <th>EmployeeNumber</th>\n",
       "      <td>1470.0</td>\n",
       "      <td>1024.865306</td>\n",
       "      <td>602.024335</td>\n",
       "      <td>1.0</td>\n",
       "      <td>491.25</td>\n",
       "      <td>1020.5</td>\n",
       "      <td>1555.75</td>\n",
       "      <td>2068.0</td>\n",
       "    </tr>\n",
       "    <tr>\n",
       "      <th>EnvironmentSatisfaction</th>\n",
       "      <td>1470.0</td>\n",
       "      <td>2.721769</td>\n",
       "      <td>1.093082</td>\n",
       "      <td>1.0</td>\n",
       "      <td>2.00</td>\n",
       "      <td>3.0</td>\n",
       "      <td>4.00</td>\n",
       "      <td>4.0</td>\n",
       "    </tr>\n",
       "    <tr>\n",
       "      <th>HourlyRate</th>\n",
       "      <td>1470.0</td>\n",
       "      <td>65.891156</td>\n",
       "      <td>20.329428</td>\n",
       "      <td>30.0</td>\n",
       "      <td>48.00</td>\n",
       "      <td>66.0</td>\n",
       "      <td>83.75</td>\n",
       "      <td>100.0</td>\n",
       "    </tr>\n",
       "    <tr>\n",
       "      <th>JobInvolvement</th>\n",
       "      <td>1470.0</td>\n",
       "      <td>2.729932</td>\n",
       "      <td>0.711561</td>\n",
       "      <td>1.0</td>\n",
       "      <td>2.00</td>\n",
       "      <td>3.0</td>\n",
       "      <td>3.00</td>\n",
       "      <td>4.0</td>\n",
       "    </tr>\n",
       "    <tr>\n",
       "      <th>JobLevel</th>\n",
       "      <td>1470.0</td>\n",
       "      <td>2.063946</td>\n",
       "      <td>1.106940</td>\n",
       "      <td>1.0</td>\n",
       "      <td>1.00</td>\n",
       "      <td>2.0</td>\n",
       "      <td>3.00</td>\n",
       "      <td>5.0</td>\n",
       "    </tr>\n",
       "    <tr>\n",
       "      <th>JobSatisfaction</th>\n",
       "      <td>1470.0</td>\n",
       "      <td>2.728571</td>\n",
       "      <td>1.102846</td>\n",
       "      <td>1.0</td>\n",
       "      <td>2.00</td>\n",
       "      <td>3.0</td>\n",
       "      <td>4.00</td>\n",
       "      <td>4.0</td>\n",
       "    </tr>\n",
       "    <tr>\n",
       "      <th>MonthlyIncome</th>\n",
       "      <td>1470.0</td>\n",
       "      <td>6502.931293</td>\n",
       "      <td>4707.956783</td>\n",
       "      <td>1009.0</td>\n",
       "      <td>2911.00</td>\n",
       "      <td>4919.0</td>\n",
       "      <td>8379.00</td>\n",
       "      <td>19999.0</td>\n",
       "    </tr>\n",
       "    <tr>\n",
       "      <th>MonthlyRate</th>\n",
       "      <td>1470.0</td>\n",
       "      <td>14313.103401</td>\n",
       "      <td>7117.786044</td>\n",
       "      <td>2094.0</td>\n",
       "      <td>8047.00</td>\n",
       "      <td>14235.5</td>\n",
       "      <td>20461.50</td>\n",
       "      <td>26999.0</td>\n",
       "    </tr>\n",
       "    <tr>\n",
       "      <th>NumCompaniesWorked</th>\n",
       "      <td>1470.0</td>\n",
       "      <td>2.693197</td>\n",
       "      <td>2.498009</td>\n",
       "      <td>0.0</td>\n",
       "      <td>1.00</td>\n",
       "      <td>2.0</td>\n",
       "      <td>4.00</td>\n",
       "      <td>9.0</td>\n",
       "    </tr>\n",
       "    <tr>\n",
       "      <th>PercentSalaryHike</th>\n",
       "      <td>1470.0</td>\n",
       "      <td>15.209524</td>\n",
       "      <td>3.659938</td>\n",
       "      <td>11.0</td>\n",
       "      <td>12.00</td>\n",
       "      <td>14.0</td>\n",
       "      <td>18.00</td>\n",
       "      <td>25.0</td>\n",
       "    </tr>\n",
       "    <tr>\n",
       "      <th>PerformanceRating</th>\n",
       "      <td>1470.0</td>\n",
       "      <td>3.153741</td>\n",
       "      <td>0.360824</td>\n",
       "      <td>3.0</td>\n",
       "      <td>3.00</td>\n",
       "      <td>3.0</td>\n",
       "      <td>3.00</td>\n",
       "      <td>4.0</td>\n",
       "    </tr>\n",
       "    <tr>\n",
       "      <th>RelationshipSatisfaction</th>\n",
       "      <td>1470.0</td>\n",
       "      <td>2.712245</td>\n",
       "      <td>1.081209</td>\n",
       "      <td>1.0</td>\n",
       "      <td>2.00</td>\n",
       "      <td>3.0</td>\n",
       "      <td>4.00</td>\n",
       "      <td>4.0</td>\n",
       "    </tr>\n",
       "    <tr>\n",
       "      <th>StandardHours</th>\n",
       "      <td>1470.0</td>\n",
       "      <td>80.000000</td>\n",
       "      <td>0.000000</td>\n",
       "      <td>80.0</td>\n",
       "      <td>80.00</td>\n",
       "      <td>80.0</td>\n",
       "      <td>80.00</td>\n",
       "      <td>80.0</td>\n",
       "    </tr>\n",
       "    <tr>\n",
       "      <th>StockOptionLevel</th>\n",
       "      <td>1470.0</td>\n",
       "      <td>0.793878</td>\n",
       "      <td>0.852077</td>\n",
       "      <td>0.0</td>\n",
       "      <td>0.00</td>\n",
       "      <td>1.0</td>\n",
       "      <td>1.00</td>\n",
       "      <td>3.0</td>\n",
       "    </tr>\n",
       "    <tr>\n",
       "      <th>TotalWorkingYears</th>\n",
       "      <td>1470.0</td>\n",
       "      <td>11.279592</td>\n",
       "      <td>7.780782</td>\n",
       "      <td>0.0</td>\n",
       "      <td>6.00</td>\n",
       "      <td>10.0</td>\n",
       "      <td>15.00</td>\n",
       "      <td>40.0</td>\n",
       "    </tr>\n",
       "    <tr>\n",
       "      <th>TrainingTimesLastYear</th>\n",
       "      <td>1470.0</td>\n",
       "      <td>2.799320</td>\n",
       "      <td>1.289271</td>\n",
       "      <td>0.0</td>\n",
       "      <td>2.00</td>\n",
       "      <td>3.0</td>\n",
       "      <td>3.00</td>\n",
       "      <td>6.0</td>\n",
       "    </tr>\n",
       "    <tr>\n",
       "      <th>WorkLifeBalance</th>\n",
       "      <td>1470.0</td>\n",
       "      <td>2.761224</td>\n",
       "      <td>0.706476</td>\n",
       "      <td>1.0</td>\n",
       "      <td>2.00</td>\n",
       "      <td>3.0</td>\n",
       "      <td>3.00</td>\n",
       "      <td>4.0</td>\n",
       "    </tr>\n",
       "    <tr>\n",
       "      <th>YearsAtCompany</th>\n",
       "      <td>1470.0</td>\n",
       "      <td>7.008163</td>\n",
       "      <td>6.126525</td>\n",
       "      <td>0.0</td>\n",
       "      <td>3.00</td>\n",
       "      <td>5.0</td>\n",
       "      <td>9.00</td>\n",
       "      <td>40.0</td>\n",
       "    </tr>\n",
       "    <tr>\n",
       "      <th>YearsInCurrentRole</th>\n",
       "      <td>1470.0</td>\n",
       "      <td>4.229252</td>\n",
       "      <td>3.623137</td>\n",
       "      <td>0.0</td>\n",
       "      <td>2.00</td>\n",
       "      <td>3.0</td>\n",
       "      <td>7.00</td>\n",
       "      <td>18.0</td>\n",
       "    </tr>\n",
       "    <tr>\n",
       "      <th>YearsSinceLastPromotion</th>\n",
       "      <td>1470.0</td>\n",
       "      <td>2.187755</td>\n",
       "      <td>3.222430</td>\n",
       "      <td>0.0</td>\n",
       "      <td>0.00</td>\n",
       "      <td>1.0</td>\n",
       "      <td>3.00</td>\n",
       "      <td>15.0</td>\n",
       "    </tr>\n",
       "    <tr>\n",
       "      <th>YearsWithCurrManager</th>\n",
       "      <td>1470.0</td>\n",
       "      <td>4.123129</td>\n",
       "      <td>3.568136</td>\n",
       "      <td>0.0</td>\n",
       "      <td>2.00</td>\n",
       "      <td>3.0</td>\n",
       "      <td>7.00</td>\n",
       "      <td>17.0</td>\n",
       "    </tr>\n",
       "  </tbody>\n",
       "</table>\n",
       "</div>"
      ],
      "text/plain": [
       "                           count          mean          std     min      25%  \\\n",
       "Age                       1470.0     36.923810     9.135373    18.0    30.00   \n",
       "DailyRate                 1470.0    802.485714   403.509100   102.0   465.00   \n",
       "DistanceFromHome          1470.0      9.192517     8.106864     1.0     2.00   \n",
       "Education                 1470.0      2.912925     1.024165     1.0     2.00   \n",
       "EmployeeCount             1470.0      1.000000     0.000000     1.0     1.00   \n",
       "EmployeeNumber            1470.0   1024.865306   602.024335     1.0   491.25   \n",
       "EnvironmentSatisfaction   1470.0      2.721769     1.093082     1.0     2.00   \n",
       "HourlyRate                1470.0     65.891156    20.329428    30.0    48.00   \n",
       "JobInvolvement            1470.0      2.729932     0.711561     1.0     2.00   \n",
       "JobLevel                  1470.0      2.063946     1.106940     1.0     1.00   \n",
       "JobSatisfaction           1470.0      2.728571     1.102846     1.0     2.00   \n",
       "MonthlyIncome             1470.0   6502.931293  4707.956783  1009.0  2911.00   \n",
       "MonthlyRate               1470.0  14313.103401  7117.786044  2094.0  8047.00   \n",
       "NumCompaniesWorked        1470.0      2.693197     2.498009     0.0     1.00   \n",
       "PercentSalaryHike         1470.0     15.209524     3.659938    11.0    12.00   \n",
       "PerformanceRating         1470.0      3.153741     0.360824     3.0     3.00   \n",
       "RelationshipSatisfaction  1470.0      2.712245     1.081209     1.0     2.00   \n",
       "StandardHours             1470.0     80.000000     0.000000    80.0    80.00   \n",
       "StockOptionLevel          1470.0      0.793878     0.852077     0.0     0.00   \n",
       "TotalWorkingYears         1470.0     11.279592     7.780782     0.0     6.00   \n",
       "TrainingTimesLastYear     1470.0      2.799320     1.289271     0.0     2.00   \n",
       "WorkLifeBalance           1470.0      2.761224     0.706476     1.0     2.00   \n",
       "YearsAtCompany            1470.0      7.008163     6.126525     0.0     3.00   \n",
       "YearsInCurrentRole        1470.0      4.229252     3.623137     0.0     2.00   \n",
       "YearsSinceLastPromotion   1470.0      2.187755     3.222430     0.0     0.00   \n",
       "YearsWithCurrManager      1470.0      4.123129     3.568136     0.0     2.00   \n",
       "\n",
       "                              50%       75%      max  \n",
       "Age                          36.0     43.00     60.0  \n",
       "DailyRate                   802.0   1157.00   1499.0  \n",
       "DistanceFromHome              7.0     14.00     29.0  \n",
       "Education                     3.0      4.00      5.0  \n",
       "EmployeeCount                 1.0      1.00      1.0  \n",
       "EmployeeNumber             1020.5   1555.75   2068.0  \n",
       "EnvironmentSatisfaction       3.0      4.00      4.0  \n",
       "HourlyRate                   66.0     83.75    100.0  \n",
       "JobInvolvement                3.0      3.00      4.0  \n",
       "JobLevel                      2.0      3.00      5.0  \n",
       "JobSatisfaction               3.0      4.00      4.0  \n",
       "MonthlyIncome              4919.0   8379.00  19999.0  \n",
       "MonthlyRate               14235.5  20461.50  26999.0  \n",
       "NumCompaniesWorked            2.0      4.00      9.0  \n",
       "PercentSalaryHike            14.0     18.00     25.0  \n",
       "PerformanceRating             3.0      3.00      4.0  \n",
       "RelationshipSatisfaction      3.0      4.00      4.0  \n",
       "StandardHours                80.0     80.00     80.0  \n",
       "StockOptionLevel              1.0      1.00      3.0  \n",
       "TotalWorkingYears            10.0     15.00     40.0  \n",
       "TrainingTimesLastYear         3.0      3.00      6.0  \n",
       "WorkLifeBalance               3.0      3.00      4.0  \n",
       "YearsAtCompany                5.0      9.00     40.0  \n",
       "YearsInCurrentRole            3.0      7.00     18.0  \n",
       "YearsSinceLastPromotion       1.0      3.00     15.0  \n",
       "YearsWithCurrManager          3.0      7.00     17.0  "
      ]
     },
     "execution_count": 5,
     "metadata": {},
     "output_type": "execute_result"
    }
   ],
   "source": [
    "df.describe().T # descriptive statistics or numeric columns"
   ]
  },
  {
   "cell_type": "code",
   "execution_count": 6,
   "id": "4b5e0500",
   "metadata": {
    "ExecuteTime": {
     "end_time": "2023-05-10T01:13:14.913339Z",
     "start_time": "2023-05-10T01:13:14.893019Z"
    }
   },
   "outputs": [
    {
     "data": {
      "text/html": [
       "<style>.itables table td {\n",
       "    text-overflow: ellipsis;\n",
       "    overflow: hidden;\n",
       "}\n",
       "\n",
       ".itables table th {\n",
       "    text-overflow: ellipsis;\n",
       "    overflow: hidden;\n",
       "}\n",
       "\n",
       ".itables thead input {\n",
       "    width: 100%;\n",
       "    padding: 3px;\n",
       "    box-sizing: border-box;\n",
       "}\n",
       "\n",
       ".itables tfoot input {\n",
       "    width: 100%;\n",
       "    padding: 3px;\n",
       "    box-sizing: border-box;\n",
       "}\n",
       "</style>\n",
       "<div class=\"itables\">\n",
       "<table id=\"df4fd0b8-9161-4ab4-8ce1-d4de6986094e\" class=\"display nowrap\"style=\"table-layout:auto;width:auto;margin:auto;caption-side:bottom\"><thead>\n",
       "    <tr style=\"text-align: right;\">\n",
       "      \n",
       "      <th>Age</th>\n",
       "      <th>Attrition</th>\n",
       "      <th>BusinessTravel</th>\n",
       "      <th>DailyRate</th>\n",
       "      <th>Department</th>\n",
       "      <th>DistanceFromHome</th>\n",
       "      <th>Education</th>\n",
       "      <th>EducationField</th>\n",
       "      <th>EmployeeCount</th>\n",
       "      <th>EmployeeNumber</th>\n",
       "      <th>EnvironmentSatisfaction</th>\n",
       "      <th>Gender</th>\n",
       "      <th>HourlyRate</th>\n",
       "      <th>JobInvolvement</th>\n",
       "      <th>JobLevel</th>\n",
       "      <th>JobRole</th>\n",
       "      <th>JobSatisfaction</th>\n",
       "      <th>MaritalStatus</th>\n",
       "      <th>MonthlyIncome</th>\n",
       "      <th>MonthlyRate</th>\n",
       "      <th>NumCompaniesWorked</th>\n",
       "      <th>Over18</th>\n",
       "      <th>OverTime</th>\n",
       "      <th>PercentSalaryHike</th>\n",
       "      <th>PerformanceRating</th>\n",
       "      <th>RelationshipSatisfaction</th>\n",
       "      <th>StandardHours</th>\n",
       "      <th>StockOptionLevel</th>\n",
       "      <th>TotalWorkingYears</th>\n",
       "      <th>TrainingTimesLastYear</th>\n",
       "      <th>WorkLifeBalance</th>\n",
       "      <th>YearsAtCompany</th>\n",
       "      <th>YearsInCurrentRole</th>\n",
       "      <th>YearsSinceLastPromotion</th>\n",
       "      <th>YearsWithCurrManager</th>\n",
       "    </tr>\n",
       "  </thead><tbody><tr><td>Loading... (need <a href=https://mwouts.github.io/itables/troubleshooting.html>help</a>?)</td></tr></tbody></table>\n",
       "<link rel=\"stylesheet\" type=\"text/css\" href=\"https://cdn.datatables.net/1.13.1/css/jquery.dataTables.min.css\">\n",
       "<script type=\"module\">\n",
       "    // Import jquery and DataTable\n",
       "    import 'https://code.jquery.com/jquery-3.6.0.min.js';\n",
       "    import dt from 'https://cdn.datatables.net/1.12.1/js/jquery.dataTables.mjs';\n",
       "    dt($);\n",
       "\n",
       "    // Define the table data\n",
       "    const data = [[41, \"Yes\", \"Travel_Rarely\", 1102, \"Sales\", 1, 2, \"Life Sciences\", 1, 1, 2, \"Female\", 94, 3, 2, \"Sales Executive\", 4, \"Single\", 5993, 19479, 8, \"Y\", \"Yes\", 11, 3, 1, 80, 0, 8, 0, 1, 6, 4, 0, 5], [49, \"No\", \"Travel_Frequently\", 279, \"Research & Development\", 8, 1, \"Life Sciences\", 1, 2, 3, \"Male\", 61, 2, 2, \"Research Scientist\", 2, \"Married\", 5130, 24907, 1, \"Y\", \"No\", 23, 4, 4, 80, 1, 10, 3, 3, 10, 7, 1, 7], [37, \"Yes\", \"Travel_Rarely\", 1373, \"Research & Development\", 2, 2, \"Other\", 1, 4, 4, \"Male\", 92, 2, 1, \"Laboratory Technician\", 3, \"Single\", 2090, 2396, 6, \"Y\", \"Yes\", 15, 3, 2, 80, 0, 7, 3, 3, 0, 0, 0, 0], [33, \"No\", \"Travel_Frequently\", 1392, \"Research & Development\", 3, 4, \"Life Sciences\", 1, 5, 4, \"Female\", 56, 3, 1, \"Research Scientist\", 3, \"Married\", 2909, 23159, 1, \"Y\", \"Yes\", 11, 3, 3, 80, 0, 8, 3, 3, 8, 7, 3, 0], [27, \"No\", \"Travel_Rarely\", 591, \"Research & Development\", 2, 1, \"Medical\", 1, 7, 1, \"Male\", 40, 3, 1, \"Laboratory Technician\", 2, \"Married\", 3468, 16632, 9, \"Y\", \"No\", 12, 3, 4, 80, 1, 6, 3, 3, 2, 2, 2, 2], [32, \"No\", \"Travel_Frequently\", 1005, \"Research & Development\", 2, 2, \"Life Sciences\", 1, 8, 4, \"Male\", 79, 3, 1, \"Laboratory Technician\", 4, \"Single\", 3068, 11864, 0, \"Y\", \"No\", 13, 3, 3, 80, 0, 8, 2, 2, 7, 7, 3, 6], [59, \"No\", \"Travel_Rarely\", 1324, \"Research & Development\", 3, 3, \"Medical\", 1, 10, 3, \"Female\", 81, 4, 1, \"Laboratory Technician\", 1, \"Married\", 2670, 9964, 4, \"Y\", \"Yes\", 20, 4, 1, 80, 3, 12, 3, 2, 1, 0, 0, 0], [30, \"No\", \"Travel_Rarely\", 1358, \"Research & Development\", 24, 1, \"Life Sciences\", 1, 11, 4, \"Male\", 67, 3, 1, \"Laboratory Technician\", 3, \"Divorced\", 2693, 13335, 1, \"Y\", \"No\", 22, 4, 2, 80, 1, 1, 2, 3, 1, 0, 0, 0], [38, \"No\", \"Travel_Frequently\", 216, \"Research & Development\", 23, 3, \"Life Sciences\", 1, 12, 4, \"Male\", 44, 2, 3, \"Manufacturing Director\", 3, \"Single\", 9526, 8787, 0, \"Y\", \"No\", 21, 4, 2, 80, 0, 10, 2, 3, 9, 7, 1, 8], [36, \"No\", \"Travel_Rarely\", 1299, \"Research & Development\", 27, 3, \"Medical\", 1, 13, 3, \"Male\", 94, 3, 2, \"Healthcare Representative\", 3, \"Married\", 5237, 16577, 6, \"Y\", \"No\", 13, 3, 2, 80, 2, 17, 3, 2, 7, 7, 7, 7], [35, \"No\", \"Travel_Rarely\", 809, \"Research & Development\", 16, 3, \"Medical\", 1, 14, 1, \"Male\", 84, 4, 1, \"Laboratory Technician\", 2, \"Married\", 2426, 16479, 0, \"Y\", \"No\", 13, 3, 3, 80, 1, 6, 5, 3, 5, 4, 0, 3], [29, \"No\", \"Travel_Rarely\", 153, \"Research & Development\", 15, 2, \"Life Sciences\", 1, 15, 4, \"Female\", 49, 2, 2, \"Laboratory Technician\", 3, \"Single\", 4193, 12682, 0, \"Y\", \"Yes\", 12, 3, 4, 80, 0, 10, 3, 3, 9, 5, 0, 8], [31, \"No\", \"Travel_Rarely\", 670, \"Research & Development\", 26, 1, \"Life Sciences\", 1, 16, 1, \"Male\", 31, 3, 1, \"Research Scientist\", 3, \"Divorced\", 2911, 15170, 1, \"Y\", \"No\", 17, 3, 4, 80, 1, 5, 1, 2, 5, 2, 4, 3], [34, \"No\", \"Travel_Rarely\", 1346, \"Research & Development\", 19, 2, \"Medical\", 1, 18, 2, \"Male\", 93, 3, 1, \"Laboratory Technician\", 4, \"Divorced\", 2661, 8758, 0, \"Y\", \"No\", 11, 3, 3, 80, 1, 3, 2, 3, 2, 2, 1, 2], [28, \"Yes\", \"Travel_Rarely\", 103, \"Research & Development\", 24, 3, \"Life Sciences\", 1, 19, 3, \"Male\", 50, 2, 1, \"Laboratory Technician\", 3, \"Single\", 2028, 12947, 5, \"Y\", \"Yes\", 14, 3, 2, 80, 0, 6, 4, 3, 4, 2, 0, 3], [29, \"No\", \"Travel_Rarely\", 1389, \"Research & Development\", 21, 4, \"Life Sciences\", 1, 20, 2, \"Female\", 51, 4, 3, \"Manufacturing Director\", 1, \"Divorced\", 9980, 10195, 1, \"Y\", \"No\", 11, 3, 3, 80, 1, 10, 1, 3, 10, 9, 8, 8], [32, \"No\", \"Travel_Rarely\", 334, \"Research & Development\", 5, 2, \"Life Sciences\", 1, 21, 1, \"Male\", 80, 4, 1, \"Research Scientist\", 2, \"Divorced\", 3298, 15053, 0, \"Y\", \"Yes\", 12, 3, 4, 80, 2, 7, 5, 2, 6, 2, 0, 5], [22, \"No\", \"Non-Travel\", 1123, \"Research & Development\", 16, 2, \"Medical\", 1, 22, 4, \"Male\", 96, 4, 1, \"Laboratory Technician\", 4, \"Divorced\", 2935, 7324, 1, \"Y\", \"Yes\", 13, 3, 2, 80, 2, 1, 2, 2, 1, 0, 0, 0], [53, \"No\", \"Travel_Rarely\", 1219, \"Sales\", 2, 4, \"Life Sciences\", 1, 23, 1, \"Female\", 78, 2, 4, \"Manager\", 4, \"Married\", 15427, 22021, 2, \"Y\", \"No\", 16, 3, 3, 80, 0, 31, 3, 3, 25, 8, 3, 7], [38, \"No\", \"Travel_Rarely\", 371, \"Research & Development\", 2, 3, \"Life Sciences\", 1, 24, 4, \"Male\", 45, 3, 1, \"Research Scientist\", 4, \"Single\", 3944, 4306, 5, \"Y\", \"Yes\", 11, 3, 3, 80, 0, 6, 3, 3, 3, 2, 1, 2], [24, \"No\", \"Non-Travel\", 673, \"Research & Development\", 11, 2, \"Other\", 1, 26, 1, \"Female\", 96, 4, 2, \"Manufacturing Director\", 3, \"Divorced\", 4011, 8232, 0, \"Y\", \"No\", 18, 3, 4, 80, 1, 5, 5, 2, 4, 2, 1, 3], [36, \"Yes\", \"Travel_Rarely\", 1218, \"Sales\", 9, 4, \"Life Sciences\", 1, 27, 3, \"Male\", 82, 2, 1, \"Sales Representative\", 1, \"Single\", 3407, 6986, 7, \"Y\", \"No\", 23, 4, 2, 80, 0, 10, 4, 3, 5, 3, 0, 3], [34, \"No\", \"Travel_Rarely\", 419, \"Research & Development\", 7, 4, \"Life Sciences\", 1, 28, 1, \"Female\", 53, 3, 3, \"Research Director\", 2, \"Single\", 11994, 21293, 0, \"Y\", \"No\", 11, 3, 3, 80, 0, 13, 4, 3, 12, 6, 2, 11], [21, \"No\", \"Travel_Rarely\", 391, \"Research & Development\", 15, 2, \"Life Sciences\", 1, 30, 3, \"Male\", 96, 3, 1, \"Research Scientist\", 4, \"Single\", 1232, 19281, 1, \"Y\", \"No\", 14, 3, 4, 80, 0, 0, 6, 3, 0, 0, 0, 0], [34, \"Yes\", \"Travel_Rarely\", 699, \"Research & Development\", 6, 1, \"Medical\", 1, 31, 2, \"Male\", 83, 3, 1, \"Research Scientist\", 1, \"Single\", 2960, 17102, 2, \"Y\", \"No\", 11, 3, 3, 80, 0, 8, 2, 3, 4, 2, 1, 3], [53, \"No\", \"Travel_Rarely\", 1282, \"Research & Development\", 5, 3, \"Other\", 1, 32, 3, \"Female\", 58, 3, 5, \"Manager\", 3, \"Divorced\", 19094, 10735, 4, \"Y\", \"No\", 11, 3, 4, 80, 1, 26, 3, 2, 14, 13, 4, 8], [32, \"Yes\", \"Travel_Frequently\", 1125, \"Research & Development\", 16, 1, \"Life Sciences\", 1, 33, 2, \"Female\", 72, 1, 1, \"Research Scientist\", 1, \"Single\", 3919, 4681, 1, \"Y\", \"Yes\", 22, 4, 2, 80, 0, 10, 5, 3, 10, 2, 6, 7], [42, \"No\", \"Travel_Rarely\", 691, \"Sales\", 8, 4, \"Marketing\", 1, 35, 3, \"Male\", 48, 3, 2, \"Sales Executive\", 2, \"Married\", 6825, 21173, 0, \"Y\", \"No\", 11, 3, 4, 80, 1, 10, 2, 3, 9, 7, 4, 2], [44, \"No\", \"Travel_Rarely\", 477, \"Research & Development\", 7, 4, \"Medical\", 1, 36, 1, \"Female\", 42, 2, 3, \"Healthcare Representative\", 4, \"Married\", 10248, 2094, 3, \"Y\", \"No\", 14, 3, 4, 80, 1, 24, 4, 3, 22, 6, 5, 17], [46, \"No\", \"Travel_Rarely\", 705, \"Sales\", 2, 4, \"Marketing\", 1, 38, 2, \"Female\", 83, 3, 5, \"Manager\", 1, \"Single\", 18947, 22822, 3, \"Y\", \"No\", 12, 3, 4, 80, 0, 22, 2, 2, 2, 2, 2, 1], [33, \"No\", \"Travel_Rarely\", 924, \"Research & Development\", 2, 3, \"Medical\", 1, 39, 3, \"Male\", 78, 3, 1, \"Laboratory Technician\", 4, \"Single\", 2496, 6670, 4, \"Y\", \"No\", 11, 3, 4, 80, 0, 7, 3, 3, 1, 1, 0, 0], [44, \"No\", \"Travel_Rarely\", 1459, \"Research & Development\", 10, 4, \"Other\", 1, 40, 4, \"Male\", 41, 3, 2, \"Healthcare Representative\", 4, \"Married\", 6465, 19121, 2, \"Y\", \"Yes\", 13, 3, 4, 80, 0, 9, 5, 4, 4, 2, 1, 3], [30, \"No\", \"Travel_Rarely\", 125, \"Research & Development\", 9, 2, \"Medical\", 1, 41, 4, \"Male\", 83, 2, 1, \"Laboratory Technician\", 3, \"Single\", 2206, 16117, 1, \"Y\", \"No\", 13, 3, 1, 80, 0, 10, 5, 3, 10, 0, 1, 8], [39, \"Yes\", \"Travel_Rarely\", 895, \"Sales\", 5, 3, \"Technical Degree\", 1, 42, 4, \"Male\", 56, 3, 2, \"Sales Representative\", 4, \"Married\", 2086, 3335, 3, \"Y\", \"No\", 14, 3, 3, 80, 1, 19, 6, 4, 1, 0, 0, 0], [24, \"Yes\", \"Travel_Rarely\", 813, \"Research & Development\", 1, 3, \"Medical\", 1, 45, 2, \"Male\", 61, 3, 1, \"Research Scientist\", 4, \"Married\", 2293, 3020, 2, \"Y\", \"Yes\", 16, 3, 1, 80, 1, 6, 2, 2, 2, 0, 2, 0], [43, \"No\", \"Travel_Rarely\", 1273, \"Research & Development\", 2, 2, \"Medical\", 1, 46, 4, \"Female\", 72, 4, 1, \"Research Scientist\", 3, \"Divorced\", 2645, 21923, 1, \"Y\", \"No\", 12, 3, 4, 80, 2, 6, 3, 2, 5, 3, 1, 4], [50, \"Yes\", \"Travel_Rarely\", 869, \"Sales\", 3, 2, \"Marketing\", 1, 47, 1, \"Male\", 86, 2, 1, \"Sales Representative\", 3, \"Married\", 2683, 3810, 1, \"Y\", \"Yes\", 14, 3, 3, 80, 0, 3, 2, 3, 3, 2, 0, 2], [35, \"No\", \"Travel_Rarely\", 890, \"Sales\", 2, 3, \"Marketing\", 1, 49, 4, \"Female\", 97, 3, 1, \"Sales Representative\", 4, \"Married\", 2014, 9687, 1, \"Y\", \"No\", 13, 3, 1, 80, 0, 2, 3, 3, 2, 2, 2, 2], [36, \"No\", \"Travel_Rarely\", 852, \"Research & Development\", 5, 4, \"Life Sciences\", 1, 51, 2, \"Female\", 82, 2, 1, \"Research Scientist\", 1, \"Married\", 3419, 13072, 9, \"Y\", \"Yes\", 14, 3, 4, 80, 1, 6, 3, 4, 1, 1, 0, 0], [33, \"No\", \"Travel_Frequently\", 1141, \"Sales\", 1, 3, \"Life Sciences\", 1, 52, 3, \"Female\", 42, 4, 2, \"Sales Executive\", 1, \"Married\", 5376, 3193, 2, \"Y\", \"No\", 19, 3, 1, 80, 2, 10, 3, 3, 5, 3, 1, 3], [35, \"No\", \"Travel_Rarely\", 464, \"Research & Development\", 4, 2, \"Other\", 1, 53, 3, \"Male\", 75, 3, 1, \"Laboratory Technician\", 4, \"Divorced\", 1951, 10910, 1, \"Y\", \"No\", 12, 3, 3, 80, 1, 1, 3, 3, 1, 0, 0, 0], [27, \"No\", \"Travel_Rarely\", 1240, \"Research & Development\", 2, 4, \"Life Sciences\", 1, 54, 4, \"Female\", 33, 3, 1, \"Laboratory Technician\", 1, \"Divorced\", 2341, 19715, 1, \"Y\", \"No\", 13, 3, 4, 80, 1, 1, 6, 3, 1, 0, 0, 0], [26, \"Yes\", \"Travel_Rarely\", 1357, \"Research & Development\", 25, 3, \"Life Sciences\", 1, 55, 1, \"Male\", 48, 1, 1, \"Laboratory Technician\", 3, \"Single\", 2293, 10558, 1, \"Y\", \"No\", 12, 3, 3, 80, 0, 1, 2, 2, 1, 0, 0, 1], [27, \"No\", \"Travel_Frequently\", 994, \"Sales\", 8, 3, \"Life Sciences\", 1, 56, 4, \"Male\", 37, 3, 3, \"Sales Executive\", 3, \"Single\", 8726, 2975, 1, \"Y\", \"No\", 15, 3, 4, 80, 0, 9, 0, 3, 9, 8, 1, 7], [30, \"No\", \"Travel_Frequently\", 721, \"Research & Development\", 1, 2, \"Medical\", 1, 57, 3, \"Female\", 58, 3, 2, \"Laboratory Technician\", 4, \"Single\", 4011, 10781, 1, \"Y\", \"No\", 23, 4, 4, 80, 0, 12, 2, 3, 12, 8, 3, 7], [41, \"Yes\", \"Travel_Rarely\", 1360, \"Research & Development\", 12, 3, \"Technical Degree\", 1, 58, 2, \"Female\", 49, 3, 5, \"Research Director\", 3, \"Married\", 19545, 16280, 1, \"Y\", \"No\", 12, 3, 4, 80, 0, 23, 0, 3, 22, 15, 15, 8], [34, \"No\", \"Non-Travel\", 1065, \"Sales\", 23, 4, \"Marketing\", 1, 60, 2, \"Male\", 72, 3, 2, \"Sales Executive\", 3, \"Single\", 4568, 10034, 0, \"Y\", \"No\", 20, 4, 3, 80, 0, 10, 2, 3, 9, 5, 8, 7], [37, \"No\", \"Travel_Rarely\", 408, \"Research & Development\", 19, 2, \"Life Sciences\", 1, 61, 2, \"Male\", 73, 3, 1, \"Research Scientist\", 2, \"Married\", 3022, 10227, 4, \"Y\", \"No\", 21, 4, 1, 80, 0, 8, 1, 3, 1, 0, 0, 0], [46, \"No\", \"Travel_Frequently\", 1211, \"Sales\", 5, 4, \"Marketing\", 1, 62, 1, \"Male\", 98, 3, 2, \"Sales Executive\", 4, \"Single\", 5772, 20445, 4, \"Y\", \"Yes\", 21, 4, 3, 80, 0, 14, 4, 3, 9, 6, 0, 8], [35, \"No\", \"Travel_Rarely\", 1229, \"Research & Development\", 8, 1, \"Life Sciences\", 1, 63, 4, \"Male\", 36, 4, 1, \"Laboratory Technician\", 4, \"Married\", 2269, 4892, 1, \"Y\", \"No\", 19, 3, 4, 80, 0, 1, 2, 3, 1, 0, 0, 1], [48, \"Yes\", \"Travel_Rarely\", 626, \"Research & Development\", 1, 2, \"Life Sciences\", 1, 64, 1, \"Male\", 98, 2, 3, \"Laboratory Technician\", 3, \"Single\", 5381, 19294, 9, \"Y\", \"Yes\", 13, 3, 4, 80, 0, 23, 2, 3, 1, 0, 0, 0], [28, \"Yes\", \"Travel_Rarely\", 1434, \"Research & Development\", 5, 4, \"Technical Degree\", 1, 65, 3, \"Male\", 50, 3, 1, \"Laboratory Technician\", 3, \"Single\", 3441, 11179, 1, \"Y\", \"Yes\", 13, 3, 3, 80, 0, 2, 3, 2, 2, 2, 2, 2], [44, \"No\", \"Travel_Rarely\", 1488, \"Sales\", 1, 5, \"Marketing\", 1, 68, 2, \"Female\", 75, 3, 2, \"Sales Executive\", 1, \"Divorced\", 5454, 4009, 5, \"Y\", \"Yes\", 21, 4, 3, 80, 1, 9, 2, 2, 4, 3, 1, 3], [35, \"No\", \"Non-Travel\", 1097, \"Research & Development\", 11, 2, \"Medical\", 1, 70, 3, \"Male\", 79, 2, 3, \"Healthcare Representative\", 1, \"Married\", 9884, 8302, 2, \"Y\", \"Yes\", 13, 3, 3, 80, 1, 10, 3, 3, 4, 0, 2, 3], [26, \"No\", \"Travel_Rarely\", 1443, \"Sales\", 23, 3, \"Marketing\", 1, 72, 3, \"Female\", 47, 2, 2, \"Sales Executive\", 4, \"Married\", 4157, 21436, 7, \"Y\", \"Yes\", 19, 3, 3, 80, 1, 5, 2, 2, 2, 2, 0, 0], [33, \"No\", \"Travel_Frequently\", 515, \"Research & Development\", 1, 2, \"Life Sciences\", 1, 73, 1, \"Female\", 98, 3, 3, \"Research Director\", 4, \"Single\", 13458, 15146, 1, \"Y\", \"Yes\", 12, 3, 3, 80, 0, 15, 1, 3, 15, 14, 8, 12], [35, \"No\", \"Travel_Frequently\", 853, \"Sales\", 18, 5, \"Life Sciences\", 1, 74, 2, \"Male\", 71, 3, 3, \"Sales Executive\", 1, \"Married\", 9069, 11031, 1, \"Y\", \"No\", 22, 4, 4, 80, 1, 9, 3, 2, 9, 8, 1, 8], [35, \"No\", \"Travel_Rarely\", 1142, \"Research & Development\", 23, 4, \"Medical\", 1, 75, 3, \"Female\", 30, 3, 1, \"Laboratory Technician\", 1, \"Married\", 4014, 16002, 3, \"Y\", \"Yes\", 15, 3, 3, 80, 1, 4, 3, 3, 2, 2, 2, 2], [31, \"No\", \"Travel_Rarely\", 655, \"Research & Development\", 7, 4, \"Life Sciences\", 1, 76, 4, \"Male\", 48, 3, 2, \"Laboratory Technician\", 4, \"Divorced\", 5915, 9528, 3, \"Y\", \"No\", 22, 4, 4, 80, 1, 10, 3, 2, 7, 7, 1, 7], [37, \"No\", \"Travel_Rarely\", 1115, \"Research & Development\", 1, 4, \"Life Sciences\", 1, 77, 1, \"Male\", 51, 2, 2, \"Manufacturing Director\", 3, \"Divorced\", 5993, 2689, 1, \"Y\", \"No\", 18, 3, 3, 80, 1, 7, 2, 4, 7, 5, 0, 7], [32, \"No\", \"Travel_Rarely\", 427, \"Research & Development\", 1, 3, \"Medical\", 1, 78, 1, \"Male\", 33, 3, 2, \"Manufacturing Director\", 4, \"Married\", 6162, 10877, 1, \"Y\", \"Yes\", 22, 4, 2, 80, 1, 9, 3, 3, 9, 8, 7, 8], [38, \"No\", \"Travel_Frequently\", 653, \"Research & Development\", 29, 5, \"Life Sciences\", 1, 79, 4, \"Female\", 50, 3, 2, \"Laboratory Technician\", 4, \"Single\", 2406, 5456, 1, \"Y\", \"No\", 11, 3, 4, 80, 0, 10, 2, 3, 10, 3, 9, 9], [50, \"No\", \"Travel_Rarely\", 989, \"Research & Development\", 7, 2, \"Medical\", 1, 80, 2, \"Female\", 43, 2, 5, \"Research Director\", 3, \"Divorced\", 18740, 16701, 5, \"Y\", \"Yes\", 12, 3, 4, 80, 1, 29, 2, 2, 27, 3, 13, 8], [59, \"No\", \"Travel_Rarely\", 1435, \"Sales\", 25, 3, \"Life Sciences\", 1, 81, 1, \"Female\", 99, 3, 3, \"Sales Executive\", 1, \"Single\", 7637, 2354, 7, \"Y\", \"No\", 11, 3, 4, 80, 0, 28, 3, 2, 21, 16, 7, 9], [36, \"No\", \"Travel_Rarely\", 1223, \"Research & Development\", 8, 3, \"Technical Degree\", 1, 83, 3, \"Female\", 59, 3, 3, \"Healthcare Representative\", 3, \"Divorced\", 10096, 8202, 1, \"Y\", \"No\", 13, 3, 2, 80, 3, 17, 2, 3, 17, 14, 12, 8], [55, \"No\", \"Travel_Rarely\", 836, \"Research & Development\", 8, 3, \"Medical\", 1, 84, 4, \"Female\", 33, 3, 4, \"Manager\", 3, \"Divorced\", 14756, 19730, 2, \"Y\", \"Yes\", 14, 3, 3, 80, 3, 21, 2, 3, 5, 0, 0, 2], [36, \"No\", \"Travel_Frequently\", 1195, \"Research & Development\", 11, 3, \"Life Sciences\", 1, 85, 2, \"Male\", 95, 2, 2, \"Manufacturing Director\", 2, \"Single\", 6499, 22656, 1, \"Y\", \"No\", 13, 3, 3, 80, 0, 6, 3, 3, 6, 5, 0, 3], [45, \"No\", \"Travel_Rarely\", 1339, \"Research & Development\", 7, 3, \"Life Sciences\", 1, 86, 2, \"Male\", 59, 3, 3, \"Research Scientist\", 1, \"Divorced\", 9724, 18787, 2, \"Y\", \"No\", 17, 3, 3, 80, 1, 25, 2, 3, 1, 0, 0, 0], [35, \"No\", \"Travel_Frequently\", 664, \"Research & Development\", 1, 3, \"Medical\", 1, 88, 2, \"Male\", 79, 3, 1, \"Research Scientist\", 1, \"Married\", 2194, 5868, 4, \"Y\", \"No\", 13, 3, 4, 80, 1, 5, 2, 2, 3, 2, 1, 2], [36, \"Yes\", \"Travel_Rarely\", 318, \"Research & Development\", 9, 3, \"Medical\", 1, 90, 4, \"Male\", 79, 2, 1, \"Research Scientist\", 3, \"Married\", 3388, 21777, 0, \"Y\", \"Yes\", 17, 3, 1, 80, 1, 2, 0, 2, 1, 0, 0, 0], [59, \"No\", \"Travel_Frequently\", 1225, \"Sales\", 1, 1, \"Life Sciences\", 1, 91, 1, \"Female\", 57, 2, 2, \"Sales Executive\", 3, \"Single\", 5473, 24668, 7, \"Y\", \"No\", 11, 3, 4, 80, 0, 20, 2, 2, 4, 3, 1, 3], [29, \"No\", \"Travel_Rarely\", 1328, \"Research & Development\", 2, 3, \"Life Sciences\", 1, 94, 3, \"Male\", 76, 3, 1, \"Research Scientist\", 2, \"Married\", 2703, 4956, 0, \"Y\", \"No\", 23, 4, 4, 80, 1, 6, 3, 3, 5, 4, 0, 4], [31, \"No\", \"Travel_Rarely\", 1082, \"Research & Development\", 1, 4, \"Medical\", 1, 95, 3, \"Male\", 87, 3, 1, \"Research Scientist\", 2, \"Single\", 2501, 18775, 1, \"Y\", \"No\", 17, 3, 2, 80, 0, 1, 4, 3, 1, 1, 1, 0], [32, \"No\", \"Travel_Rarely\", 548, \"Research & Development\", 1, 3, \"Life Sciences\", 1, 96, 2, \"Male\", 66, 3, 2, \"Research Scientist\", 2, \"Married\", 6220, 7346, 1, \"Y\", \"No\", 17, 3, 2, 80, 2, 10, 3, 3, 10, 4, 0, 9], [36, \"No\", \"Travel_Rarely\", 132, \"Research & Development\", 6, 3, \"Life Sciences\", 1, 97, 2, \"Female\", 55, 4, 1, \"Laboratory Technician\", 4, \"Married\", 3038, 22002, 3, \"Y\", \"No\", 12, 3, 2, 80, 0, 5, 3, 3, 1, 0, 0, 0], [31, \"No\", \"Travel_Rarely\", 746, \"Research & Development\", 8, 4, \"Life Sciences\", 1, 98, 3, \"Female\", 61, 3, 2, \"Manufacturing Director\", 4, \"Single\", 4424, 20682, 1, \"Y\", \"No\", 23, 4, 4, 80, 0, 11, 2, 3, 11, 7, 1, 8], [35, \"No\", \"Travel_Rarely\", 776, \"Sales\", 1, 4, \"Marketing\", 1, 100, 3, \"Male\", 32, 2, 2, \"Sales Executive\", 1, \"Single\", 4312, 23016, 0, \"Y\", \"No\", 14, 3, 2, 80, 0, 16, 2, 3, 15, 13, 2, 8], [45, \"No\", \"Travel_Rarely\", 193, \"Research & Development\", 6, 4, \"Other\", 1, 101, 4, \"Male\", 52, 3, 3, \"Research Director\", 1, \"Married\", 13245, 15067, 4, \"Y\", \"Yes\", 14, 3, 2, 80, 0, 17, 3, 4, 0, 0, 0, 0], [37, \"No\", \"Travel_Rarely\", 397, \"Research & Development\", 7, 4, \"Medical\", 1, 102, 1, \"Male\", 30, 3, 3, \"Research Director\", 3, \"Single\", 13664, 25258, 4, \"Y\", \"No\", 13, 3, 1, 80, 0, 16, 3, 4, 5, 2, 0, 2], [46, \"No\", \"Travel_Rarely\", 945, \"Human Resources\", 5, 2, \"Medical\", 1, 103, 2, \"Male\", 80, 3, 2, \"Human Resources\", 2, \"Divorced\", 5021, 10425, 8, \"Y\", \"Yes\", 22, 4, 4, 80, 1, 16, 2, 3, 4, 2, 0, 2], [30, \"No\", \"Travel_Rarely\", 852, \"Research & Development\", 1, 1, \"Life Sciences\", 1, 104, 4, \"Male\", 55, 2, 2, \"Laboratory Technician\", 4, \"Married\", 5126, 15998, 1, \"Y\", \"Yes\", 12, 3, 3, 80, 2, 10, 1, 2, 10, 8, 3, 0], [35, \"No\", \"Travel_Rarely\", 1214, \"Research & Development\", 1, 3, \"Medical\", 1, 105, 2, \"Male\", 30, 2, 1, \"Research Scientist\", 3, \"Single\", 2859, 26278, 1, \"Y\", \"No\", 18, 3, 1, 80, 0, 6, 3, 3, 6, 4, 0, 4], [55, \"No\", \"Travel_Rarely\", 111, \"Sales\", 1, 2, \"Life Sciences\", 1, 106, 1, \"Male\", 70, 3, 3, \"Sales Executive\", 4, \"Married\", 10239, 18092, 3, \"Y\", \"No\", 14, 3, 4, 80, 1, 24, 4, 3, 1, 0, 1, 0], [38, \"No\", \"Non-Travel\", 573, \"Research & Development\", 6, 3, \"Medical\", 1, 107, 2, \"Female\", 79, 1, 2, \"Research Scientist\", 4, \"Divorced\", 5329, 15717, 7, \"Y\", \"Yes\", 12, 3, 4, 80, 3, 17, 3, 3, 13, 11, 1, 9], [34, \"No\", \"Travel_Rarely\", 1153, \"Research & Development\", 1, 2, \"Medical\", 1, 110, 1, \"Male\", 94, 3, 2, \"Manufacturing Director\", 2, \"Married\", 4325, 17736, 1, \"Y\", \"No\", 15, 3, 3, 80, 0, 5, 2, 3, 5, 2, 1, 3], [56, \"No\", \"Travel_Rarely\", 1400, \"Research & Development\", 7, 3, \"Life Sciences\", 1, 112, 4, \"Male\", 49, 1, 3, \"Manufacturing Director\", 4, \"Single\", 7260, 21698, 4, \"Y\", \"No\", 11, 3, 1, 80, 0, 37, 3, 2, 6, 4, 0, 2], [23, \"No\", \"Travel_Rarely\", 541, \"Sales\", 2, 1, \"Technical Degree\", 1, 113, 3, \"Male\", 62, 3, 1, \"Sales Representative\", 1, \"Divorced\", 2322, 9518, 3, \"Y\", \"No\", 13, 3, 3, 80, 1, 3, 3, 3, 0, 0, 0, 0], [51, \"No\", \"Travel_Rarely\", 432, \"Research & Development\", 9, 4, \"Life Sciences\", 1, 116, 4, \"Male\", 96, 3, 1, \"Laboratory Technician\", 4, \"Married\", 2075, 18725, 3, \"Y\", \"No\", 23, 4, 2, 80, 2, 10, 4, 3, 4, 2, 0, 3], [30, \"No\", \"Travel_Rarely\", 288, \"Research & Development\", 2, 3, \"Life Sciences\", 1, 117, 3, \"Male\", 99, 2, 2, \"Healthcare Representative\", 4, \"Married\", 4152, 15830, 1, \"Y\", \"No\", 19, 3, 1, 80, 3, 11, 3, 3, 11, 10, 10, 8], [46, \"Yes\", \"Travel_Rarely\", 669, \"Sales\", 9, 2, \"Medical\", 1, 118, 3, \"Male\", 64, 2, 3, \"Sales Executive\", 4, \"Single\", 9619, 13596, 1, \"Y\", \"No\", 16, 3, 4, 80, 0, 9, 3, 3, 9, 8, 4, 7], [40, \"No\", \"Travel_Frequently\", 530, \"Research & Development\", 1, 4, \"Life Sciences\", 1, 119, 3, \"Male\", 78, 2, 4, \"Healthcare Representative\", 2, \"Married\", 13503, 14115, 1, \"Y\", \"No\", 22, 4, 4, 80, 1, 22, 3, 2, 22, 3, 11, 11], [51, \"No\", \"Travel_Rarely\", 632, \"Sales\", 21, 4, \"Marketing\", 1, 120, 3, \"Male\", 71, 3, 2, \"Sales Executive\", 4, \"Single\", 5441, 8423, 0, \"Y\", \"Yes\", 22, 4, 4, 80, 0, 11, 2, 1, 10, 7, 1, 0], [30, \"No\", \"Travel_Rarely\", 1334, \"Sales\", 4, 2, \"Medical\", 1, 121, 3, \"Female\", 63, 2, 2, \"Sales Executive\", 2, \"Divorced\", 5209, 19760, 1, \"Y\", \"Yes\", 12, 3, 2, 80, 3, 11, 4, 2, 11, 8, 2, 7], [46, \"No\", \"Travel_Frequently\", 638, \"Research & Development\", 1, 3, \"Medical\", 1, 124, 3, \"Male\", 40, 2, 3, \"Healthcare Representative\", 1, \"Married\", 10673, 3142, 2, \"Y\", \"Yes\", 13, 3, 3, 80, 1, 21, 5, 2, 10, 9, 9, 5], [32, \"No\", \"Travel_Rarely\", 1093, \"Sales\", 6, 4, \"Medical\", 1, 125, 2, \"Male\", 87, 3, 2, \"Sales Executive\", 3, \"Single\", 5010, 24301, 1, \"Y\", \"No\", 16, 3, 1, 80, 0, 12, 0, 3, 11, 8, 5, 7], [54, \"No\", \"Travel_Rarely\", 1217, \"Research & Development\", 2, 4, \"Technical Degree\", 1, 126, 1, \"Female\", 60, 3, 3, \"Research Director\", 3, \"Married\", 13549, 24001, 9, \"Y\", \"No\", 12, 3, 1, 80, 1, 16, 5, 1, 4, 3, 0, 3], [24, \"No\", \"Travel_Rarely\", 1353, \"Sales\", 3, 2, \"Other\", 1, 128, 1, \"Female\", 33, 3, 2, \"Sales Executive\", 3, \"Married\", 4999, 17519, 0, \"Y\", \"No\", 21, 4, 1, 80, 1, 4, 2, 2, 3, 2, 0, 2], [28, \"No\", \"Non-Travel\", 120, \"Sales\", 4, 3, \"Medical\", 1, 129, 2, \"Male\", 43, 3, 2, \"Sales Executive\", 3, \"Married\", 4221, 8863, 1, \"Y\", \"No\", 15, 3, 2, 80, 0, 5, 3, 4, 5, 4, 0, 4], [58, \"No\", \"Travel_Rarely\", 682, \"Sales\", 10, 4, \"Medical\", 1, 131, 4, \"Male\", 37, 3, 4, \"Sales Executive\", 3, \"Single\", 13872, 24409, 0, \"Y\", \"No\", 13, 3, 3, 80, 0, 38, 1, 2, 37, 10, 1, 8], [44, \"No\", \"Non-Travel\", 489, \"Research & Development\", 23, 3, \"Medical\", 1, 132, 2, \"Male\", 67, 3, 2, \"Laboratory Technician\", 2, \"Married\", 2042, 25043, 4, \"Y\", \"No\", 12, 3, 3, 80, 1, 17, 3, 4, 3, 2, 1, 2], [37, \"Yes\", \"Travel_Rarely\", 807, \"Human Resources\", 6, 4, \"Human Resources\", 1, 133, 3, \"Male\", 63, 3, 1, \"Human Resources\", 1, \"Divorced\", 2073, 23648, 4, \"Y\", \"Yes\", 22, 4, 4, 80, 0, 7, 3, 3, 3, 2, 0, 2], [32, \"No\", \"Travel_Rarely\", 827, \"Research & Development\", 1, 1, \"Life Sciences\", 1, 134, 4, \"Male\", 71, 3, 1, \"Research Scientist\", 1, \"Single\", 2956, 15178, 1, \"Y\", \"No\", 13, 3, 4, 80, 0, 1, 2, 3, 1, 0, 0, 0], [20, \"Yes\", \"Travel_Frequently\", 871, \"Research & Development\", 6, 3, \"Life Sciences\", 1, 137, 4, \"Female\", 66, 2, 1, \"Laboratory Technician\", 4, \"Single\", 2926, 19783, 1, \"Y\", \"Yes\", 18, 3, 2, 80, 0, 1, 5, 3, 1, 0, 1, 0], [34, \"No\", \"Travel_Rarely\", 665, \"Research & Development\", 6, 4, \"Other\", 1, 138, 1, \"Female\", 41, 3, 2, \"Research Scientist\", 3, \"Single\", 4809, 12482, 1, \"Y\", \"No\", 14, 3, 3, 80, 0, 16, 3, 3, 16, 13, 2, 10], [37, \"No\", \"Non-Travel\", 1040, \"Research & Development\", 2, 2, \"Life Sciences\", 1, 139, 3, \"Male\", 100, 2, 2, \"Healthcare Representative\", 4, \"Divorced\", 5163, 15850, 5, \"Y\", \"No\", 14, 3, 4, 80, 1, 17, 2, 4, 1, 0, 0, 0], [59, \"No\", \"Non-Travel\", 1420, \"Human Resources\", 2, 4, \"Human Resources\", 1, 140, 3, \"Female\", 32, 2, 5, \"Manager\", 4, \"Married\", 18844, 21922, 9, \"Y\", \"No\", 21, 4, 4, 80, 1, 30, 3, 3, 3, 2, 2, 2], [50, \"No\", \"Travel_Frequently\", 1115, \"Research & Development\", 1, 3, \"Life Sciences\", 1, 141, 1, \"Female\", 73, 3, 5, \"Research Director\", 2, \"Married\", 18172, 9755, 3, \"Y\", \"Yes\", 19, 3, 1, 80, 0, 28, 1, 2, 8, 3, 0, 7], [25, \"Yes\", \"Travel_Rarely\", 240, \"Sales\", 5, 3, \"Marketing\", 1, 142, 3, \"Male\", 46, 2, 2, \"Sales Executive\", 3, \"Single\", 5744, 26959, 1, \"Y\", \"Yes\", 11, 3, 4, 80, 0, 6, 1, 3, 6, 4, 0, 3], [25, \"No\", \"Travel_Rarely\", 1280, \"Research & Development\", 7, 1, \"Medical\", 1, 143, 4, \"Male\", 64, 2, 1, \"Research Scientist\", 4, \"Married\", 2889, 26897, 1, \"Y\", \"No\", 11, 3, 3, 80, 2, 2, 2, 3, 2, 2, 2, 1], [22, \"No\", \"Travel_Rarely\", 534, \"Research & Development\", 15, 3, \"Medical\", 1, 144, 2, \"Female\", 59, 3, 1, \"Laboratory Technician\", 4, \"Single\", 2871, 23785, 1, \"Y\", \"No\", 15, 3, 3, 80, 0, 1, 5, 3, 0, 0, 0, 0], [51, \"No\", \"Travel_Frequently\", 1456, \"Research & Development\", 1, 4, \"Medical\", 1, 145, 1, \"Female\", 30, 2, 3, \"Healthcare Representative\", 1, \"Single\", 7484, 25796, 3, \"Y\", \"No\", 20, 4, 3, 80, 0, 23, 1, 2, 13, 12, 12, 8], [34, \"Yes\", \"Travel_Frequently\", 658, \"Research & Development\", 7, 3, \"Life Sciences\", 1, 147, 1, \"Male\", 66, 1, 2, \"Laboratory Technician\", 3, \"Single\", 6074, 22887, 1, \"Y\", \"Yes\", 24, 4, 4, 80, 0, 9, 3, 3, 9, 7, 0, 6], [54, \"No\", \"Non-Travel\", 142, \"Human Resources\", 26, 3, \"Human Resources\", 1, 148, 4, \"Female\", 30, 4, 4, \"Manager\", 4, \"Single\", 17328, 13871, 2, \"Y\", \"Yes\", 12, 3, 3, 80, 0, 23, 3, 3, 5, 3, 4, 4], [24, \"No\", \"Travel_Rarely\", 1127, \"Research & Development\", 18, 1, \"Life Sciences\", 1, 150, 2, \"Male\", 52, 3, 1, \"Laboratory Technician\", 3, \"Married\", 2774, 13257, 0, \"Y\", \"No\", 12, 3, 3, 80, 1, 6, 2, 3, 5, 3, 1, 2], [34, \"No\", \"Travel_Rarely\", 1031, \"Research & Development\", 6, 4, \"Life Sciences\", 1, 151, 3, \"Female\", 45, 2, 2, \"Research Scientist\", 2, \"Divorced\", 4505, 15000, 6, \"Y\", \"No\", 15, 3, 3, 80, 1, 12, 3, 3, 1, 0, 0, 0], [37, \"No\", \"Travel_Rarely\", 1189, \"Sales\", 3, 3, \"Life Sciences\", 1, 152, 3, \"Male\", 87, 3, 3, \"Sales Executive\", 4, \"Single\", 7428, 14506, 2, \"Y\", \"No\", 12, 3, 1, 80, 0, 12, 3, 3, 5, 3, 1, 3], [34, \"No\", \"Travel_Rarely\", 1354, \"Research & Development\", 5, 3, \"Medical\", 1, 153, 3, \"Female\", 45, 2, 3, \"Manager\", 1, \"Single\", 11631, 5615, 2, \"Y\", \"No\", 12, 3, 4, 80, 0, 14, 6, 3, 11, 10, 5, 8], [34, \"Yes\", \"Non-Travel\", 967, \"Research & Development\", 16, 4, \"Technical Degree\", 1, 1905, 4, \"Male\", 85, 1, 1, \"Research Scientist\", 1, \"Married\", 2307, 14460, 1, \"Y\", \"Yes\", 23, 4, 2, 80, 1, 5, 2, 3, 5, 2, 3, 0], [56, \"Yes\", \"Travel_Rarely\", 1162, \"Research & Development\", 24, 2, \"Life Sciences\", 1, 1907, 1, \"Male\", 97, 3, 1, \"Laboratory Technician\", 4, \"Single\", 2587, 10261, 1, \"Y\", \"No\", 16, 3, 4, 80, 0, 5, 3, 3, 4, 2, 1, 0], [36, \"No\", \"Travel_Rarely\", 335, \"Sales\", 17, 2, \"Marketing\", 1, 1908, 3, \"Male\", 33, 2, 2, \"Sales Executive\", 2, \"Married\", 5507, 16822, 2, \"Y\", \"No\", 16, 3, 3, 80, 2, 12, 1, 1, 4, 2, 1, 3], [41, \"No\", \"Travel_Rarely\", 337, \"Sales\", 8, 3, \"Marketing\", 1, 1909, 3, \"Female\", 54, 3, 2, \"Sales Executive\", 2, \"Married\", 4393, 26841, 5, \"Y\", \"No\", 21, 4, 3, 80, 1, 14, 3, 3, 5, 4, 1, 4], [42, \"No\", \"Travel_Rarely\", 1396, \"Research & Development\", 6, 3, \"Medical\", 1, 1911, 3, \"Male\", 83, 3, 3, \"Research Director\", 1, \"Married\", 13348, 14842, 9, \"Y\", \"No\", 13, 3, 2, 80, 1, 18, 3, 4, 13, 7, 5, 7], [31, \"No\", \"Travel_Rarely\", 1079, \"Sales\", 10, 2, \"Medical\", 1, 1912, 3, \"Female\", 86, 3, 2, \"Sales Executive\", 4, \"Divorced\", 6583, 20115, 2, \"Y\", \"Yes\", 11, 3, 4, 80, 1, 8, 2, 3, 5, 2, 1, 4], [34, \"No\", \"Travel_Rarely\", 735, \"Sales\", 3, 1, \"Medical\", 1, 1915, 4, \"Female\", 75, 2, 2, \"Sales Executive\", 4, \"Married\", 8103, 16495, 3, \"Y\", \"Yes\", 12, 3, 3, 80, 0, 9, 3, 2, 4, 2, 0, 1], [31, \"No\", \"Travel_Rarely\", 471, \"Research & Development\", 4, 3, \"Medical\", 1, 1916, 1, \"Female\", 62, 4, 1, \"Laboratory Technician\", 3, \"Divorced\", 3978, 16031, 8, \"Y\", \"No\", 12, 3, 2, 80, 1, 4, 0, 2, 2, 2, 2, 2], [26, \"No\", \"Travel_Frequently\", 1096, \"Research & Development\", 6, 3, \"Other\", 1, 1918, 3, \"Male\", 61, 4, 1, \"Laboratory Technician\", 4, \"Married\", 2544, 7102, 0, \"Y\", \"No\", 18, 3, 1, 80, 1, 8, 3, 3, 7, 7, 7, 7], [45, \"No\", \"Travel_Frequently\", 1297, \"Research & Development\", 1, 4, \"Medical\", 1, 1922, 2, \"Male\", 44, 3, 2, \"Healthcare Representative\", 3, \"Single\", 5399, 14511, 4, \"Y\", \"No\", 12, 3, 3, 80, 0, 12, 3, 3, 4, 2, 0, 3], [33, \"No\", \"Travel_Rarely\", 217, \"Sales\", 10, 4, \"Marketing\", 1, 1924, 2, \"Male\", 43, 3, 2, \"Sales Executive\", 3, \"Single\", 5487, 10410, 1, \"Y\", \"No\", 14, 3, 2, 80, 0, 10, 2, 2, 10, 4, 0, 9], [28, \"No\", \"Travel_Frequently\", 783, \"Sales\", 1, 2, \"Life Sciences\", 1, 1927, 3, \"Male\", 42, 2, 2, \"Sales Executive\", 4, \"Married\", 6834, 19255, 1, \"Y\", \"Yes\", 12, 3, 3, 80, 1, 7, 2, 3, 7, 7, 0, 7], [29, \"Yes\", \"Travel_Frequently\", 746, \"Sales\", 24, 3, \"Technical Degree\", 1, 1928, 3, \"Male\", 45, 4, 1, \"Sales Representative\", 1, \"Single\", 1091, 10642, 1, \"Y\", \"No\", 17, 3, 4, 80, 0, 1, 3, 3, 1, 0, 0, 0], [39, \"No\", \"Non-Travel\", 1251, \"Sales\", 21, 4, \"Life Sciences\", 1, 1929, 1, \"Female\", 32, 1, 2, \"Sales Executive\", 3, \"Married\", 5736, 3987, 6, \"Y\", \"No\", 19, 3, 3, 80, 1, 10, 1, 3, 3, 2, 1, 2], [27, \"No\", \"Travel_Rarely\", 1354, \"Research & Development\", 2, 4, \"Technical Degree\", 1, 1931, 2, \"Male\", 41, 3, 1, \"Research Scientist\", 2, \"Married\", 2226, 6073, 1, \"Y\", \"No\", 11, 3, 3, 80, 1, 6, 3, 2, 5, 3, 1, 2], [34, \"No\", \"Travel_Frequently\", 735, \"Research & Development\", 22, 4, \"Other\", 1, 1932, 3, \"Male\", 86, 2, 2, \"Research Scientist\", 4, \"Married\", 5747, 26496, 1, \"Y\", \"Yes\", 15, 3, 2, 80, 0, 16, 3, 3, 15, 10, 6, 11], [28, \"Yes\", \"Travel_Rarely\", 1475, \"Sales\", 13, 2, \"Marketing\", 1, 1933, 4, \"Female\", 84, 3, 2, \"Sales Executive\", 3, \"Single\", 9854, 23352, 3, \"Y\", \"Yes\", 11, 3, 4, 80, 0, 6, 0, 3, 2, 0, 2, 2], [47, \"No\", \"Non-Travel\", 1169, \"Research & Development\", 14, 4, \"Technical Degree\", 1, 1934, 3, \"Male\", 64, 3, 2, \"Research Scientist\", 2, \"Married\", 5467, 2125, 8, \"Y\", \"No\", 18, 3, 3, 80, 1, 16, 4, 4, 8, 7, 1, 7], [56, \"No\", \"Travel_Rarely\", 1443, \"Sales\", 11, 5, \"Marketing\", 1, 1935, 4, \"Female\", 89, 2, 2, \"Sales Executive\", 1, \"Married\", 5380, 20328, 4, \"Y\", \"No\", 16, 3, 3, 80, 1, 6, 3, 3, 0, 0, 0, 0], [39, \"No\", \"Travel_Rarely\", 867, \"Research & Development\", 9, 2, \"Medical\", 1, 1936, 1, \"Male\", 87, 3, 2, \"Manufacturing Director\", 1, \"Married\", 5151, 12315, 1, \"Y\", \"No\", 25, 4, 4, 80, 1, 10, 3, 3, 10, 0, 7, 9], [38, \"No\", \"Travel_Frequently\", 1394, \"Research & Development\", 8, 3, \"Medical\", 1, 1937, 4, \"Female\", 58, 2, 2, \"Research Scientist\", 2, \"Divorced\", 2133, 18115, 1, \"Y\", \"Yes\", 16, 3, 3, 80, 1, 20, 3, 3, 20, 11, 0, 7], [58, \"No\", \"Travel_Rarely\", 605, \"Sales\", 21, 3, \"Life Sciences\", 1, 1938, 4, \"Female\", 72, 3, 4, \"Manager\", 4, \"Married\", 17875, 11761, 4, \"Y\", \"Yes\", 13, 3, 3, 80, 1, 29, 2, 2, 1, 0, 0, 0], [32, \"Yes\", \"Travel_Frequently\", 238, \"Research & Development\", 5, 2, \"Life Sciences\", 1, 1939, 1, \"Female\", 47, 4, 1, \"Research Scientist\", 3, \"Single\", 2432, 15318, 3, \"Y\", \"Yes\", 14, 3, 1, 80, 0, 8, 2, 3, 4, 1, 0, 3], [38, \"No\", \"Travel_Rarely\", 1206, \"Research & Development\", 9, 2, \"Life Sciences\", 1, 1940, 2, \"Male\", 71, 3, 1, \"Research Scientist\", 4, \"Divorced\", 4771, 14293, 2, \"Y\", \"No\", 19, 3, 4, 80, 2, 10, 0, 4, 5, 2, 0, 3], [49, \"No\", \"Travel_Frequently\", 1064, \"Research & Development\", 2, 1, \"Life Sciences\", 1, 1941, 2, \"Male\", 42, 3, 5, \"Research Director\", 4, \"Married\", 19161, 13738, 3, \"Y\", \"No\", 15, 3, 4, 80, 0, 28, 3, 3, 5, 4, 4, 3], [42, \"No\", \"Travel_Rarely\", 419, \"Sales\", 12, 4, \"Marketing\", 1, 1943, 2, \"Male\", 77, 3, 2, \"Sales Executive\", 4, \"Divorced\", 5087, 2900, 3, \"Y\", \"Yes\", 12, 3, 3, 80, 2, 14, 4, 3, 0, 0, 0, 0], [27, \"Yes\", \"Travel_Frequently\", 1337, \"Human Resources\", 22, 3, \"Human Resources\", 1, 1944, 1, \"Female\", 58, 2, 1, \"Human Resources\", 2, \"Married\", 2863, 19555, 1, \"Y\", \"No\", 12, 3, 1, 80, 0, 1, 2, 3, 1, 0, 0, 0], [35, \"No\", \"Travel_Rarely\", 682, \"Sales\", 18, 4, \"Medical\", 1, 1945, 2, \"Male\", 71, 3, 2, \"Sales Executive\", 1, \"Married\", 5561, 15975, 0, \"Y\", \"No\", 16, 3, 4, 80, 1, 6, 2, 1, 5, 3, 0, 4], [28, \"No\", \"Non-Travel\", 1103, \"Research & Development\", 16, 3, \"Medical\", 1, 1947, 3, \"Male\", 49, 3, 1, \"Research Scientist\", 3, \"Single\", 2144, 2122, 1, \"Y\", \"No\", 14, 3, 3, 80, 0, 5, 3, 2, 5, 3, 1, 4], [31, \"No\", \"Non-Travel\", 976, \"Research & Development\", 3, 2, \"Medical\", 1, 1948, 3, \"Male\", 48, 3, 1, \"Research Scientist\", 1, \"Divorced\", 3065, 3995, 1, \"Y\", \"Yes\", 13, 3, 4, 80, 1, 4, 3, 4, 4, 2, 2, 3], [36, \"No\", \"Non-Travel\", 1351, \"Research & Development\", 9, 4, \"Life Sciences\", 1, 1949, 1, \"Male\", 66, 4, 1, \"Laboratory Technician\", 2, \"Married\", 2810, 9238, 1, \"Y\", \"No\", 22, 4, 2, 80, 0, 5, 3, 3, 5, 4, 0, 2], [34, \"No\", \"Travel_Rarely\", 937, \"Sales\", 1, 3, \"Marketing\", 1, 1950, 1, \"Male\", 32, 3, 3, \"Sales Executive\", 4, \"Single\", 9888, 6770, 1, \"Y\", \"No\", 21, 4, 1, 80, 0, 14, 3, 2, 14, 8, 2, 1], [34, \"No\", \"Travel_Rarely\", 1239, \"Sales\", 13, 4, \"Medical\", 1, 1951, 4, \"Male\", 39, 3, 3, \"Sales Executive\", 3, \"Divorced\", 8628, 22914, 1, \"Y\", \"No\", 18, 3, 3, 80, 1, 9, 2, 2, 8, 7, 1, 1], [26, \"No\", \"Travel_Rarely\", 157, \"Research & Development\", 1, 3, \"Medical\", 1, 1952, 3, \"Male\", 95, 3, 1, \"Laboratory Technician\", 1, \"Single\", 2867, 20006, 0, \"Y\", \"No\", 13, 3, 4, 80, 0, 8, 6, 2, 7, 7, 7, 6], [29, \"No\", \"Travel_Rarely\", 136, \"Research & Development\", 1, 3, \"Life Sciences\", 1, 1954, 1, \"Male\", 89, 3, 2, \"Healthcare Representative\", 1, \"Married\", 5373, 6225, 0, \"Y\", \"No\", 12, 3, 1, 80, 1, 6, 5, 2, 5, 3, 0, 2], [32, \"No\", \"Non-Travel\", 1146, \"Research & Development\", 15, 4, \"Medical\", 1, 1955, 3, \"Female\", 34, 3, 2, \"Healthcare Representative\", 4, \"Divorced\", 6667, 16542, 5, \"Y\", \"No\", 18, 3, 2, 80, 1, 9, 6, 3, 5, 1, 1, 2], [31, \"No\", \"Travel_Frequently\", 1125, \"Research & Development\", 1, 3, \"Life Sciences\", 1, 1956, 4, \"Male\", 48, 1, 2, \"Research Scientist\", 1, \"Married\", 5003, 5771, 1, \"Y\", \"No\", 21, 4, 2, 80, 0, 10, 6, 3, 10, 8, 8, 7], [28, \"Yes\", \"Travel_Rarely\", 1404, \"Research & Development\", 17, 3, \"Technical Degree\", 1, 1960, 3, \"Male\", 32, 2, 1, \"Laboratory Technician\", 4, \"Divorced\", 2367, 18779, 5, \"Y\", \"No\", 12, 3, 1, 80, 1, 6, 2, 2, 4, 1, 0, 3], [38, \"No\", \"Travel_Rarely\", 1404, \"Sales\", 1, 3, \"Life Sciences\", 1, 1961, 1, \"Male\", 59, 2, 1, \"Sales Representative\", 1, \"Single\", 2858, 11473, 4, \"Y\", \"No\", 14, 3, 1, 80, 0, 20, 3, 2, 1, 0, 0, 0], [35, \"No\", \"Travel_Rarely\", 1224, \"Sales\", 7, 4, \"Life Sciences\", 1, 1962, 3, \"Female\", 55, 3, 2, \"Sales Executive\", 4, \"Married\", 5204, 13586, 1, \"Y\", \"Yes\", 11, 3, 4, 80, 0, 10, 2, 3, 10, 8, 0, 9], [27, \"No\", \"Travel_Rarely\", 954, \"Sales\", 9, 3, \"Marketing\", 1, 1965, 4, \"Male\", 44, 3, 2, \"Sales Executive\", 4, \"Single\", 4105, 5099, 1, \"Y\", \"No\", 14, 3, 1, 80, 0, 7, 5, 3, 7, 7, 0, 7], [32, \"No\", \"Travel_Rarely\", 1373, \"Research & Development\", 5, 4, \"Life Sciences\", 1, 1966, 4, \"Male\", 56, 2, 2, \"Manufacturing Director\", 4, \"Single\", 9679, 10138, 8, \"Y\", \"No\", 24, 4, 2, 80, 0, 8, 1, 3, 1, 0, 0, 0], [31, \"Yes\", \"Travel_Frequently\", 754, \"Sales\", 26, 4, \"Marketing\", 1, 1967, 1, \"Male\", 63, 3, 2, \"Sales Executive\", 4, \"Married\", 5617, 21075, 1, \"Y\", \"Yes\", 11, 3, 3, 80, 0, 10, 4, 3, 10, 7, 0, 8], [53, \"Yes\", \"Travel_Rarely\", 1168, \"Sales\", 24, 4, \"Life Sciences\", 1, 1968, 1, \"Male\", 66, 3, 3, \"Sales Executive\", 1, \"Single\", 10448, 5843, 6, \"Y\", \"Yes\", 13, 3, 2, 80, 0, 15, 2, 2, 2, 2, 2, 2], [54, \"No\", \"Travel_Rarely\", 155, \"Research & Development\", 9, 2, \"Life Sciences\", 1, 1969, 1, \"Female\", 67, 3, 2, \"Research Scientist\", 3, \"Married\", 2897, 22474, 3, \"Y\", \"No\", 11, 3, 3, 80, 2, 9, 6, 2, 4, 3, 2, 3], [33, \"No\", \"Travel_Frequently\", 1303, \"Research & Development\", 7, 2, \"Life Sciences\", 1, 1970, 4, \"Male\", 36, 3, 2, \"Healthcare Representative\", 3, \"Divorced\", 5968, 18079, 1, \"Y\", \"No\", 20, 4, 3, 80, 3, 9, 2, 3, 9, 7, 2, 8], [43, \"No\", \"Travel_Rarely\", 574, \"Research & Development\", 11, 3, \"Life Sciences\", 1, 1971, 1, \"Male\", 30, 3, 3, \"Healthcare Representative\", 3, \"Married\", 7510, 16873, 1, \"Y\", \"No\", 17, 3, 2, 80, 1, 10, 1, 3, 10, 9, 0, 9], [38, \"No\", \"Travel_Frequently\", 1444, \"Human Resources\", 1, 4, \"Other\", 1, 1972, 4, \"Male\", 88, 3, 1, \"Human Resources\", 2, \"Married\", 2991, 5224, 0, \"Y\", \"Yes\", 11, 3, 2, 80, 1, 7, 2, 3, 6, 2, 1, 2], [55, \"No\", \"Travel_Rarely\", 189, \"Human Resources\", 26, 4, \"Human Resources\", 1, 1973, 3, \"Male\", 71, 4, 5, \"Manager\", 2, \"Married\", 19636, 25811, 4, \"Y\", \"Yes\", 18, 3, 1, 80, 1, 35, 0, 3, 10, 9, 1, 4], [31, \"No\", \"Travel_Rarely\", 1276, \"Research & Development\", 2, 1, \"Medical\", 1, 1974, 4, \"Female\", 59, 1, 1, \"Laboratory Technician\", 4, \"Divorced\", 1129, 17536, 1, \"Y\", \"Yes\", 11, 3, 3, 80, 3, 1, 4, 3, 1, 0, 0, 0], [39, \"No\", \"Travel_Rarely\", 119, \"Sales\", 15, 4, \"Marketing\", 1, 1975, 2, \"Male\", 77, 3, 4, \"Sales Executive\", 1, \"Single\", 13341, 25098, 0, \"Y\", \"No\", 12, 3, 1, 80, 0, 21, 3, 3, 20, 8, 11, 10], [42, \"No\", \"Non-Travel\", 335, \"Research & Development\", 23, 2, \"Life Sciences\", 1, 1976, 4, \"Male\", 37, 2, 2, \"Research Scientist\", 3, \"Single\", 4332, 14811, 1, \"Y\", \"No\", 12, 3, 4, 80, 0, 20, 2, 3, 20, 9, 3, 7], [31, \"No\", \"Non-Travel\", 697, \"Research & Development\", 10, 3, \"Medical\", 1, 1979, 3, \"Female\", 40, 3, 3, \"Research Director\", 3, \"Married\", 11031, 26862, 4, \"Y\", \"No\", 20, 4, 3, 80, 1, 13, 2, 4, 11, 7, 4, 8], [54, \"No\", \"Travel_Rarely\", 157, \"Research & Development\", 10, 3, \"Medical\", 1, 1980, 3, \"Female\", 77, 3, 2, \"Manufacturing Director\", 1, \"Single\", 4440, 25198, 6, \"Y\", \"Yes\", 19, 3, 4, 80, 0, 9, 3, 3, 5, 2, 1, 4], [24, \"No\", \"Travel_Rarely\", 771, \"Research & Development\", 1, 2, \"Life Sciences\", 1, 1981, 2, \"Male\", 45, 2, 2, \"Healthcare Representative\", 3, \"Single\", 4617, 14120, 1, \"Y\", \"No\", 12, 3, 2, 80, 0, 4, 2, 2, 4, 3, 1, 2], [23, \"No\", \"Travel_Rarely\", 571, \"Research & Development\", 12, 2, \"Other\", 1, 1982, 4, \"Male\", 78, 3, 1, \"Laboratory Technician\", 4, \"Single\", 2647, 13672, 1, \"Y\", \"No\", 13, 3, 3, 80, 0, 5, 6, 4, 5, 2, 1, 4], [40, \"No\", \"Travel_Frequently\", 692, \"Research & Development\", 11, 3, \"Technical Degree\", 1, 1985, 4, \"Female\", 73, 3, 2, \"Laboratory Technician\", 3, \"Married\", 6323, 26849, 1, \"Y\", \"No\", 11, 3, 1, 80, 1, 10, 2, 4, 10, 9, 9, 4], [40, \"No\", \"Travel_Rarely\", 444, \"Sales\", 2, 2, \"Marketing\", 1, 1986, 2, \"Female\", 92, 3, 2, \"Sales Executive\", 2, \"Married\", 5677, 4258, 3, \"Y\", \"No\", 14, 3, 3, 80, 1, 15, 4, 3, 11, 8, 5, 10], [25, \"No\", \"Travel_Rarely\", 309, \"Human Resources\", 2, 3, \"Human Resources\", 1, 1987, 3, \"Female\", 82, 3, 1, \"Human Resources\", 2, \"Married\", 2187, 19655, 4, \"Y\", \"No\", 14, 3, 3, 80, 0, 6, 3, 3, 2, 0, 1, 2], [30, \"No\", \"Travel_Rarely\", 911, \"Research & Development\", 1, 2, \"Medical\", 1, 1989, 4, \"Male\", 76, 3, 1, \"Laboratory Technician\", 2, \"Married\", 3748, 4077, 1, \"Y\", \"No\", 13, 3, 3, 80, 0, 12, 6, 2, 12, 8, 1, 7], [25, \"No\", \"Travel_Rarely\", 977, \"Research & Development\", 2, 1, \"Other\", 1, 1992, 4, \"Male\", 57, 3, 1, \"Laboratory Technician\", 3, \"Divorced\", 3977, 7298, 6, \"Y\", \"Yes\", 19, 3, 3, 80, 1, 7, 2, 2, 2, 2, 0, 2], [47, \"No\", \"Travel_Rarely\", 1180, \"Research & Development\", 25, 3, \"Medical\", 1, 1993, 1, \"Male\", 84, 3, 3, \"Healthcare Representative\", 3, \"Single\", 8633, 13084, 2, \"Y\", \"No\", 23, 4, 2, 80, 0, 25, 3, 3, 17, 14, 12, 11], [33, \"No\", \"Non-Travel\", 1313, \"Research & Development\", 1, 2, \"Medical\", 1, 1994, 2, \"Male\", 59, 2, 1, \"Laboratory Technician\", 3, \"Divorced\", 2008, 20439, 1, \"Y\", \"No\", 12, 3, 3, 80, 3, 1, 2, 2, 1, 1, 0, 0], [38, \"No\", \"Travel_Rarely\", 1321, \"Sales\", 1, 4, \"Life Sciences\", 1, 1995, 4, \"Male\", 86, 3, 2, \"Sales Executive\", 2, \"Married\", 4440, 7636, 0, \"Y\", \"No\", 15, 3, 1, 80, 2, 16, 3, 3, 15, 13, 5, 8], [31, \"No\", \"Travel_Rarely\", 1154, \"Sales\", 2, 2, \"Life Sciences\", 1, 1996, 1, \"Male\", 54, 3, 1, \"Sales Representative\", 3, \"Married\", 3067, 6393, 0, \"Y\", \"No\", 19, 3, 3, 80, 1, 3, 1, 3, 2, 2, 1, 2], [38, \"No\", \"Travel_Frequently\", 508, \"Research & Development\", 6, 4, \"Life Sciences\", 1, 1997, 1, \"Male\", 72, 2, 2, \"Manufacturing Director\", 3, \"Married\", 5321, 14284, 2, \"Y\", \"No\", 11, 3, 4, 80, 1, 10, 1, 3, 8, 3, 7, 7], [42, \"No\", \"Travel_Rarely\", 557, \"Research & Development\", 18, 4, \"Life Sciences\", 1, 1998, 4, \"Male\", 35, 3, 2, \"Research Scientist\", 1, \"Divorced\", 5410, 11189, 6, \"Y\", \"Yes\", 17, 3, 3, 80, 1, 9, 3, 2, 4, 3, 1, 2], [41, \"No\", \"Travel_Rarely\", 642, \"Research & Development\", 1, 3, \"Life Sciences\", 1, 1999, 4, \"Male\", 76, 3, 1, \"Research Scientist\", 4, \"Married\", 2782, 21412, 3, \"Y\", \"No\", 22, 4, 1, 80, 1, 12, 3, 3, 5, 3, 1, 0], [47, \"No\", \"Non-Travel\", 1162, \"Research & Development\", 1, 1, \"Medical\", 1, 2000, 3, \"Female\", 98, 3, 3, \"Research Director\", 2, \"Married\", 11957, 17231, 0, \"Y\", \"No\", 18, 3, 1, 80, 2, 14, 3, 1, 13, 8, 5, 12], [35, \"No\", \"Travel_Rarely\", 1490, \"Research & Development\", 11, 4, \"Medical\", 1, 2003, 4, \"Male\", 43, 3, 1, \"Laboratory Technician\", 3, \"Married\", 2660, 20232, 7, \"Y\", \"Yes\", 11, 3, 3, 80, 1, 5, 3, 3, 2, 2, 2, 2], [22, \"No\", \"Travel_Rarely\", 581, \"Research & Development\", 1, 2, \"Life Sciences\", 1, 2007, 4, \"Male\", 63, 3, 1, \"Research Scientist\", 3, \"Single\", 3375, 17624, 0, \"Y\", \"No\", 12, 3, 4, 80, 0, 4, 2, 4, 3, 2, 1, 2], [35, \"No\", \"Travel_Rarely\", 1395, \"Research & Development\", 9, 4, \"Medical\", 1, 2008, 2, \"Male\", 48, 3, 2, \"Research Scientist\", 3, \"Single\", 5098, 18698, 1, \"Y\", \"No\", 19, 3, 2, 80, 0, 10, 5, 3, 10, 7, 0, 8], [33, \"No\", \"Travel_Rarely\", 501, \"Research & Development\", 15, 2, \"Medical\", 1, 2009, 2, \"Female\", 95, 3, 2, \"Healthcare Representative\", 4, \"Married\", 4878, 21653, 0, \"Y\", \"Yes\", 13, 3, 1, 80, 1, 10, 6, 3, 9, 7, 8, 1], [32, \"No\", \"Travel_Rarely\", 267, \"Research & Development\", 29, 4, \"Life Sciences\", 1, 2010, 3, \"Female\", 49, 2, 1, \"Laboratory Technician\", 2, \"Single\", 2837, 15919, 1, \"Y\", \"No\", 13, 3, 3, 80, 0, 6, 3, 3, 6, 2, 4, 1], [40, \"No\", \"Travel_Rarely\", 543, \"Research & Development\", 1, 4, \"Life Sciences\", 1, 2012, 1, \"Male\", 83, 3, 1, \"Laboratory Technician\", 4, \"Married\", 2406, 4060, 8, \"Y\", \"No\", 19, 3, 3, 80, 2, 8, 3, 2, 1, 0, 0, 0], [32, \"No\", \"Travel_Rarely\", 234, \"Sales\", 1, 4, \"Medical\", 1, 2013, 2, \"Male\", 68, 2, 1, \"Sales Representative\", 2, \"Married\", 2269, 18024, 0, \"Y\", \"No\", 14, 3, 2, 80, 1, 3, 2, 3, 2, 2, 2, 2], [39, \"No\", \"Travel_Rarely\", 116, \"Research & Development\", 24, 1, \"Life Sciences\", 1, 2014, 1, \"Male\", 52, 3, 2, \"Research Scientist\", 4, \"Single\", 4108, 5340, 7, \"Y\", \"No\", 13, 3, 1, 80, 0, 18, 2, 3, 7, 7, 1, 7], [38, \"No\", \"Travel_Rarely\", 201, \"Research & Development\", 10, 3, \"Medical\", 1, 2015, 2, \"Female\", 99, 1, 3, \"Research Director\", 3, \"Married\", 13206, 3376, 3, \"Y\", \"No\", 12, 3, 1, 80, 1, 20, 3, 3, 18, 16, 1, 11], [32, \"No\", \"Travel_Rarely\", 801, \"Sales\", 1, 4, \"Marketing\", 1, 2016, 3, \"Female\", 48, 3, 3, \"Sales Executive\", 4, \"Married\", 10422, 24032, 1, \"Y\", \"No\", 19, 3, 3, 80, 2, 14, 3, 3, 14, 10, 5, 7], [37, \"No\", \"Travel_Rarely\", 161, \"Research & Development\", 10, 3, \"Life Sciences\", 1, 2017, 3, \"Female\", 42, 4, 3, \"Research Director\", 4, \"Married\", 13744, 15471, 1, \"Y\", \"Yes\", 25, 4, 1, 80, 1, 16, 2, 3, 16, 11, 6, 8], [25, \"No\", \"Travel_Rarely\", 1382, \"Sales\", 8, 2, \"Other\", 1, 2018, 1, \"Female\", 85, 3, 2, \"Sales Executive\", 3, \"Divorced\", 4907, 13684, 0, \"Y\", \"Yes\", 22, 4, 2, 80, 1, 6, 3, 2, 5, 3, 0, 4], [52, \"No\", \"Non-Travel\", 585, \"Sales\", 29, 4, \"Life Sciences\", 1, 2019, 1, \"Male\", 40, 3, 1, \"Sales Representative\", 4, \"Divorced\", 3482, 19788, 2, \"Y\", \"No\", 15, 3, 2, 80, 2, 16, 3, 2, 9, 8, 0, 0], [44, \"No\", \"Travel_Rarely\", 1037, \"Research & Development\", 1, 3, \"Medical\", 1, 2020, 2, \"Male\", 42, 3, 1, \"Research Scientist\", 4, \"Single\", 2436, 13422, 6, \"Y\", \"Yes\", 12, 3, 3, 80, 0, 6, 2, 3, 4, 3, 1, 2], [21, \"No\", \"Travel_Rarely\", 501, \"Sales\", 5, 1, \"Medical\", 1, 2021, 3, \"Male\", 58, 3, 1, \"Sales Representative\", 1, \"Single\", 2380, 25479, 1, \"Y\", \"Yes\", 11, 3, 4, 80, 0, 2, 6, 3, 2, 2, 1, 2], [39, \"No\", \"Non-Travel\", 105, \"Research & Development\", 9, 3, \"Life Sciences\", 1, 2022, 4, \"Male\", 87, 3, 5, \"Manager\", 4, \"Single\", 19431, 15302, 2, \"Y\", \"No\", 13, 3, 3, 80, 0, 21, 3, 2, 6, 0, 1, 3], [23, \"Yes\", \"Travel_Frequently\", 638, \"Sales\", 9, 3, \"Marketing\", 1, 2023, 4, \"Male\", 33, 3, 1, \"Sales Representative\", 1, \"Married\", 1790, 26956, 1, \"Y\", \"No\", 19, 3, 1, 80, 1, 1, 3, 2, 1, 0, 1, 0], [36, \"No\", \"Travel_Rarely\", 557, \"Sales\", 3, 3, \"Medical\", 1, 2024, 1, \"Female\", 94, 2, 3, \"Sales Executive\", 4, \"Married\", 7644, 12695, 0, \"Y\", \"No\", 19, 3, 3, 80, 2, 10, 2, 3, 9, 7, 3, 4], [36, \"No\", \"Travel_Frequently\", 688, \"Research & Development\", 4, 2, \"Life Sciences\", 1, 2025, 4, \"Female\", 97, 3, 2, \"Manufacturing Director\", 2, \"Divorced\", 5131, 9192, 7, \"Y\", \"No\", 13, 3, 2, 80, 3, 18, 3, 3, 4, 2, 0, 2], [56, \"No\", \"Non-Travel\", 667, \"Research & Development\", 1, 4, \"Life Sciences\", 1, 2026, 3, \"Male\", 57, 3, 2, \"Healthcare Representative\", 3, \"Divorced\", 6306, 26236, 1, \"Y\", \"No\", 21, 4, 1, 80, 1, 13, 2, 2, 13, 12, 1, 9], [29, \"Yes\", \"Travel_Rarely\", 1092, \"Research & Development\", 1, 4, \"Medical\", 1, 2027, 1, \"Male\", 36, 3, 1, \"Research Scientist\", 4, \"Married\", 4787, 26124, 9, \"Y\", \"Yes\", 14, 3, 2, 80, 3, 4, 3, 4, 2, 2, 2, 2], [42, \"No\", \"Travel_Rarely\", 300, \"Research & Development\", 2, 3, \"Life Sciences\", 1, 2031, 1, \"Male\", 56, 3, 5, \"Manager\", 3, \"Married\", 18880, 17312, 5, \"Y\", \"No\", 11, 3, 1, 80, 0, 24, 2, 2, 22, 6, 4, 14], [56, \"Yes\", \"Travel_Rarely\", 310, \"Research & Development\", 7, 2, \"Technical Degree\", 1, 2032, 4, \"Male\", 72, 3, 1, \"Laboratory Technician\", 3, \"Married\", 2339, 3666, 8, \"Y\", \"No\", 11, 3, 4, 80, 1, 14, 4, 1, 10, 9, 9, 8], [41, \"No\", \"Travel_Rarely\", 582, \"Research & Development\", 28, 4, \"Life Sciences\", 1, 2034, 1, \"Female\", 60, 2, 4, \"Manufacturing Director\", 2, \"Married\", 13570, 5640, 0, \"Y\", \"No\", 23, 4, 3, 80, 1, 21, 3, 3, 20, 7, 0, 10], [34, \"No\", \"Travel_Rarely\", 704, \"Sales\", 28, 3, \"Marketing\", 1, 2035, 4, \"Female\", 95, 2, 2, \"Sales Executive\", 3, \"Married\", 6712, 8978, 1, \"Y\", \"No\", 21, 4, 4, 80, 2, 8, 2, 3, 8, 7, 1, 7], [36, \"No\", \"Non-Travel\", 301, \"Sales\", 15, 4, \"Marketing\", 1, 2036, 4, \"Male\", 88, 1, 2, \"Sales Executive\", 4, \"Divorced\", 5406, 10436, 1, \"Y\", \"No\", 24, 4, 1, 80, 1, 15, 4, 2, 15, 12, 11, 11], [41, \"No\", \"Travel_Rarely\", 930, \"Sales\", 3, 3, \"Life Sciences\", 1, 2037, 3, \"Male\", 57, 2, 2, \"Sales Executive\", 2, \"Divorced\", 8938, 12227, 2, \"Y\", \"No\", 11, 3, 3, 80, 1, 14, 5, 3, 5, 4, 0, 4], [32, \"No\", \"Travel_Rarely\", 529, \"Research & Development\", 2, 3, \"Technical Degree\", 1, 2038, 4, \"Male\", 78, 3, 1, \"Research Scientist\", 1, \"Single\", 2439, 11288, 1, \"Y\", \"No\", 14, 3, 4, 80, 0, 4, 4, 3, 4, 2, 1, 2], [35, \"No\", \"Travel_Rarely\", 1146, \"Human Resources\", 26, 4, \"Life Sciences\", 1, 2040, 3, \"Female\", 31, 3, 3, \"Human Resources\", 4, \"Single\", 8837, 16642, 1, \"Y\", \"Yes\", 16, 3, 3, 80, 0, 9, 2, 3, 9, 0, 1, 7], [38, \"No\", \"Travel_Rarely\", 345, \"Sales\", 10, 2, \"Life Sciences\", 1, 2041, 1, \"Female\", 100, 3, 2, \"Sales Executive\", 4, \"Married\", 5343, 5982, 1, \"Y\", \"No\", 11, 3, 3, 80, 1, 10, 1, 3, 10, 7, 1, 9], [50, \"Yes\", \"Travel_Frequently\", 878, \"Sales\", 1, 4, \"Life Sciences\", 1, 2044, 2, \"Male\", 94, 3, 2, \"Sales Executive\", 3, \"Divorced\", 6728, 14255, 7, \"Y\", \"No\", 12, 3, 4, 80, 2, 12, 3, 3, 6, 3, 0, 1], [36, \"No\", \"Travel_Rarely\", 1120, \"Sales\", 11, 4, \"Marketing\", 1, 2045, 2, \"Female\", 100, 2, 2, \"Sales Executive\", 4, \"Married\", 6652, 14369, 4, \"Y\", \"No\", 13, 3, 1, 80, 1, 8, 2, 2, 6, 3, 0, 0], [45, \"No\", \"Travel_Rarely\", 374, \"Sales\", 20, 3, \"Life Sciences\", 1, 2046, 4, \"Female\", 50, 3, 2, \"Sales Executive\", 3, \"Single\", 4850, 23333, 8, \"Y\", \"No\", 15, 3, 3, 80, 0, 8, 3, 3, 5, 3, 0, 1], [40, \"No\", \"Travel_Rarely\", 1322, \"Research & Development\", 2, 4, \"Life Sciences\", 1, 2048, 3, \"Male\", 52, 2, 1, \"Research Scientist\", 3, \"Single\", 2809, 2725, 2, \"Y\", \"No\", 14, 3, 4, 80, 0, 8, 2, 3, 2, 2, 2, 2], [35, \"No\", \"Travel_Frequently\", 1199, \"Research & Development\", 18, 4, \"Life Sciences\", 1, 2049, 3, \"Male\", 80, 3, 2, \"Healthcare Representative\", 3, \"Married\", 5689, 24594, 1, \"Y\", \"Yes\", 14, 3, 4, 80, 2, 10, 2, 4, 10, 2, 0, 2], [40, \"No\", \"Travel_Rarely\", 1194, \"Research & Development\", 2, 4, \"Medical\", 1, 2051, 3, \"Female\", 98, 3, 1, \"Research Scientist\", 3, \"Married\", 2001, 12549, 2, \"Y\", \"No\", 14, 3, 2, 80, 3, 20, 2, 3, 5, 3, 0, 2], [35, \"No\", \"Travel_Rarely\", 287, \"Research & Development\", 1, 4, \"Life Sciences\", 1, 2052, 3, \"Female\", 62, 1, 1, \"Research Scientist\", 4, \"Married\", 2977, 8952, 1, \"Y\", \"No\", 12, 3, 4, 80, 1, 4, 5, 3, 4, 3, 1, 1], [29, \"No\", \"Travel_Rarely\", 1378, \"Research & Development\", 13, 2, \"Other\", 1, 2053, 4, \"Male\", 46, 2, 2, \"Laboratory Technician\", 2, \"Married\", 4025, 23679, 4, \"Y\", \"Yes\", 13, 3, 1, 80, 1, 10, 2, 3, 4, 3, 0, 3], [29, \"No\", \"Travel_Rarely\", 468, \"Research & Development\", 28, 4, \"Medical\", 1, 2054, 4, \"Female\", 73, 2, 1, \"Research Scientist\", 1, \"Single\", 3785, 8489, 1, \"Y\", \"No\", 14, 3, 2, 80, 0, 5, 3, 1, 5, 4, 0, 4], [50, \"Yes\", \"Travel_Rarely\", 410, \"Sales\", 28, 3, \"Marketing\", 1, 2055, 4, \"Male\", 39, 2, 3, \"Sales Executive\", 1, \"Divorced\", 10854, 16586, 4, \"Y\", \"Yes\", 13, 3, 2, 80, 1, 20, 3, 3, 3, 2, 2, 0], [39, \"No\", \"Travel_Rarely\", 722, \"Sales\", 24, 1, \"Marketing\", 1, 2056, 2, \"Female\", 60, 2, 4, \"Sales Executive\", 4, \"Married\", 12031, 8828, 0, \"Y\", \"No\", 11, 3, 1, 80, 1, 21, 2, 2, 20, 9, 9, 6], [31, \"No\", \"Non-Travel\", 325, \"Research & Development\", 5, 3, \"Medical\", 1, 2057, 2, \"Male\", 74, 3, 2, \"Manufacturing Director\", 1, \"Single\", 9936, 3787, 0, \"Y\", \"No\", 19, 3, 2, 80, 0, 10, 2, 3, 9, 4, 1, 7], [26, \"No\", \"Travel_Rarely\", 1167, \"Sales\", 5, 3, \"Other\", 1, 2060, 4, \"Female\", 30, 2, 1, \"Sales Representative\", 3, \"Single\", 2966, 21378, 0, \"Y\", \"No\", 18, 3, 4, 80, 0, 5, 2, 3, 4, 2, 0, 0], [36, \"No\", \"Travel_Frequently\", 884, \"Research & Development\", 23, 2, \"Medical\", 1, 2061, 3, \"Male\", 41, 4, 2, \"Laboratory Technician\", 4, \"Married\", 2571, 12290, 4, \"Y\", \"No\", 17, 3, 3, 80, 1, 17, 3, 3, 5, 2, 0, 3], [39, \"No\", \"Travel_Rarely\", 613, \"Research & Development\", 6, 1, \"Medical\", 1, 2062, 4, \"Male\", 42, 2, 3, \"Healthcare Representative\", 1, \"Married\", 9991, 21457, 4, \"Y\", \"No\", 15, 3, 1, 80, 1, 9, 5, 3, 7, 7, 1, 7], [27, \"No\", \"Travel_Rarely\", 155, \"Research & Development\", 4, 3, \"Life Sciences\", 1, 2064, 2, \"Male\", 87, 4, 2, \"Manufacturing Director\", 2, \"Married\", 6142, 5174, 1, \"Y\", \"Yes\", 20, 4, 2, 80, 1, 6, 0, 3, 6, 2, 0, 3], [49, \"No\", \"Travel_Frequently\", 1023, \"Sales\", 2, 3, \"Medical\", 1, 2065, 4, \"Male\", 63, 2, 2, \"Sales Executive\", 2, \"Married\", 5390, 13243, 2, \"Y\", \"No\", 14, 3, 4, 80, 0, 17, 3, 2, 9, 6, 0, 8], [34, \"No\", \"Travel_Rarely\", 628, \"Research & Development\", 8, 3, \"Medical\", 1, 2068, 2, \"Male\", 82, 4, 2, \"Laboratory Technician\", 3, \"Married\", 4404, 10228, 2, \"Y\", \"No\", 12, 3, 1, 80, 0, 6, 3, 4, 4, 3, 1, 2]];\n",
       "\n",
       "    // Define the dt_args\n",
       "    let dt_args = {\"order\": [], \"fnInfoCallback\": function (oSettings, iStart, iEnd, iMax, iTotal, sPre) { return sPre + ' (<a href=\"https://mwouts.github.io/itables/downsampling.html\">downsampled</a> from 1,470x35 to 234x35 as maxBytes=65536)'; }};\n",
       "    dt_args[\"data\"] = data;\n",
       "\n",
       "    $(document).ready(function () {\n",
       "        \n",
       "        $('#df4fd0b8-9161-4ab4-8ce1-d4de6986094e').DataTable(dt_args);\n",
       "    });\n",
       "</script>\n",
       "</div>\n"
      ],
      "text/plain": [
       "<IPython.core.display.HTML object>"
      ]
     },
     "metadata": {},
     "output_type": "display_data"
    }
   ],
   "source": [
    "df.dT() # may not work if az_common_funcs not present. If so, please ignore."
   ]
  },
  {
   "cell_type": "markdown",
   "id": "b03eb3c3",
   "metadata": {
    "heading_collapsed": true
   },
   "source": [
    "## EDA + PLOTS\n",
    "\n",
    "Visualizing various aspects of the data to gain surface level insights"
   ]
  },
  {
   "cell_type": "code",
   "execution_count": 7,
   "id": "37b075f9",
   "metadata": {
    "ExecuteTime": {
     "end_time": "2023-05-10T01:13:14.975282Z",
     "start_time": "2023-05-10T01:13:14.914428Z"
    },
    "hidden": true
   },
   "outputs": [
    {
     "data": {
      "image/png": "[encoded data removed]",
      "text/plain": [
       "<Figure size 432x288 with 1 Axes>"
      ]
     },
     "metadata": {},
     "output_type": "display_data"
    }
   ],
   "source": [
    "colors = [\"#000E54\",\"#F76900\"]\n",
    "\n",
    "fig = plt.figure()\n",
    "fig.patch.set_facecolor('black')\n",
    "\n",
    "plt.pie(df.Attrition.value_counts(), labels = df.Attrition.value_counts().index, colors = colors, autopct='%.0f%%', textprops={'color':\"w\"})\n",
    "plt.show()"
   ]
  },
  {
   "cell_type": "code",
   "execution_count": 8,
   "id": "b979bae0",
   "metadata": {
    "ExecuteTime": {
     "end_time": "2023-05-10T01:13:14.978997Z",
     "start_time": "2023-05-10T01:13:14.976482Z"
    },
    "hidden": true
   },
   "outputs": [
    {
     "name": "stdout",
     "output_type": "stream",
     "text": [
      "2023-05-09 21:13:14,977 :: [INFO] :: MonthlyIncome :: int\n",
      "DailyRate :: int\n",
      "JobSatifaction :: int\n",
      "Age :: int\n",
      "OverTime :: bool\n",
      "EnvironmentSatifaction :: bool\n",
      "NumCompaniesWorked :: int\n",
      "DistanceFromHome :: float\n",
      "PercentSalaryHike :: float\n"
     ]
    }
   ],
   "source": [
    "log_info(\"\\n\".join([\"MonthlyIncome :: int\",\n",
    "\"DailyRate :: int\",\n",
    "\"JobSatifaction :: int\",\n",
    "\"Age :: int\",\n",
    "\"OverTime :: bool\",\n",
    "\"EnvironmentSatifaction :: bool\",\n",
    "\"NumCompaniesWorked :: int\",\n",
    "\"DistanceFromHome :: float\",\n",
    "\"PercentSalaryHike :: float\"]))"
   ]
  },
  {
   "cell_type": "code",
   "execution_count": 9,
   "id": "0e41813b",
   "metadata": {
    "ExecuteTime": {
     "end_time": "2023-05-10T01:13:14.989304Z",
     "start_time": "2023-05-10T01:13:14.981829Z"
    },
    "hidden": true
   },
   "outputs": [
    {
     "name": "stdout",
     "output_type": "stream",
     "text": [
      "<class 'pandas.core.frame.DataFrame'>\n",
      "RangeIndex: 1470 entries, 0 to 1469\n",
      "Data columns (total 35 columns):\n",
      " #   Column                    Non-Null Count  Dtype \n",
      "---  ------                    --------------  ----- \n",
      " 0   Age                       1470 non-null   int64 \n",
      " 1   Attrition                 1470 non-null   object\n",
      " 2   BusinessTravel            1470 non-null   object\n",
      " 3   DailyRate                 1470 non-null   int64 \n",
      " 4   Department                1470 non-null   object\n",
      " 5   DistanceFromHome          1470 non-null   int64 \n",
      " 6   Education                 1470 non-null   int64 \n",
      " 7   EducationField            1470 non-null   object\n",
      " 8   EmployeeCount             1470 non-null   int64 \n",
      " 9   EmployeeNumber            1470 non-null   int64 \n",
      " 10  EnvironmentSatisfaction   1470 non-null   int64 \n",
      " 11  Gender                    1470 non-null   object\n",
      " 12  HourlyRate                1470 non-null   int64 \n",
      " 13  JobInvolvement            1470 non-null   int64 \n",
      " 14  JobLevel                  1470 non-null   int64 \n",
      " 15  JobRole                   1470 non-null   object\n",
      " 16  JobSatisfaction           1470 non-null   int64 \n",
      " 17  MaritalStatus             1470 non-null   object\n",
      " 18  MonthlyIncome             1470 non-null   int64 \n",
      " 19  MonthlyRate               1470 non-null   int64 \n",
      " 20  NumCompaniesWorked        1470 non-null   int64 \n",
      " 21  Over18                    1470 non-null   object\n",
      " 22  OverTime                  1470 non-null   object\n",
      " 23  PercentSalaryHike         1470 non-null   int64 \n",
      " 24  PerformanceRating         1470 non-null   int64 \n",
      " 25  RelationshipSatisfaction  1470 non-null   int64 \n",
      " 26  StandardHours             1470 non-null   int64 \n",
      " 27  StockOptionLevel          1470 non-null   int64 \n",
      " 28  TotalWorkingYears         1470 non-null   int64 \n",
      " 29  TrainingTimesLastYear     1470 non-null   int64 \n",
      " 30  WorkLifeBalance           1470 non-null   int64 \n",
      " 31  YearsAtCompany            1470 non-null   int64 \n",
      " 32  YearsInCurrentRole        1470 non-null   int64 \n",
      " 33  YearsSinceLastPromotion   1470 non-null   int64 \n",
      " 34  YearsWithCurrManager      1470 non-null   int64 \n",
      "dtypes: int64(26), object(9)\n",
      "memory usage: 402.1+ KB\n"
     ]
    }
   ],
   "source": [
    "df.info()"
   ]
  },
  {
   "cell_type": "code",
   "execution_count": 10,
   "id": "609d278f",
   "metadata": {
    "ExecuteTime": {
     "end_time": "2023-05-10T01:13:15.086284Z",
     "start_time": "2023-05-10T01:13:14.990507Z"
    },
    "hidden": true
   },
   "outputs": [
    {
     "data": {
      "text/plain": [
       "<AxesSubplot:xlabel='MonthlyIncome', ylabel='Count'>"
      ]
     },
     "execution_count": 10,
     "metadata": {},
     "output_type": "execute_result"
    },
    {
     "data": {
      "image/png": "[encoded data removed]",
      "text/plain": [
       "<Figure size 432x288 with 1 Axes>"
      ]
     },
     "metadata": {},
     "output_type": "display_data"
    }
   ],
   "source": [
    "sns.histplot(x=\"MonthlyIncome\", bins=12, data=df)"
   ]
  },
  {
   "cell_type": "code",
   "execution_count": 11,
   "id": "771545d3",
   "metadata": {
    "ExecuteTime": {
     "end_time": "2023-05-10T01:13:15.137505Z",
     "start_time": "2023-05-10T01:13:15.087214Z"
    },
    "hidden": true
   },
   "outputs": [
    {
     "data": {
      "text/plain": [
       "<AxesSubplot:xlabel='Attrition', ylabel='Age'>"
      ]
     },
     "execution_count": 11,
     "metadata": {},
     "output_type": "execute_result"
    },
    {
     "data": {
      "image/png": "[encoded data removed]",
      "text/plain": [
       "<Figure size 432x288 with 1 Axes>"
      ]
     },
     "metadata": {},
     "output_type": "display_data"
    }
   ],
   "source": [
    "sns.boxplot(x='Attrition', y='Age', data=df)"
   ]
  },
  {
   "cell_type": "code",
   "execution_count": 12,
   "id": "bd8b7e8f",
   "metadata": {
    "ExecuteTime": {
     "end_time": "2023-05-10T01:13:15.205266Z",
     "start_time": "2023-05-10T01:13:15.138452Z"
    },
    "hidden": true
   },
   "outputs": [
    {
     "data": {
      "text/plain": [
       "<AxesSubplot:xlabel='JobSatisfaction', ylabel='Attrition'>"
      ]
     },
     "execution_count": 12,
     "metadata": {},
     "output_type": "execute_result"
    },
    {
     "data": {
      "image/png": "[encoded data removed]",
      "text/plain": [
       "<Figure size 432x288 with 1 Axes>"
      ]
     },
     "metadata": {},
     "output_type": "display_data"
    }
   ],
   "source": [
    "sns.boxplot(x='JobSatisfaction', y='Attrition', data=df)"
   ]
  },
  {
   "cell_type": "code",
   "execution_count": 13,
   "id": "98c2bbdd",
   "metadata": {
    "ExecuteTime": {
     "end_time": "2023-05-10T01:13:15.312019Z",
     "start_time": "2023-05-10T01:13:15.206169Z"
    },
    "hidden": true
   },
   "outputs": [
    {
     "data": {
      "text/plain": [
       "<AxesSubplot:xlabel='JobSatisfaction', ylabel='Percent'>"
      ]
     },
     "execution_count": 13,
     "metadata": {},
     "output_type": "execute_result"
    },
    {
     "data": {
      "image/png": "[encoded data removed]",
      "text/plain": [
       "<Figure size 432x288 with 1 Axes>"
      ]
     },
     "metadata": {},
     "output_type": "display_data"
    }
   ],
   "source": [
    "sns.histplot(x='JobSatisfaction', hue='Attrition', multiple='dodge', stat='percent', log_scale=False, common_norm=False, data=df)"
   ]
  },
  {
   "cell_type": "code",
   "execution_count": 14,
   "id": "ca302b4f",
   "metadata": {
    "ExecuteTime": {
     "end_time": "2023-05-10T01:13:15.377902Z",
     "start_time": "2023-05-10T01:13:15.313133Z"
    },
    "hidden": true
   },
   "outputs": [
    {
     "data": {
      "text/plain": [
       "<AxesSubplot:xlabel='OverTime', ylabel='Probability'>"
      ]
     },
     "execution_count": 14,
     "metadata": {},
     "output_type": "execute_result"
    },
    {
     "data": {
      "image/png": "[encoded data removed]",
      "text/plain": [
       "<Figure size 432x288 with 1 Axes>"
      ]
     },
     "metadata": {},
     "output_type": "display_data"
    }
   ],
   "source": [
    "\n",
    "sns.histplot(x='OverTime', hue='Attrition', multiple='dodge', stat='probability', log_scale=False, common_norm=False, data=df)"
   ]
  },
  {
   "cell_type": "code",
   "execution_count": 15,
   "id": "f1c6c370",
   "metadata": {
    "ExecuteTime": {
     "end_time": "2023-05-10T01:13:15.679879Z",
     "start_time": "2023-05-10T01:13:15.378738Z"
    },
    "hidden": true
   },
   "outputs": [
    {
     "data": {
      "text/plain": [
       "<seaborn.axisgrid.FacetGrid at 0x7fa0b309dc10>"
      ]
     },
     "execution_count": 15,
     "metadata": {},
     "output_type": "execute_result"
    },
    {
     "data": {
      "image/png": "[encoded data removed]",
      "text/plain": [
       "<Figure size 432x216 with 2 Axes>"
      ]
     },
     "metadata": {},
     "output_type": "display_data"
    }
   ],
   "source": [
    "sns.displot(\n",
    "    df, x=\"PercentSalaryHike\", col=\"Attrition\", binwidth=3,\n",
    "     height=3, kind=\"hist\", kde=True, stat='percent', facet_kws=dict(margin_titles=True), \n",
    ")"
   ]
  },
  {
   "cell_type": "code",
   "execution_count": 16,
   "id": "2214b8e7",
   "metadata": {
    "ExecuteTime": {
     "end_time": "2023-05-10T01:13:15.682684Z",
     "start_time": "2023-05-10T01:13:15.681123Z"
    },
    "hidden": true
   },
   "outputs": [],
   "source": [
    "# sns.barplot(x='NumCompaniesWorked', hue='Attrition', multiple='dodge', stat='probability', log_scale=False, common_norm=False, data=df)\n",
    "# sns.boxplot(x='NumCompaniesWorked', y='Attrition', data=df)\n",
    "# fig, ax = plt.subplots(figsize=(18, 12))\n",
    "# sns.barplot(y='PercentSalaryHike', x='Attrition', hue='NumCompaniesWorked', data=df, ax=ax)"
   ]
  },
  {
   "cell_type": "code",
   "execution_count": 17,
   "id": "6b9c18e9",
   "metadata": {
    "ExecuteTime": {
     "end_time": "2023-05-10T01:13:15.685816Z",
     "start_time": "2023-05-10T01:13:15.684106Z"
    },
    "hidden": true
   },
   "outputs": [],
   "source": [
    "# NumCompaniesWorked, PercentSalaryHike, DistanceFromHome"
   ]
  },
  {
   "cell_type": "code",
   "execution_count": 18,
   "id": "edc4fa72",
   "metadata": {
    "ExecuteTime": {
     "end_time": "2023-05-10T01:13:15.759616Z",
     "start_time": "2023-05-10T01:13:15.686564Z"
    },
    "hidden": true
   },
   "outputs": [
    {
     "data": {
      "text/plain": [
       "<AxesSubplot:xlabel='Age', ylabel='Count'>"
      ]
     },
     "execution_count": 18,
     "metadata": {},
     "output_type": "execute_result"
    },
    {
     "data": {
      "image/png": "[encoded data removed]",
      "text/plain": [
       "<Figure size 432x288 with 1 Axes>"
      ]
     },
     "metadata": {},
     "output_type": "display_data"
    }
   ],
   "source": [
    "sns.histplot(x=\"Age\", bins=10, data=df)"
   ]
  },
  {
   "cell_type": "code",
   "execution_count": 19,
   "id": "f9f6e497",
   "metadata": {
    "ExecuteTime": {
     "end_time": "2023-05-10T01:13:15.804220Z",
     "start_time": "2023-05-10T01:13:15.760472Z"
    },
    "hidden": true
   },
   "outputs": [
    {
     "data": {
      "text/plain": [
       "<AxesSubplot:xlabel='Attrition', ylabel='count'>"
      ]
     },
     "execution_count": 19,
     "metadata": {},
     "output_type": "execute_result"
    },
    {
     "data": {
      "image/png": "[encoded data removed]",
      "text/plain": [
       "<Figure size 432x288 with 1 Axes>"
      ]
     },
     "metadata": {},
     "output_type": "display_data"
    }
   ],
   "source": [
    "sns.countplot(x='Attrition', data=df)"
   ]
  },
  {
   "cell_type": "code",
   "execution_count": 20,
   "id": "a0bc5568",
   "metadata": {
    "ExecuteTime": {
     "end_time": "2023-05-10T01:13:15.851408Z",
     "start_time": "2023-05-10T01:13:15.805272Z"
    },
    "hidden": true
   },
   "outputs": [
    {
     "data": {
      "text/plain": [
       "<AxesSubplot:xlabel='BusinessTravel', ylabel='count'>"
      ]
     },
     "execution_count": 20,
     "metadata": {},
     "output_type": "execute_result"
    },
    {
     "data": {
      "image/png": "[encoded data removed]",
      "text/plain": [
       "<Figure size 432x288 with 1 Axes>"
      ]
     },
     "metadata": {},
     "output_type": "display_data"
    }
   ],
   "source": [
    "sns.countplot(x='BusinessTravel', data=df)"
   ]
  },
  {
   "cell_type": "markdown",
   "id": "27ac48ce",
   "metadata": {},
   "source": [
    "## DATA PREPARATION"
   ]
  },
  {
   "cell_type": "code",
   "execution_count": 21,
   "id": "10965d16",
   "metadata": {
    "ExecuteTime": {
     "end_time": "2023-05-10T01:13:15.855922Z",
     "start_time": "2023-05-10T01:13:15.852363Z"
    }
   },
   "outputs": [],
   "source": [
    "# exhaustive list of features that we will use for all modelling purposes going forward. \n",
    "# Features are compiled by running analysis such as correlation, logistic etc. \n",
    "features_to_keep = ['Age', 'Attrition', 'BusinessTravel', 'DailyRate', 'Department',\n",
    "'DistanceFromHome', 'Education', 'EducationField',\n",
    "'EnvironmentSatisfaction', 'Gender', 'HourlyRate',\n",
    "'JobInvolvement', 'JobLevel', 'JobRole', 'JobSatisfaction',\n",
    "'MaritalStatus', 'MonthlyIncome', 'MonthlyRate', 'NumCompaniesWorked', 'OverTime', 'PercentSalaryHike', 'PerformanceRating',\n",
    "'RelationshipSatisfaction', 'StockOptionLevel',\n",
    "'TotalWorkingYears', 'TrainingTimesLastYear', 'WorkLifeBalance',\n",
    "'YearsAtCompany', 'YearsInCurrentRole', 'YearsSinceLastPromotion',\n",
    "'YearsWithCurrManager']"
   ]
  },
  {
   "cell_type": "code",
   "execution_count": 22,
   "id": "424ba660",
   "metadata": {
    "ExecuteTime": {
     "end_time": "2023-05-10T01:13:15.859540Z",
     "start_time": "2023-05-10T01:13:15.856893Z"
    }
   },
   "outputs": [
    {
     "data": {
      "text/plain": [
       "['EmployeeCount', 'EmployeeNumber', 'Over18', 'StandardHours']"
      ]
     },
     "execution_count": 22,
     "metadata": {},
     "output_type": "execute_result"
    }
   ],
   "source": [
    "[col for col in df.columns if col not in features_to_keep] # List of columns to be ignored in modelling. "
   ]
  },
  {
   "cell_type": "code",
   "execution_count": 23,
   "id": "878dff91",
   "metadata": {
    "ExecuteTime": {
     "end_time": "2023-05-10T01:13:15.862577Z",
     "start_time": "2023-05-10T01:13:15.860430Z"
    }
   },
   "outputs": [],
   "source": [
    "df = df[features_to_keep]"
   ]
  },
  {
   "cell_type": "code",
   "execution_count": 24,
   "id": "fa43ea38",
   "metadata": {
    "ExecuteTime": {
     "end_time": "2023-05-10T01:13:15.870933Z",
     "start_time": "2023-05-10T01:13:15.863523Z"
    }
   },
   "outputs": [
    {
     "data": {
      "text/html": [
       "<div>\n",
       "<style scoped>\n",
       "    .dataframe tbody tr th:only-of-type {\n",
       "        vertical-align: middle;\n",
       "    }\n",
       "\n",
       "    .dataframe tbody tr th {\n",
       "        vertical-align: top;\n",
       "    }\n",
       "\n",
       "    .dataframe thead th {\n",
       "        text-align: right;\n",
       "    }\n",
       "</style>\n",
       "<table border=\"1\" class=\"dataframe\">\n",
       "  <thead>\n",
       "    <tr style=\"text-align: right;\">\n",
       "      <th></th>\n",
       "      <th>Age</th>\n",
       "      <th>Attrition</th>\n",
       "      <th>BusinessTravel</th>\n",
       "      <th>DailyRate</th>\n",
       "      <th>Department</th>\n",
       "      <th>DistanceFromHome</th>\n",
       "      <th>Education</th>\n",
       "      <th>EducationField</th>\n",
       "      <th>EnvironmentSatisfaction</th>\n",
       "      <th>Gender</th>\n",
       "      <th>...</th>\n",
       "      <th>PerformanceRating</th>\n",
       "      <th>RelationshipSatisfaction</th>\n",
       "      <th>StockOptionLevel</th>\n",
       "      <th>TotalWorkingYears</th>\n",
       "      <th>TrainingTimesLastYear</th>\n",
       "      <th>WorkLifeBalance</th>\n",
       "      <th>YearsAtCompany</th>\n",
       "      <th>YearsInCurrentRole</th>\n",
       "      <th>YearsSinceLastPromotion</th>\n",
       "      <th>YearsWithCurrManager</th>\n",
       "    </tr>\n",
       "  </thead>\n",
       "  <tbody>\n",
       "    <tr>\n",
       "      <th>0</th>\n",
       "      <td>41</td>\n",
       "      <td>Yes</td>\n",
       "      <td>Travel_Rarely</td>\n",
       "      <td>1102</td>\n",
       "      <td>Sales</td>\n",
       "      <td>1</td>\n",
       "      <td>2</td>\n",
       "      <td>Life Sciences</td>\n",
       "      <td>2</td>\n",
       "      <td>Female</td>\n",
       "      <td>...</td>\n",
       "      <td>3</td>\n",
       "      <td>1</td>\n",
       "      <td>0</td>\n",
       "      <td>8</td>\n",
       "      <td>0</td>\n",
       "      <td>1</td>\n",
       "      <td>6</td>\n",
       "      <td>4</td>\n",
       "      <td>0</td>\n",
       "      <td>5</td>\n",
       "    </tr>\n",
       "    <tr>\n",
       "      <th>1</th>\n",
       "      <td>49</td>\n",
       "      <td>No</td>\n",
       "      <td>Travel_Frequently</td>\n",
       "      <td>279</td>\n",
       "      <td>Research &amp; Development</td>\n",
       "      <td>8</td>\n",
       "      <td>1</td>\n",
       "      <td>Life Sciences</td>\n",
       "      <td>3</td>\n",
       "      <td>Male</td>\n",
       "      <td>...</td>\n",
       "      <td>4</td>\n",
       "      <td>4</td>\n",
       "      <td>1</td>\n",
       "      <td>10</td>\n",
       "      <td>3</td>\n",
       "      <td>3</td>\n",
       "      <td>10</td>\n",
       "      <td>7</td>\n",
       "      <td>1</td>\n",
       "      <td>7</td>\n",
       "    </tr>\n",
       "    <tr>\n",
       "      <th>2</th>\n",
       "      <td>37</td>\n",
       "      <td>Yes</td>\n",
       "      <td>Travel_Rarely</td>\n",
       "      <td>1373</td>\n",
       "      <td>Research &amp; Development</td>\n",
       "      <td>2</td>\n",
       "      <td>2</td>\n",
       "      <td>Other</td>\n",
       "      <td>4</td>\n",
       "      <td>Male</td>\n",
       "      <td>...</td>\n",
       "      <td>3</td>\n",
       "      <td>2</td>\n",
       "      <td>0</td>\n",
       "      <td>7</td>\n",
       "      <td>3</td>\n",
       "      <td>3</td>\n",
       "      <td>0</td>\n",
       "      <td>0</td>\n",
       "      <td>0</td>\n",
       "      <td>0</td>\n",
       "    </tr>\n",
       "    <tr>\n",
       "      <th>3</th>\n",
       "      <td>33</td>\n",
       "      <td>No</td>\n",
       "      <td>Travel_Frequently</td>\n",
       "      <td>1392</td>\n",
       "      <td>Research &amp; Development</td>\n",
       "      <td>3</td>\n",
       "      <td>4</td>\n",
       "      <td>Life Sciences</td>\n",
       "      <td>4</td>\n",
       "      <td>Female</td>\n",
       "      <td>...</td>\n",
       "      <td>3</td>\n",
       "      <td>3</td>\n",
       "      <td>0</td>\n",
       "      <td>8</td>\n",
       "      <td>3</td>\n",
       "      <td>3</td>\n",
       "      <td>8</td>\n",
       "      <td>7</td>\n",
       "      <td>3</td>\n",
       "      <td>0</td>\n",
       "    </tr>\n",
       "    <tr>\n",
       "      <th>4</th>\n",
       "      <td>27</td>\n",
       "      <td>No</td>\n",
       "      <td>Travel_Rarely</td>\n",
       "      <td>591</td>\n",
       "      <td>Research &amp; Development</td>\n",
       "      <td>2</td>\n",
       "      <td>1</td>\n",
       "      <td>Medical</td>\n",
       "      <td>1</td>\n",
       "      <td>Male</td>\n",
       "      <td>...</td>\n",
       "      <td>3</td>\n",
       "      <td>4</td>\n",
       "      <td>1</td>\n",
       "      <td>6</td>\n",
       "      <td>3</td>\n",
       "      <td>3</td>\n",
       "      <td>2</td>\n",
       "      <td>2</td>\n",
       "      <td>2</td>\n",
       "      <td>2</td>\n",
       "    </tr>\n",
       "  </tbody>\n",
       "</table>\n",
       "<p>5 rows × 31 columns</p>\n",
       "</div>"
      ],
      "text/plain": [
       "   Age Attrition     BusinessTravel  DailyRate              Department  \\\n",
       "0   41       Yes      Travel_Rarely       1102                   Sales   \n",
       "1   49        No  Travel_Frequently        279  Research & Development   \n",
       "2   37       Yes      Travel_Rarely       1373  Research & Development   \n",
       "3   33        No  Travel_Frequently       1392  Research & Development   \n",
       "4   27        No      Travel_Rarely        591  Research & Development   \n",
       "\n",
       "   DistanceFromHome  Education EducationField  EnvironmentSatisfaction  \\\n",
       "0                 1          2  Life Sciences                        2   \n",
       "1                 8          1  Life Sciences                        3   \n",
       "2                 2          2          Other                        4   \n",
       "3                 3          4  Life Sciences                        4   \n",
       "4                 2          1        Medical                        1   \n",
       "\n",
       "   Gender  ...  PerformanceRating  RelationshipSatisfaction  StockOptionLevel  \\\n",
       "0  Female  ...                  3                         1                 0   \n",
       "1    Male  ...                  4                         4                 1   \n",
       "2    Male  ...                  3                         2                 0   \n",
       "3  Female  ...                  3                         3                 0   \n",
       "4    Male  ...                  3                         4                 1   \n",
       "\n",
       "  TotalWorkingYears  TrainingTimesLastYear WorkLifeBalance  YearsAtCompany  \\\n",
       "0                 8                      0               1               6   \n",
       "1                10                      3               3              10   \n",
       "2                 7                      3               3               0   \n",
       "3                 8                      3               3               8   \n",
       "4                 6                      3               3               2   \n",
       "\n",
       "   YearsInCurrentRole  YearsSinceLastPromotion YearsWithCurrManager  \n",
       "0                   4                        0                    5  \n",
       "1                   7                        1                    7  \n",
       "2                   0                        0                    0  \n",
       "3                   7                        3                    0  \n",
       "4                   2                        2                    2  \n",
       "\n",
       "[5 rows x 31 columns]"
      ]
     },
     "execution_count": 24,
     "metadata": {},
     "output_type": "execute_result"
    }
   ],
   "source": [
    "df.head()"
   ]
  },
  {
   "cell_type": "code",
   "execution_count": 25,
   "id": "a18e0548",
   "metadata": {
    "ExecuteTime": {
     "end_time": "2023-05-10T01:13:15.985556Z",
     "start_time": "2023-05-10T01:13:15.872078Z"
    }
   },
   "outputs": [
    {
     "data": {
      "text/plain": [
       "LabelEncoder()"
      ]
     },
     "execution_count": 25,
     "metadata": {},
     "output_type": "execute_result"
    }
   ],
   "source": [
    "# One Hot Encoding all categorical Features. \n",
    "from sklearn.preprocessing import LabelEncoder\n",
    "le_Attrition = LabelEncoder()\n",
    "le_BusinessTravel = LabelEncoder()\n",
    "le_Department = LabelEncoder()\n",
    "le_EducationField = LabelEncoder()\n",
    "le_Gender = LabelEncoder()\n",
    "le_JobRole = LabelEncoder()\n",
    "le_MaritalStatus = LabelEncoder()\n",
    "# le_Over18 = LabelEncoder()\n",
    "le_OverTime = LabelEncoder()\n",
    "\n",
    "le_Attrition.fit(df['Attrition'])\n",
    "le_BusinessTravel.fit(df['BusinessTravel'])\n",
    "le_Department.fit(df['Department'])\n",
    "le_EducationField.fit(df['EducationField'])\n",
    "le_Gender.fit(df['Gender'])\n",
    "le_JobRole.fit(df['JobRole'])\n",
    "le_MaritalStatus.fit(df['MaritalStatus'])\n",
    "# le_Over18.fit(df['Over18']) # redundant feature. All employees are above 18\n",
    "le_OverTime.fit(df['OverTime'])"
   ]
  },
  {
   "cell_type": "code",
   "execution_count": 26,
   "id": "a28c5786",
   "metadata": {
    "ExecuteTime": {
     "end_time": "2023-05-10T01:13:15.992238Z",
     "start_time": "2023-05-10T01:13:15.986605Z"
    }
   },
   "outputs": [],
   "source": [
    "df['Attrition'] = le_Attrition.transform(df['Attrition'])\n",
    "df['BusinessTravel'] = le_BusinessTravel.transform(df['BusinessTravel'])\n",
    "df['Department'] = le_Department.transform(df['Department'])\n",
    "df['EducationField'] = le_EducationField.transform(df['EducationField'])\n",
    "df['Gender'] = le_Gender.transform(df['Gender'])\n",
    "df['JobRole'] = le_JobRole.transform(df['JobRole'])\n",
    "df['MaritalStatus'] = le_MaritalStatus.transform(df['MaritalStatus'])\n",
    "# df['Over18'] = le_Over18.transform(df['Over18'])\n",
    "df['OverTime'] = le_OverTime.transform(df['OverTime'])"
   ]
  },
  {
   "cell_type": "code",
   "execution_count": 27,
   "id": "962c9870",
   "metadata": {
    "ExecuteTime": {
     "end_time": "2023-05-10T01:13:16.016776Z",
     "start_time": "2023-05-10T01:13:15.996791Z"
    }
   },
   "outputs": [
    {
     "data": {
      "text/html": [
       "<div>\n",
       "<style scoped>\n",
       "    .dataframe tbody tr th:only-of-type {\n",
       "        vertical-align: middle;\n",
       "    }\n",
       "\n",
       "    .dataframe tbody tr th {\n",
       "        vertical-align: top;\n",
       "    }\n",
       "\n",
       "    .dataframe thead th {\n",
       "        text-align: right;\n",
       "    }\n",
       "</style>\n",
       "<table border=\"1\" class=\"dataframe\">\n",
       "  <thead>\n",
       "    <tr style=\"text-align: right;\">\n",
       "      <th></th>\n",
       "      <th>Age</th>\n",
       "      <th>Attrition</th>\n",
       "      <th>BusinessTravel</th>\n",
       "      <th>DailyRate</th>\n",
       "      <th>Department</th>\n",
       "      <th>DistanceFromHome</th>\n",
       "      <th>Education</th>\n",
       "      <th>EducationField</th>\n",
       "      <th>EnvironmentSatisfaction</th>\n",
       "      <th>Gender</th>\n",
       "      <th>...</th>\n",
       "      <th>PerformanceRating</th>\n",
       "      <th>RelationshipSatisfaction</th>\n",
       "      <th>StockOptionLevel</th>\n",
       "      <th>TotalWorkingYears</th>\n",
       "      <th>TrainingTimesLastYear</th>\n",
       "      <th>WorkLifeBalance</th>\n",
       "      <th>YearsAtCompany</th>\n",
       "      <th>YearsInCurrentRole</th>\n",
       "      <th>YearsSinceLastPromotion</th>\n",
       "      <th>YearsWithCurrManager</th>\n",
       "    </tr>\n",
       "  </thead>\n",
       "  <tbody>\n",
       "    <tr>\n",
       "      <th>Age</th>\n",
       "      <td>1.000000</td>\n",
       "      <td>-0.159205</td>\n",
       "      <td>0.024751</td>\n",
       "      <td>0.010661</td>\n",
       "      <td>-0.031882</td>\n",
       "      <td>-0.001686</td>\n",
       "      <td>0.208034</td>\n",
       "      <td>-0.040873</td>\n",
       "      <td>0.010146</td>\n",
       "      <td>-0.036311</td>\n",
       "      <td>...</td>\n",
       "      <td>0.001904</td>\n",
       "      <td>0.053535</td>\n",
       "      <td>0.037510</td>\n",
       "      <td>0.680381</td>\n",
       "      <td>-0.019621</td>\n",
       "      <td>-0.021490</td>\n",
       "      <td>0.311309</td>\n",
       "      <td>0.212901</td>\n",
       "      <td>0.216513</td>\n",
       "      <td>0.202089</td>\n",
       "    </tr>\n",
       "    <tr>\n",
       "      <th>Attrition</th>\n",
       "      <td>-0.159205</td>\n",
       "      <td>1.000000</td>\n",
       "      <td>0.000074</td>\n",
       "      <td>-0.056652</td>\n",
       "      <td>0.063991</td>\n",
       "      <td>0.077924</td>\n",
       "      <td>-0.031373</td>\n",
       "      <td>0.026846</td>\n",
       "      <td>-0.103369</td>\n",
       "      <td>0.029453</td>\n",
       "      <td>...</td>\n",
       "      <td>0.002889</td>\n",
       "      <td>-0.045872</td>\n",
       "      <td>-0.137145</td>\n",
       "      <td>-0.171063</td>\n",
       "      <td>-0.059478</td>\n",
       "      <td>-0.063939</td>\n",
       "      <td>-0.134392</td>\n",
       "      <td>-0.160545</td>\n",
       "      <td>-0.033019</td>\n",
       "      <td>-0.156199</td>\n",
       "    </tr>\n",
       "    <tr>\n",
       "      <th>BusinessTravel</th>\n",
       "      <td>0.024751</td>\n",
       "      <td>0.000074</td>\n",
       "      <td>1.000000</td>\n",
       "      <td>-0.004086</td>\n",
       "      <td>-0.009044</td>\n",
       "      <td>-0.024469</td>\n",
       "      <td>0.000757</td>\n",
       "      <td>0.023724</td>\n",
       "      <td>0.004174</td>\n",
       "      <td>-0.032981</td>\n",
       "      <td>...</td>\n",
       "      <td>-0.026341</td>\n",
       "      <td>-0.035986</td>\n",
       "      <td>-0.016727</td>\n",
       "      <td>0.034226</td>\n",
       "      <td>0.015240</td>\n",
       "      <td>-0.011256</td>\n",
       "      <td>-0.014575</td>\n",
       "      <td>-0.011497</td>\n",
       "      <td>-0.032591</td>\n",
       "      <td>-0.022636</td>\n",
       "    </tr>\n",
       "    <tr>\n",
       "      <th>DailyRate</th>\n",
       "      <td>0.010661</td>\n",
       "      <td>-0.056652</td>\n",
       "      <td>-0.004086</td>\n",
       "      <td>1.000000</td>\n",
       "      <td>0.007109</td>\n",
       "      <td>-0.004985</td>\n",
       "      <td>-0.016806</td>\n",
       "      <td>0.037709</td>\n",
       "      <td>0.018355</td>\n",
       "      <td>-0.011716</td>\n",
       "      <td>...</td>\n",
       "      <td>0.000473</td>\n",
       "      <td>0.007846</td>\n",
       "      <td>0.042143</td>\n",
       "      <td>0.014515</td>\n",
       "      <td>0.002453</td>\n",
       "      <td>-0.037848</td>\n",
       "      <td>-0.034055</td>\n",
       "      <td>0.009932</td>\n",
       "      <td>-0.033229</td>\n",
       "      <td>-0.026363</td>\n",
       "    </tr>\n",
       "    <tr>\n",
       "      <th>Department</th>\n",
       "      <td>-0.031882</td>\n",
       "      <td>0.063991</td>\n",
       "      <td>-0.009044</td>\n",
       "      <td>0.007109</td>\n",
       "      <td>1.000000</td>\n",
       "      <td>0.017225</td>\n",
       "      <td>0.007996</td>\n",
       "      <td>0.013720</td>\n",
       "      <td>-0.019395</td>\n",
       "      <td>-0.041583</td>\n",
       "      <td>...</td>\n",
       "      <td>-0.024604</td>\n",
       "      <td>-0.022414</td>\n",
       "      <td>-0.012193</td>\n",
       "      <td>-0.015762</td>\n",
       "      <td>0.036875</td>\n",
       "      <td>0.026383</td>\n",
       "      <td>0.022920</td>\n",
       "      <td>0.056315</td>\n",
       "      <td>0.040061</td>\n",
       "      <td>0.034282</td>\n",
       "    </tr>\n",
       "    <tr>\n",
       "      <th>DistanceFromHome</th>\n",
       "      <td>-0.001686</td>\n",
       "      <td>0.077924</td>\n",
       "      <td>-0.024469</td>\n",
       "      <td>-0.004985</td>\n",
       "      <td>0.017225</td>\n",
       "      <td>1.000000</td>\n",
       "      <td>0.021042</td>\n",
       "      <td>0.002013</td>\n",
       "      <td>-0.016075</td>\n",
       "      <td>-0.001851</td>\n",
       "      <td>...</td>\n",
       "      <td>0.027110</td>\n",
       "      <td>0.006557</td>\n",
       "      <td>0.044872</td>\n",
       "      <td>0.004628</td>\n",
       "      <td>-0.036942</td>\n",
       "      <td>-0.026556</td>\n",
       "      <td>0.009508</td>\n",
       "      <td>0.018845</td>\n",
       "      <td>0.010029</td>\n",
       "      <td>0.014406</td>\n",
       "    </tr>\n",
       "    <tr>\n",
       "      <th>Education</th>\n",
       "      <td>0.208034</td>\n",
       "      <td>-0.031373</td>\n",
       "      <td>0.000757</td>\n",
       "      <td>-0.016806</td>\n",
       "      <td>0.007996</td>\n",
       "      <td>0.021042</td>\n",
       "      <td>1.000000</td>\n",
       "      <td>-0.039592</td>\n",
       "      <td>-0.027128</td>\n",
       "      <td>-0.016547</td>\n",
       "      <td>...</td>\n",
       "      <td>-0.024539</td>\n",
       "      <td>-0.009118</td>\n",
       "      <td>0.018422</td>\n",
       "      <td>0.148280</td>\n",
       "      <td>-0.025100</td>\n",
       "      <td>0.009819</td>\n",
       "      <td>0.069114</td>\n",
       "      <td>0.060236</td>\n",
       "      <td>0.054254</td>\n",
       "      <td>0.069065</td>\n",
       "    </tr>\n",
       "    <tr>\n",
       "      <th>EducationField</th>\n",
       "      <td>-0.040873</td>\n",
       "      <td>0.026846</td>\n",
       "      <td>0.023724</td>\n",
       "      <td>0.037709</td>\n",
       "      <td>0.013720</td>\n",
       "      <td>0.002013</td>\n",
       "      <td>-0.039592</td>\n",
       "      <td>1.000000</td>\n",
       "      <td>0.043163</td>\n",
       "      <td>-0.002504</td>\n",
       "      <td>...</td>\n",
       "      <td>-0.005614</td>\n",
       "      <td>-0.004378</td>\n",
       "      <td>-0.016185</td>\n",
       "      <td>-0.027848</td>\n",
       "      <td>0.049195</td>\n",
       "      <td>0.041191</td>\n",
       "      <td>-0.018692</td>\n",
       "      <td>-0.010506</td>\n",
       "      <td>0.002326</td>\n",
       "      <td>-0.004130</td>\n",
       "    </tr>\n",
       "    <tr>\n",
       "      <th>EnvironmentSatisfaction</th>\n",
       "      <td>0.010146</td>\n",
       "      <td>-0.103369</td>\n",
       "      <td>0.004174</td>\n",
       "      <td>0.018355</td>\n",
       "      <td>-0.019395</td>\n",
       "      <td>-0.016075</td>\n",
       "      <td>-0.027128</td>\n",
       "      <td>0.043163</td>\n",
       "      <td>1.000000</td>\n",
       "      <td>0.000508</td>\n",
       "      <td>...</td>\n",
       "      <td>-0.029548</td>\n",
       "      <td>0.007665</td>\n",
       "      <td>0.003432</td>\n",
       "      <td>-0.002693</td>\n",
       "      <td>-0.019359</td>\n",
       "      <td>0.027627</td>\n",
       "      <td>0.001458</td>\n",
       "      <td>0.018007</td>\n",
       "      <td>0.016194</td>\n",
       "      <td>-0.004999</td>\n",
       "    </tr>\n",
       "    <tr>\n",
       "      <th>Gender</th>\n",
       "      <td>-0.036311</td>\n",
       "      <td>0.029453</td>\n",
       "      <td>-0.032981</td>\n",
       "      <td>-0.011716</td>\n",
       "      <td>-0.041583</td>\n",
       "      <td>-0.001851</td>\n",
       "      <td>-0.016547</td>\n",
       "      <td>-0.002504</td>\n",
       "      <td>0.000508</td>\n",
       "      <td>1.000000</td>\n",
       "      <td>...</td>\n",
       "      <td>-0.013859</td>\n",
       "      <td>0.022868</td>\n",
       "      <td>0.012716</td>\n",
       "      <td>-0.046881</td>\n",
       "      <td>-0.038787</td>\n",
       "      <td>-0.002753</td>\n",
       "      <td>-0.029747</td>\n",
       "      <td>-0.041483</td>\n",
       "      <td>-0.026985</td>\n",
       "      <td>-0.030599</td>\n",
       "    </tr>\n",
       "    <tr>\n",
       "      <th>HourlyRate</th>\n",
       "      <td>0.024287</td>\n",
       "      <td>-0.006846</td>\n",
       "      <td>0.026528</td>\n",
       "      <td>0.023381</td>\n",
       "      <td>-0.004144</td>\n",
       "      <td>0.031131</td>\n",
       "      <td>0.016775</td>\n",
       "      <td>-0.021941</td>\n",
       "      <td>-0.049857</td>\n",
       "      <td>-0.000478</td>\n",
       "      <td>...</td>\n",
       "      <td>-0.002172</td>\n",
       "      <td>0.001330</td>\n",
       "      <td>0.050263</td>\n",
       "      <td>-0.002334</td>\n",
       "      <td>-0.008548</td>\n",
       "      <td>-0.004607</td>\n",
       "      <td>-0.019582</td>\n",
       "      <td>-0.024106</td>\n",
       "      <td>-0.026716</td>\n",
       "      <td>-0.020123</td>\n",
       "    </tr>\n",
       "    <tr>\n",
       "      <th>JobInvolvement</th>\n",
       "      <td>0.029820</td>\n",
       "      <td>-0.130016</td>\n",
       "      <td>0.039062</td>\n",
       "      <td>0.046135</td>\n",
       "      <td>-0.024586</td>\n",
       "      <td>0.008783</td>\n",
       "      <td>0.042438</td>\n",
       "      <td>-0.002655</td>\n",
       "      <td>-0.008278</td>\n",
       "      <td>0.017960</td>\n",
       "      <td>...</td>\n",
       "      <td>-0.029071</td>\n",
       "      <td>0.034297</td>\n",
       "      <td>0.021523</td>\n",
       "      <td>-0.005533</td>\n",
       "      <td>-0.015338</td>\n",
       "      <td>-0.014617</td>\n",
       "      <td>-0.021355</td>\n",
       "      <td>0.008717</td>\n",
       "      <td>-0.024184</td>\n",
       "      <td>0.025976</td>\n",
       "    </tr>\n",
       "    <tr>\n",
       "      <th>JobLevel</th>\n",
       "      <td>0.509604</td>\n",
       "      <td>-0.169105</td>\n",
       "      <td>0.019311</td>\n",
       "      <td>0.002966</td>\n",
       "      <td>0.101963</td>\n",
       "      <td>0.005303</td>\n",
       "      <td>0.101589</td>\n",
       "      <td>-0.044933</td>\n",
       "      <td>0.001212</td>\n",
       "      <td>-0.039403</td>\n",
       "      <td>...</td>\n",
       "      <td>-0.021222</td>\n",
       "      <td>0.021642</td>\n",
       "      <td>0.013984</td>\n",
       "      <td>0.782208</td>\n",
       "      <td>-0.018191</td>\n",
       "      <td>0.037818</td>\n",
       "      <td>0.534739</td>\n",
       "      <td>0.389447</td>\n",
       "      <td>0.353885</td>\n",
       "      <td>0.375281</td>\n",
       "    </tr>\n",
       "    <tr>\n",
       "      <th>JobRole</th>\n",
       "      <td>-0.122427</td>\n",
       "      <td>0.067151</td>\n",
       "      <td>0.002724</td>\n",
       "      <td>-0.009472</td>\n",
       "      <td>0.662431</td>\n",
       "      <td>-0.001015</td>\n",
       "      <td>0.004236</td>\n",
       "      <td>0.015599</td>\n",
       "      <td>-0.017321</td>\n",
       "      <td>-0.039723</td>\n",
       "      <td>...</td>\n",
       "      <td>-0.024233</td>\n",
       "      <td>-0.020218</td>\n",
       "      <td>-0.019171</td>\n",
       "      <td>-0.145439</td>\n",
       "      <td>0.001342</td>\n",
       "      <td>0.027764</td>\n",
       "      <td>-0.083657</td>\n",
       "      <td>-0.028354</td>\n",
       "      <td>-0.046384</td>\n",
       "      <td>-0.041150</td>\n",
       "    </tr>\n",
       "    <tr>\n",
       "      <th>JobSatisfaction</th>\n",
       "      <td>-0.004892</td>\n",
       "      <td>-0.103481</td>\n",
       "      <td>-0.033962</td>\n",
       "      <td>0.030571</td>\n",
       "      <td>0.021001</td>\n",
       "      <td>-0.003669</td>\n",
       "      <td>-0.011296</td>\n",
       "      <td>-0.034401</td>\n",
       "      <td>-0.006784</td>\n",
       "      <td>0.033252</td>\n",
       "      <td>...</td>\n",
       "      <td>0.002297</td>\n",
       "      <td>-0.012454</td>\n",
       "      <td>0.010690</td>\n",
       "      <td>-0.020185</td>\n",
       "      <td>-0.005779</td>\n",
       "      <td>-0.019459</td>\n",
       "      <td>-0.003803</td>\n",
       "      <td>-0.002305</td>\n",
       "      <td>-0.018214</td>\n",
       "      <td>-0.027656</td>\n",
       "    </tr>\n",
       "    <tr>\n",
       "      <th>MaritalStatus</th>\n",
       "      <td>-0.095029</td>\n",
       "      <td>0.162070</td>\n",
       "      <td>0.024001</td>\n",
       "      <td>-0.069586</td>\n",
       "      <td>0.056073</td>\n",
       "      <td>-0.014437</td>\n",
       "      <td>0.004053</td>\n",
       "      <td>0.014420</td>\n",
       "      <td>-0.003593</td>\n",
       "      <td>-0.047183</td>\n",
       "      <td>...</td>\n",
       "      <td>0.005207</td>\n",
       "      <td>0.022549</td>\n",
       "      <td>-0.662577</td>\n",
       "      <td>-0.077886</td>\n",
       "      <td>0.010629</td>\n",
       "      <td>0.014708</td>\n",
       "      <td>-0.059986</td>\n",
       "      <td>-0.065822</td>\n",
       "      <td>-0.030915</td>\n",
       "      <td>-0.038570</td>\n",
       "    </tr>\n",
       "    <tr>\n",
       "      <th>MonthlyIncome</th>\n",
       "      <td>0.497855</td>\n",
       "      <td>-0.159840</td>\n",
       "      <td>0.034319</td>\n",
       "      <td>0.007707</td>\n",
       "      <td>0.053130</td>\n",
       "      <td>-0.017014</td>\n",
       "      <td>0.094961</td>\n",
       "      <td>-0.041070</td>\n",
       "      <td>-0.006259</td>\n",
       "      <td>-0.031858</td>\n",
       "      <td>...</td>\n",
       "      <td>-0.017120</td>\n",
       "      <td>0.025873</td>\n",
       "      <td>0.005408</td>\n",
       "      <td>0.772893</td>\n",
       "      <td>-0.021736</td>\n",
       "      <td>0.030683</td>\n",
       "      <td>0.514285</td>\n",
       "      <td>0.363818</td>\n",
       "      <td>0.344978</td>\n",
       "      <td>0.344079</td>\n",
       "    </tr>\n",
       "    <tr>\n",
       "      <th>MonthlyRate</th>\n",
       "      <td>0.028051</td>\n",
       "      <td>0.015170</td>\n",
       "      <td>-0.014107</td>\n",
       "      <td>-0.032182</td>\n",
       "      <td>0.023642</td>\n",
       "      <td>0.027473</td>\n",
       "      <td>-0.026084</td>\n",
       "      <td>-0.027182</td>\n",
       "      <td>0.037600</td>\n",
       "      <td>-0.041482</td>\n",
       "      <td>...</td>\n",
       "      <td>-0.009811</td>\n",
       "      <td>-0.004085</td>\n",
       "      <td>-0.034323</td>\n",
       "      <td>0.026442</td>\n",
       "      <td>0.001467</td>\n",
       "      <td>0.007963</td>\n",
       "      <td>-0.023655</td>\n",
       "      <td>-0.012815</td>\n",
       "      <td>0.001567</td>\n",
       "      <td>-0.036746</td>\n",
       "    </tr>\n",
       "    <tr>\n",
       "      <th>NumCompaniesWorked</th>\n",
       "      <td>0.299635</td>\n",
       "      <td>0.043494</td>\n",
       "      <td>0.020875</td>\n",
       "      <td>0.038153</td>\n",
       "      <td>-0.035882</td>\n",
       "      <td>-0.029251</td>\n",
       "      <td>0.126317</td>\n",
       "      <td>-0.008663</td>\n",
       "      <td>0.012594</td>\n",
       "      <td>-0.039147</td>\n",
       "      <td>...</td>\n",
       "      <td>-0.014095</td>\n",
       "      <td>0.052733</td>\n",
       "      <td>0.030075</td>\n",
       "      <td>0.237639</td>\n",
       "      <td>-0.066054</td>\n",
       "      <td>-0.008366</td>\n",
       "      <td>-0.118421</td>\n",
       "      <td>-0.090754</td>\n",
       "      <td>-0.036814</td>\n",
       "      <td>-0.110319</td>\n",
       "    </tr>\n",
       "    <tr>\n",
       "      <th>OverTime</th>\n",
       "      <td>0.028062</td>\n",
       "      <td>0.246118</td>\n",
       "      <td>0.016543</td>\n",
       "      <td>0.009135</td>\n",
       "      <td>0.007481</td>\n",
       "      <td>0.025514</td>\n",
       "      <td>-0.020322</td>\n",
       "      <td>0.002259</td>\n",
       "      <td>0.070132</td>\n",
       "      <td>-0.041924</td>\n",
       "      <td>...</td>\n",
       "      <td>0.004369</td>\n",
       "      <td>0.048493</td>\n",
       "      <td>-0.000449</td>\n",
       "      <td>0.012754</td>\n",
       "      <td>-0.079113</td>\n",
       "      <td>-0.027092</td>\n",
       "      <td>-0.011687</td>\n",
       "      <td>-0.029758</td>\n",
       "      <td>-0.012239</td>\n",
       "      <td>-0.041586</td>\n",
       "    </tr>\n",
       "    <tr>\n",
       "      <th>PercentSalaryHike</th>\n",
       "      <td>0.003634</td>\n",
       "      <td>-0.013478</td>\n",
       "      <td>-0.029377</td>\n",
       "      <td>0.022704</td>\n",
       "      <td>-0.007840</td>\n",
       "      <td>0.040235</td>\n",
       "      <td>-0.011111</td>\n",
       "      <td>-0.011214</td>\n",
       "      <td>-0.031701</td>\n",
       "      <td>0.002733</td>\n",
       "      <td>...</td>\n",
       "      <td>0.773550</td>\n",
       "      <td>-0.040490</td>\n",
       "      <td>0.007528</td>\n",
       "      <td>-0.020608</td>\n",
       "      <td>-0.005221</td>\n",
       "      <td>-0.003280</td>\n",
       "      <td>-0.035991</td>\n",
       "      <td>-0.001520</td>\n",
       "      <td>-0.022154</td>\n",
       "      <td>-0.011985</td>\n",
       "    </tr>\n",
       "    <tr>\n",
       "      <th>PerformanceRating</th>\n",
       "      <td>0.001904</td>\n",
       "      <td>0.002889</td>\n",
       "      <td>-0.026341</td>\n",
       "      <td>0.000473</td>\n",
       "      <td>-0.024604</td>\n",
       "      <td>0.027110</td>\n",
       "      <td>-0.024539</td>\n",
       "      <td>-0.005614</td>\n",
       "      <td>-0.029548</td>\n",
       "      <td>-0.013859</td>\n",
       "      <td>...</td>\n",
       "      <td>1.000000</td>\n",
       "      <td>-0.031351</td>\n",
       "      <td>0.003506</td>\n",
       "      <td>0.006744</td>\n",
       "      <td>-0.015579</td>\n",
       "      <td>0.002572</td>\n",
       "      <td>0.003435</td>\n",
       "      <td>0.034986</td>\n",
       "      <td>0.017896</td>\n",
       "      <td>0.022827</td>\n",
       "    </tr>\n",
       "    <tr>\n",
       "      <th>RelationshipSatisfaction</th>\n",
       "      <td>0.053535</td>\n",
       "      <td>-0.045872</td>\n",
       "      <td>-0.035986</td>\n",
       "      <td>0.007846</td>\n",
       "      <td>-0.022414</td>\n",
       "      <td>0.006557</td>\n",
       "      <td>-0.009118</td>\n",
       "      <td>-0.004378</td>\n",
       "      <td>0.007665</td>\n",
       "      <td>0.022868</td>\n",
       "      <td>...</td>\n",
       "      <td>-0.031351</td>\n",
       "      <td>1.000000</td>\n",
       "      <td>-0.045952</td>\n",
       "      <td>0.024054</td>\n",
       "      <td>0.002497</td>\n",
       "      <td>0.019604</td>\n",
       "      <td>0.019367</td>\n",
       "      <td>-0.015123</td>\n",
       "      <td>0.033493</td>\n",
       "      <td>-0.000867</td>\n",
       "    </tr>\n",
       "    <tr>\n",
       "      <th>StockOptionLevel</th>\n",
       "      <td>0.037510</td>\n",
       "      <td>-0.137145</td>\n",
       "      <td>-0.016727</td>\n",
       "      <td>0.042143</td>\n",
       "      <td>-0.012193</td>\n",
       "      <td>0.044872</td>\n",
       "      <td>0.018422</td>\n",
       "      <td>-0.016185</td>\n",
       "      <td>0.003432</td>\n",
       "      <td>0.012716</td>\n",
       "      <td>...</td>\n",
       "      <td>0.003506</td>\n",
       "      <td>-0.045952</td>\n",
       "      <td>1.000000</td>\n",
       "      <td>0.010136</td>\n",
       "      <td>0.011274</td>\n",
       "      <td>0.004129</td>\n",
       "      <td>0.015058</td>\n",
       "      <td>0.050818</td>\n",
       "      <td>0.014352</td>\n",
       "      <td>0.024698</td>\n",
       "    </tr>\n",
       "    <tr>\n",
       "      <th>TotalWorkingYears</th>\n",
       "      <td>0.680381</td>\n",
       "      <td>-0.171063</td>\n",
       "      <td>0.034226</td>\n",
       "      <td>0.014515</td>\n",
       "      <td>-0.015762</td>\n",
       "      <td>0.004628</td>\n",
       "      <td>0.148280</td>\n",
       "      <td>-0.027848</td>\n",
       "      <td>-0.002693</td>\n",
       "      <td>-0.046881</td>\n",
       "      <td>...</td>\n",
       "      <td>0.006744</td>\n",
       "      <td>0.024054</td>\n",
       "      <td>0.010136</td>\n",
       "      <td>1.000000</td>\n",
       "      <td>-0.035662</td>\n",
       "      <td>0.001008</td>\n",
       "      <td>0.628133</td>\n",
       "      <td>0.460365</td>\n",
       "      <td>0.404858</td>\n",
       "      <td>0.459188</td>\n",
       "    </tr>\n",
       "    <tr>\n",
       "      <th>TrainingTimesLastYear</th>\n",
       "      <td>-0.019621</td>\n",
       "      <td>-0.059478</td>\n",
       "      <td>0.015240</td>\n",
       "      <td>0.002453</td>\n",
       "      <td>0.036875</td>\n",
       "      <td>-0.036942</td>\n",
       "      <td>-0.025100</td>\n",
       "      <td>0.049195</td>\n",
       "      <td>-0.019359</td>\n",
       "      <td>-0.038787</td>\n",
       "      <td>...</td>\n",
       "      <td>-0.015579</td>\n",
       "      <td>0.002497</td>\n",
       "      <td>0.011274</td>\n",
       "      <td>-0.035662</td>\n",
       "      <td>1.000000</td>\n",
       "      <td>0.028072</td>\n",
       "      <td>0.003569</td>\n",
       "      <td>-0.005738</td>\n",
       "      <td>-0.002067</td>\n",
       "      <td>-0.004096</td>\n",
       "    </tr>\n",
       "    <tr>\n",
       "      <th>WorkLifeBalance</th>\n",
       "      <td>-0.021490</td>\n",
       "      <td>-0.063939</td>\n",
       "      <td>-0.011256</td>\n",
       "      <td>-0.037848</td>\n",
       "      <td>0.026383</td>\n",
       "      <td>-0.026556</td>\n",
       "      <td>0.009819</td>\n",
       "      <td>0.041191</td>\n",
       "      <td>0.027627</td>\n",
       "      <td>-0.002753</td>\n",
       "      <td>...</td>\n",
       "      <td>0.002572</td>\n",
       "      <td>0.019604</td>\n",
       "      <td>0.004129</td>\n",
       "      <td>0.001008</td>\n",
       "      <td>0.028072</td>\n",
       "      <td>1.000000</td>\n",
       "      <td>0.012089</td>\n",
       "      <td>0.049856</td>\n",
       "      <td>0.008941</td>\n",
       "      <td>0.002759</td>\n",
       "    </tr>\n",
       "    <tr>\n",
       "      <th>YearsAtCompany</th>\n",
       "      <td>0.311309</td>\n",
       "      <td>-0.134392</td>\n",
       "      <td>-0.014575</td>\n",
       "      <td>-0.034055</td>\n",
       "      <td>0.022920</td>\n",
       "      <td>0.009508</td>\n",
       "      <td>0.069114</td>\n",
       "      <td>-0.018692</td>\n",
       "      <td>0.001458</td>\n",
       "      <td>-0.029747</td>\n",
       "      <td>...</td>\n",
       "      <td>0.003435</td>\n",
       "      <td>0.019367</td>\n",
       "      <td>0.015058</td>\n",
       "      <td>0.628133</td>\n",
       "      <td>0.003569</td>\n",
       "      <td>0.012089</td>\n",
       "      <td>1.000000</td>\n",
       "      <td>0.758754</td>\n",
       "      <td>0.618409</td>\n",
       "      <td>0.769212</td>\n",
       "    </tr>\n",
       "    <tr>\n",
       "      <th>YearsInCurrentRole</th>\n",
       "      <td>0.212901</td>\n",
       "      <td>-0.160545</td>\n",
       "      <td>-0.011497</td>\n",
       "      <td>0.009932</td>\n",
       "      <td>0.056315</td>\n",
       "      <td>0.018845</td>\n",
       "      <td>0.060236</td>\n",
       "      <td>-0.010506</td>\n",
       "      <td>0.018007</td>\n",
       "      <td>-0.041483</td>\n",
       "      <td>...</td>\n",
       "      <td>0.034986</td>\n",
       "      <td>-0.015123</td>\n",
       "      <td>0.050818</td>\n",
       "      <td>0.460365</td>\n",
       "      <td>-0.005738</td>\n",
       "      <td>0.049856</td>\n",
       "      <td>0.758754</td>\n",
       "      <td>1.000000</td>\n",
       "      <td>0.548056</td>\n",
       "      <td>0.714365</td>\n",
       "    </tr>\n",
       "    <tr>\n",
       "      <th>YearsSinceLastPromotion</th>\n",
       "      <td>0.216513</td>\n",
       "      <td>-0.033019</td>\n",
       "      <td>-0.032591</td>\n",
       "      <td>-0.033229</td>\n",
       "      <td>0.040061</td>\n",
       "      <td>0.010029</td>\n",
       "      <td>0.054254</td>\n",
       "      <td>0.002326</td>\n",
       "      <td>0.016194</td>\n",
       "      <td>-0.026985</td>\n",
       "      <td>...</td>\n",
       "      <td>0.017896</td>\n",
       "      <td>0.033493</td>\n",
       "      <td>0.014352</td>\n",
       "      <td>0.404858</td>\n",
       "      <td>-0.002067</td>\n",
       "      <td>0.008941</td>\n",
       "      <td>0.618409</td>\n",
       "      <td>0.548056</td>\n",
       "      <td>1.000000</td>\n",
       "      <td>0.510224</td>\n",
       "    </tr>\n",
       "    <tr>\n",
       "      <th>YearsWithCurrManager</th>\n",
       "      <td>0.202089</td>\n",
       "      <td>-0.156199</td>\n",
       "      <td>-0.022636</td>\n",
       "      <td>-0.026363</td>\n",
       "      <td>0.034282</td>\n",
       "      <td>0.014406</td>\n",
       "      <td>0.069065</td>\n",
       "      <td>-0.004130</td>\n",
       "      <td>-0.004999</td>\n",
       "      <td>-0.030599</td>\n",
       "      <td>...</td>\n",
       "      <td>0.022827</td>\n",
       "      <td>-0.000867</td>\n",
       "      <td>0.024698</td>\n",
       "      <td>0.459188</td>\n",
       "      <td>-0.004096</td>\n",
       "      <td>0.002759</td>\n",
       "      <td>0.769212</td>\n",
       "      <td>0.714365</td>\n",
       "      <td>0.510224</td>\n",
       "      <td>1.000000</td>\n",
       "    </tr>\n",
       "  </tbody>\n",
       "</table>\n",
       "<p>31 rows × 31 columns</p>\n",
       "</div>"
      ],
      "text/plain": [
       "                               Age  Attrition  BusinessTravel  DailyRate  \\\n",
       "Age                       1.000000  -0.159205        0.024751   0.010661   \n",
       "Attrition                -0.159205   1.000000        0.000074  -0.056652   \n",
       "BusinessTravel            0.024751   0.000074        1.000000  -0.004086   \n",
       "DailyRate                 0.010661  -0.056652       -0.004086   1.000000   \n",
       "Department               -0.031882   0.063991       -0.009044   0.007109   \n",
       "DistanceFromHome         -0.001686   0.077924       -0.024469  -0.004985   \n",
       "Education                 0.208034  -0.031373        0.000757  -0.016806   \n",
       "EducationField           -0.040873   0.026846        0.023724   0.037709   \n",
       "EnvironmentSatisfaction   0.010146  -0.103369        0.004174   0.018355   \n",
       "Gender                   -0.036311   0.029453       -0.032981  -0.011716   \n",
       "HourlyRate                0.024287  -0.006846        0.026528   0.023381   \n",
       "JobInvolvement            0.029820  -0.130016        0.039062   0.046135   \n",
       "JobLevel                  0.509604  -0.169105        0.019311   0.002966   \n",
       "JobRole                  -0.122427   0.067151        0.002724  -0.009472   \n",
       "JobSatisfaction          -0.004892  -0.103481       -0.033962   0.030571   \n",
       "MaritalStatus            -0.095029   0.162070        0.024001  -0.069586   \n",
       "MonthlyIncome             0.497855  -0.159840        0.034319   0.007707   \n",
       "MonthlyRate               0.028051   0.015170       -0.014107  -0.032182   \n",
       "NumCompaniesWorked        0.299635   0.043494        0.020875   0.038153   \n",
       "OverTime                  0.028062   0.246118        0.016543   0.009135   \n",
       "PercentSalaryHike         0.003634  -0.013478       -0.029377   0.022704   \n",
       "PerformanceRating         0.001904   0.002889       -0.026341   0.000473   \n",
       "RelationshipSatisfaction  0.053535  -0.045872       -0.035986   0.007846   \n",
       "StockOptionLevel          0.037510  -0.137145       -0.016727   0.042143   \n",
       "TotalWorkingYears         0.680381  -0.171063        0.034226   0.014515   \n",
       "TrainingTimesLastYear    -0.019621  -0.059478        0.015240   0.002453   \n",
       "WorkLifeBalance          -0.021490  -0.063939       -0.011256  -0.037848   \n",
       "YearsAtCompany            0.311309  -0.134392       -0.014575  -0.034055   \n",
       "YearsInCurrentRole        0.212901  -0.160545       -0.011497   0.009932   \n",
       "YearsSinceLastPromotion   0.216513  -0.033019       -0.032591  -0.033229   \n",
       "YearsWithCurrManager      0.202089  -0.156199       -0.022636  -0.026363   \n",
       "\n",
       "                          Department  DistanceFromHome  Education  \\\n",
       "Age                        -0.031882         -0.001686   0.208034   \n",
       "Attrition                   0.063991          0.077924  -0.031373   \n",
       "BusinessTravel             -0.009044         -0.024469   0.000757   \n",
       "DailyRate                   0.007109         -0.004985  -0.016806   \n",
       "Department                  1.000000          0.017225   0.007996   \n",
       "DistanceFromHome            0.017225          1.000000   0.021042   \n",
       "Education                   0.007996          0.021042   1.000000   \n",
       "EducationField              0.013720          0.002013  -0.039592   \n",
       "EnvironmentSatisfaction    -0.019395         -0.016075  -0.027128   \n",
       "Gender                     -0.041583         -0.001851  -0.016547   \n",
       "HourlyRate                 -0.004144          0.031131   0.016775   \n",
       "JobInvolvement             -0.024586          0.008783   0.042438   \n",
       "JobLevel                    0.101963          0.005303   0.101589   \n",
       "JobRole                     0.662431         -0.001015   0.004236   \n",
       "JobSatisfaction             0.021001         -0.003669  -0.011296   \n",
       "MaritalStatus               0.056073         -0.014437   0.004053   \n",
       "MonthlyIncome               0.053130         -0.017014   0.094961   \n",
       "MonthlyRate                 0.023642          0.027473  -0.026084   \n",
       "NumCompaniesWorked         -0.035882         -0.029251   0.126317   \n",
       "OverTime                    0.007481          0.025514  -0.020322   \n",
       "PercentSalaryHike          -0.007840          0.040235  -0.011111   \n",
       "PerformanceRating          -0.024604          0.027110  -0.024539   \n",
       "RelationshipSatisfaction   -0.022414          0.006557  -0.009118   \n",
       "StockOptionLevel           -0.012193          0.044872   0.018422   \n",
       "TotalWorkingYears          -0.015762          0.004628   0.148280   \n",
       "TrainingTimesLastYear       0.036875         -0.036942  -0.025100   \n",
       "WorkLifeBalance             0.026383         -0.026556   0.009819   \n",
       "YearsAtCompany              0.022920          0.009508   0.069114   \n",
       "YearsInCurrentRole          0.056315          0.018845   0.060236   \n",
       "YearsSinceLastPromotion     0.040061          0.010029   0.054254   \n",
       "YearsWithCurrManager        0.034282          0.014406   0.069065   \n",
       "\n",
       "                          EducationField  EnvironmentSatisfaction    Gender  \\\n",
       "Age                            -0.040873                 0.010146 -0.036311   \n",
       "Attrition                       0.026846                -0.103369  0.029453   \n",
       "BusinessTravel                  0.023724                 0.004174 -0.032981   \n",
       "DailyRate                       0.037709                 0.018355 -0.011716   \n",
       "Department                      0.013720                -0.019395 -0.041583   \n",
       "DistanceFromHome                0.002013                -0.016075 -0.001851   \n",
       "Education                      -0.039592                -0.027128 -0.016547   \n",
       "EducationField                  1.000000                 0.043163 -0.002504   \n",
       "EnvironmentSatisfaction         0.043163                 1.000000  0.000508   \n",
       "Gender                         -0.002504                 0.000508  1.000000   \n",
       "HourlyRate                     -0.021941                -0.049857 -0.000478   \n",
       "JobInvolvement                 -0.002655                -0.008278  0.017960   \n",
       "JobLevel                       -0.044933                 0.001212 -0.039403   \n",
       "JobRole                         0.015599                -0.017321 -0.039723   \n",
       "JobSatisfaction                -0.034401                -0.006784  0.033252   \n",
       "MaritalStatus                   0.014420                -0.003593 -0.047183   \n",
       "MonthlyIncome                  -0.041070                -0.006259 -0.031858   \n",
       "MonthlyRate                    -0.027182                 0.037600 -0.041482   \n",
       "NumCompaniesWorked             -0.008663                 0.012594 -0.039147   \n",
       "OverTime                        0.002259                 0.070132 -0.041924   \n",
       "PercentSalaryHike              -0.011214                -0.031701  0.002733   \n",
       "PerformanceRating              -0.005614                -0.029548 -0.013859   \n",
       "RelationshipSatisfaction       -0.004378                 0.007665  0.022868   \n",
       "StockOptionLevel               -0.016185                 0.003432  0.012716   \n",
       "TotalWorkingYears              -0.027848                -0.002693 -0.046881   \n",
       "TrainingTimesLastYear           0.049195                -0.019359 -0.038787   \n",
       "WorkLifeBalance                 0.041191                 0.027627 -0.002753   \n",
       "YearsAtCompany                 -0.018692                 0.001458 -0.029747   \n",
       "YearsInCurrentRole             -0.010506                 0.018007 -0.041483   \n",
       "YearsSinceLastPromotion         0.002326                 0.016194 -0.026985   \n",
       "YearsWithCurrManager           -0.004130                -0.004999 -0.030599   \n",
       "\n",
       "                          ...  PerformanceRating  RelationshipSatisfaction  \\\n",
       "Age                       ...           0.001904                  0.053535   \n",
       "Attrition                 ...           0.002889                 -0.045872   \n",
       "BusinessTravel            ...          -0.026341                 -0.035986   \n",
       "DailyRate                 ...           0.000473                  0.007846   \n",
       "Department                ...          -0.024604                 -0.022414   \n",
       "DistanceFromHome          ...           0.027110                  0.006557   \n",
       "Education                 ...          -0.024539                 -0.009118   \n",
       "EducationField            ...          -0.005614                 -0.004378   \n",
       "EnvironmentSatisfaction   ...          -0.029548                  0.007665   \n",
       "Gender                    ...          -0.013859                  0.022868   \n",
       "HourlyRate                ...          -0.002172                  0.001330   \n",
       "JobInvolvement            ...          -0.029071                  0.034297   \n",
       "JobLevel                  ...          -0.021222                  0.021642   \n",
       "JobRole                   ...          -0.024233                 -0.020218   \n",
       "JobSatisfaction           ...           0.002297                 -0.012454   \n",
       "MaritalStatus             ...           0.005207                  0.022549   \n",
       "MonthlyIncome             ...          -0.017120                  0.025873   \n",
       "MonthlyRate               ...          -0.009811                 -0.004085   \n",
       "NumCompaniesWorked        ...          -0.014095                  0.052733   \n",
       "OverTime                  ...           0.004369                  0.048493   \n",
       "PercentSalaryHike         ...           0.773550                 -0.040490   \n",
       "PerformanceRating         ...           1.000000                 -0.031351   \n",
       "RelationshipSatisfaction  ...          -0.031351                  1.000000   \n",
       "StockOptionLevel          ...           0.003506                 -0.045952   \n",
       "TotalWorkingYears         ...           0.006744                  0.024054   \n",
       "TrainingTimesLastYear     ...          -0.015579                  0.002497   \n",
       "WorkLifeBalance           ...           0.002572                  0.019604   \n",
       "YearsAtCompany            ...           0.003435                  0.019367   \n",
       "YearsInCurrentRole        ...           0.034986                 -0.015123   \n",
       "YearsSinceLastPromotion   ...           0.017896                  0.033493   \n",
       "YearsWithCurrManager      ...           0.022827                 -0.000867   \n",
       "\n",
       "                          StockOptionLevel  TotalWorkingYears  \\\n",
       "Age                               0.037510           0.680381   \n",
       "Attrition                        -0.137145          -0.171063   \n",
       "BusinessTravel                   -0.016727           0.034226   \n",
       "DailyRate                         0.042143           0.014515   \n",
       "Department                       -0.012193          -0.015762   \n",
       "DistanceFromHome                  0.044872           0.004628   \n",
       "Education                         0.018422           0.148280   \n",
       "EducationField                   -0.016185          -0.027848   \n",
       "EnvironmentSatisfaction           0.003432          -0.002693   \n",
       "Gender                            0.012716          -0.046881   \n",
       "HourlyRate                        0.050263          -0.002334   \n",
       "JobInvolvement                    0.021523          -0.005533   \n",
       "JobLevel                          0.013984           0.782208   \n",
       "JobRole                          -0.019171          -0.145439   \n",
       "JobSatisfaction                   0.010690          -0.020185   \n",
       "MaritalStatus                    -0.662577          -0.077886   \n",
       "MonthlyIncome                     0.005408           0.772893   \n",
       "MonthlyRate                      -0.034323           0.026442   \n",
       "NumCompaniesWorked                0.030075           0.237639   \n",
       "OverTime                         -0.000449           0.012754   \n",
       "PercentSalaryHike                 0.007528          -0.020608   \n",
       "PerformanceRating                 0.003506           0.006744   \n",
       "RelationshipSatisfaction         -0.045952           0.024054   \n",
       "StockOptionLevel                  1.000000           0.010136   \n",
       "TotalWorkingYears                 0.010136           1.000000   \n",
       "TrainingTimesLastYear             0.011274          -0.035662   \n",
       "WorkLifeBalance                   0.004129           0.001008   \n",
       "YearsAtCompany                    0.015058           0.628133   \n",
       "YearsInCurrentRole                0.050818           0.460365   \n",
       "YearsSinceLastPromotion           0.014352           0.404858   \n",
       "YearsWithCurrManager              0.024698           0.459188   \n",
       "\n",
       "                          TrainingTimesLastYear  WorkLifeBalance  \\\n",
       "Age                                   -0.019621        -0.021490   \n",
       "Attrition                             -0.059478        -0.063939   \n",
       "BusinessTravel                         0.015240        -0.011256   \n",
       "DailyRate                              0.002453        -0.037848   \n",
       "Department                             0.036875         0.026383   \n",
       "DistanceFromHome                      -0.036942        -0.026556   \n",
       "Education                             -0.025100         0.009819   \n",
       "EducationField                         0.049195         0.041191   \n",
       "EnvironmentSatisfaction               -0.019359         0.027627   \n",
       "Gender                                -0.038787        -0.002753   \n",
       "HourlyRate                            -0.008548        -0.004607   \n",
       "JobInvolvement                        -0.015338        -0.014617   \n",
       "JobLevel                              -0.018191         0.037818   \n",
       "JobRole                                0.001342         0.027764   \n",
       "JobSatisfaction                       -0.005779        -0.019459   \n",
       "MaritalStatus                          0.010629         0.014708   \n",
       "MonthlyIncome                         -0.021736         0.030683   \n",
       "MonthlyRate                            0.001467         0.007963   \n",
       "NumCompaniesWorked                    -0.066054        -0.008366   \n",
       "OverTime                              -0.079113        -0.027092   \n",
       "PercentSalaryHike                     -0.005221        -0.003280   \n",
       "PerformanceRating                     -0.015579         0.002572   \n",
       "RelationshipSatisfaction               0.002497         0.019604   \n",
       "StockOptionLevel                       0.011274         0.004129   \n",
       "TotalWorkingYears                     -0.035662         0.001008   \n",
       "TrainingTimesLastYear                  1.000000         0.028072   \n",
       "WorkLifeBalance                        0.028072         1.000000   \n",
       "YearsAtCompany                         0.003569         0.012089   \n",
       "YearsInCurrentRole                    -0.005738         0.049856   \n",
       "YearsSinceLastPromotion               -0.002067         0.008941   \n",
       "YearsWithCurrManager                  -0.004096         0.002759   \n",
       "\n",
       "                          YearsAtCompany  YearsInCurrentRole  \\\n",
       "Age                             0.311309            0.212901   \n",
       "Attrition                      -0.134392           -0.160545   \n",
       "BusinessTravel                 -0.014575           -0.011497   \n",
       "DailyRate                      -0.034055            0.009932   \n",
       "Department                      0.022920            0.056315   \n",
       "DistanceFromHome                0.009508            0.018845   \n",
       "Education                       0.069114            0.060236   \n",
       "EducationField                 -0.018692           -0.010506   \n",
       "EnvironmentSatisfaction         0.001458            0.018007   \n",
       "Gender                         -0.029747           -0.041483   \n",
       "HourlyRate                     -0.019582           -0.024106   \n",
       "JobInvolvement                 -0.021355            0.008717   \n",
       "JobLevel                        0.534739            0.389447   \n",
       "JobRole                        -0.083657           -0.028354   \n",
       "JobSatisfaction                -0.003803           -0.002305   \n",
       "MaritalStatus                  -0.059986           -0.065822   \n",
       "MonthlyIncome                   0.514285            0.363818   \n",
       "MonthlyRate                    -0.023655           -0.012815   \n",
       "NumCompaniesWorked             -0.118421           -0.090754   \n",
       "OverTime                       -0.011687           -0.029758   \n",
       "PercentSalaryHike              -0.035991           -0.001520   \n",
       "PerformanceRating               0.003435            0.034986   \n",
       "RelationshipSatisfaction        0.019367           -0.015123   \n",
       "StockOptionLevel                0.015058            0.050818   \n",
       "TotalWorkingYears               0.628133            0.460365   \n",
       "TrainingTimesLastYear           0.003569           -0.005738   \n",
       "WorkLifeBalance                 0.012089            0.049856   \n",
       "YearsAtCompany                  1.000000            0.758754   \n",
       "YearsInCurrentRole              0.758754            1.000000   \n",
       "YearsSinceLastPromotion         0.618409            0.548056   \n",
       "YearsWithCurrManager            0.769212            0.714365   \n",
       "\n",
       "                          YearsSinceLastPromotion  YearsWithCurrManager  \n",
       "Age                                      0.216513              0.202089  \n",
       "Attrition                               -0.033019             -0.156199  \n",
       "BusinessTravel                          -0.032591             -0.022636  \n",
       "DailyRate                               -0.033229             -0.026363  \n",
       "Department                               0.040061              0.034282  \n",
       "DistanceFromHome                         0.010029              0.014406  \n",
       "Education                                0.054254              0.069065  \n",
       "EducationField                           0.002326             -0.004130  \n",
       "EnvironmentSatisfaction                  0.016194             -0.004999  \n",
       "Gender                                  -0.026985             -0.030599  \n",
       "HourlyRate                              -0.026716             -0.020123  \n",
       "JobInvolvement                          -0.024184              0.025976  \n",
       "JobLevel                                 0.353885              0.375281  \n",
       "JobRole                                 -0.046384             -0.041150  \n",
       "JobSatisfaction                         -0.018214             -0.027656  \n",
       "MaritalStatus                           -0.030915             -0.038570  \n",
       "MonthlyIncome                            0.344978              0.344079  \n",
       "MonthlyRate                              0.001567             -0.036746  \n",
       "NumCompaniesWorked                      -0.036814             -0.110319  \n",
       "OverTime                                -0.012239             -0.041586  \n",
       "PercentSalaryHike                       -0.022154             -0.011985  \n",
       "PerformanceRating                        0.017896              0.022827  \n",
       "RelationshipSatisfaction                 0.033493             -0.000867  \n",
       "StockOptionLevel                         0.014352              0.024698  \n",
       "TotalWorkingYears                        0.404858              0.459188  \n",
       "TrainingTimesLastYear                   -0.002067             -0.004096  \n",
       "WorkLifeBalance                          0.008941              0.002759  \n",
       "YearsAtCompany                           0.618409              0.769212  \n",
       "YearsInCurrentRole                       0.548056              0.714365  \n",
       "YearsSinceLastPromotion                  1.000000              0.510224  \n",
       "YearsWithCurrManager                     0.510224              1.000000  \n",
       "\n",
       "[31 rows x 31 columns]"
      ]
     },
     "execution_count": 27,
     "metadata": {},
     "output_type": "execute_result"
    }
   ],
   "source": [
    "df.corr()"
   ]
  },
  {
   "cell_type": "code",
   "execution_count": 28,
   "id": "371d37a9",
   "metadata": {
    "ExecuteTime": {
     "end_time": "2023-05-10T01:13:16.349139Z",
     "start_time": "2023-05-10T01:13:16.017752Z"
    }
   },
   "outputs": [
    {
     "data": {
      "text/plain": [
       "<AxesSubplot:>"
      ]
     },
     "execution_count": 28,
     "metadata": {},
     "output_type": "execute_result"
    },
    {
     "data": {
      "image/png": "[encoded data removed]",
      "text/plain": [
       "<Figure size 792x648 with 2 Axes>"
      ]
     },
     "metadata": {},
     "output_type": "display_data"
    }
   ],
   "source": [
    "mask = np.triu(np.ones_like(df.corr(), dtype=bool))\n",
    "\n",
    "f, ax = plt.subplots(figsize=(11, 9))\n",
    "\n",
    "cmap = sns.color_palette(\"mako\", as_cmap=True)\n",
    "\n",
    "sns.heatmap(df.corr(), mask=mask, cmap=cmap, vmax=.3, center=0,\n",
    "            square=True, linewidths=.5, cbar_kws={\"shrink\": .5})"
   ]
  },
  {
   "cell_type": "code",
   "execution_count": 29,
   "id": "89fa4fd9",
   "metadata": {
    "ExecuteTime": {
     "end_time": "2023-05-10T01:13:16.352994Z",
     "start_time": "2023-05-10T01:13:16.350010Z"
    }
   },
   "outputs": [
    {
     "data": {
      "text/plain": [
       "array(['Human Resources', 'Life Sciences', 'Marketing', 'Medical',\n",
       "       'Other', 'Technical Degree'], dtype=object)"
      ]
     },
     "execution_count": 29,
     "metadata": {},
     "output_type": "execute_result"
    }
   ],
   "source": [
    "le_EducationField.classes_"
   ]
  },
  {
   "cell_type": "code",
   "execution_count": 30,
   "id": "14a195cf",
   "metadata": {
    "ExecuteTime": {
     "end_time": "2023-05-10T01:13:16.355577Z",
     "start_time": "2023-05-10T01:13:16.353821Z"
    }
   },
   "outputs": [],
   "source": [
    "cols = [\"BusinessTravel\",\"Department\",\"EducationField\",\"Gender\",\"JobRole\",\"MaritalStatus\",\"OverTime\"]"
   ]
  },
  {
   "cell_type": "code",
   "execution_count": 31,
   "id": "fa135f04",
   "metadata": {
    "ExecuteTime": {
     "end_time": "2023-05-10T01:13:16.362294Z",
     "start_time": "2023-05-10T01:13:16.356334Z"
    }
   },
   "outputs": [
    {
     "name": "stdout",
     "output_type": "stream",
     "text": [
      "2023-05-09 21:13:16,358 :: [INFO] :: BusinessTravel       :: 3 :: [2, 1, 0]\n",
      "2023-05-09 21:13:16,359 :: [INFO] :: Department           :: 3 :: [2, 1, 0]\n",
      "2023-05-09 21:13:16,359 :: [INFO] :: EducationField       :: 6 :: [1, 4, 3, 2, 5, 0]\n",
      "2023-05-09 21:13:16,359 :: [INFO] :: Gender               :: 2 :: [0, 1]\n",
      "2023-05-09 21:13:16,360 :: [INFO] :: JobRole              :: 9 :: [7, 6, 2, 4, 0, 3, 8, 5, 1]\n",
      "2023-05-09 21:13:16,360 :: [INFO] :: MaritalStatus        :: 3 :: [2, 1, 0]\n",
      "2023-05-09 21:13:16,361 :: [INFO] :: OverTime             :: 2 :: [1, 0]\n"
     ]
    }
   ],
   "source": [
    "# To see how many categories exist in each categorical column \n",
    "for col in cols:\n",
    "    log_info(f\"{col:<20} :: {df[col].nunique()} :: {list(df[col].unique())}\")"
   ]
  },
  {
   "cell_type": "code",
   "execution_count": 32,
   "id": "877909ef",
   "metadata": {
    "ExecuteTime": {
     "end_time": "2023-05-10T01:13:16.369488Z",
     "start_time": "2023-05-10T01:13:16.363018Z"
    }
   },
   "outputs": [],
   "source": [
    "df_ohe = pd.get_dummies(df, columns=[\"BusinessTravel\",\"Department\",\"EducationField\",\"Gender\",\"JobRole\",\"MaritalStatus\",\"OverTime\"])"
   ]
  },
  {
   "cell_type": "markdown",
   "id": "7fdb1d4d",
   "metadata": {
    "heading_collapsed": true
   },
   "source": [
    "## DECISION TREE"
   ]
  },
  {
   "cell_type": "markdown",
   "id": "c859f9bb",
   "metadata": {
    "heading_collapsed": true
   },
   "source": [
    "## RANDOM FOREST"
   ]
  },
  {
   "cell_type": "code",
   "execution_count": 33,
   "id": "ceea1d7c",
   "metadata": {
    "ExecuteTime": {
     "end_time": "2023-05-10T01:13:16.373189Z",
     "start_time": "2023-05-10T01:13:16.370562Z"
    },
    "hidden": true
   },
   "outputs": [],
   "source": [
    "X = df.loc[:,df.columns!=\"Attrition\"] \n",
    "y = df.loc[:,\"Attrition\"]"
   ]
  },
  {
   "cell_type": "code",
   "execution_count": 34,
   "id": "cba5d0c3",
   "metadata": {
    "ExecuteTime": {
     "end_time": "2023-05-10T01:13:16.533735Z",
     "start_time": "2023-05-10T01:13:16.374008Z"
    },
    "hidden": true
   },
   "outputs": [],
   "source": [
    "import sklearn \n",
    "from sklearn.model_selection import cross_validate\n",
    "from sklearn.model_selection import GridSearchCV\n",
    "from sklearn.ensemble import RandomForestClassifier"
   ]
  },
  {
   "cell_type": "code",
   "execution_count": 35,
   "id": "45729297",
   "metadata": {
    "ExecuteTime": {
     "end_time": "2023-05-10T01:13:16.536322Z",
     "start_time": "2023-05-10T01:13:16.534672Z"
    },
    "hidden": true
   },
   "outputs": [],
   "source": [
    "hyperparameter_space_rf = { 'n_estimators' : [100,150,300],\n",
    "    \"max_depth\" : [3,7,10],\n",
    "    \"min_samples_split\" : [0.02,0.05,0.1]} # hyperparameter space for random forest"
   ]
  },
  {
   "cell_type": "code",
   "execution_count": 36,
   "id": "f44cec14",
   "metadata": {
    "ExecuteTime": {
     "end_time": "2023-05-10T01:13:16.538635Z",
     "start_time": "2023-05-10T01:13:16.537088Z"
    },
    "hidden": true
   },
   "outputs": [],
   "source": [
    "clf = RandomForestClassifier() "
   ]
  },
  {
   "cell_type": "code",
   "execution_count": 37,
   "id": "0a200d8c",
   "metadata": {
    "ExecuteTime": {
     "end_time": "2023-05-10T01:13:16.540897Z",
     "start_time": "2023-05-10T01:13:16.539504Z"
    },
    "hidden": true
   },
   "outputs": [],
   "source": [
    "from sklearn.model_selection import train_test_split"
   ]
  },
  {
   "cell_type": "code",
   "execution_count": 38,
   "id": "2899aa73",
   "metadata": {
    "ExecuteTime": {
     "end_time": "2023-05-10T01:13:16.546756Z",
     "start_time": "2023-05-10T01:13:16.541742Z"
    },
    "hidden": true
   },
   "outputs": [],
   "source": [
    "X_train, X_test, Y_train, Y_test = train_test_split(X, y, test_size = 0.25, random_state = 42, stratify = y)\n",
    "# splitting data with 25% going in the test set. Random State keeps the splitting constant across runs. \n",
    "# stratify preserves label distribution "
   ]
  },
  {
   "cell_type": "code",
   "execution_count": 39,
   "id": "03e20118",
   "metadata": {
    "ExecuteTime": {
     "end_time": "2023-05-10T01:13:39.230066Z",
     "start_time": "2023-05-10T01:13:16.547653Z"
    },
    "hidden": true
   },
   "outputs": [
    {
     "name": "stdout",
     "output_type": "stream",
     "text": [
      "Fitting 5 folds for each of 27 candidates, totalling 135 fits\n",
      "[CV] END max_depth=3, min_samples_split=0.02, n_estimators=100; total time=   0.1s\n",
      "[CV] END max_depth=3, min_samples_split=0.02, n_estimators=100; total time=   0.1s\n",
      "[CV] END max_depth=3, min_samples_split=0.02, n_estimators=100; total time=   0.1s\n",
      "[CV] END max_depth=3, min_samples_split=0.02, n_estimators=100; total time=   0.1s\n",
      "[CV] END max_depth=3, min_samples_split=0.02, n_estimators=100; total time=   0.1s\n",
      "[CV] END max_depth=3, min_samples_split=0.02, n_estimators=150; total time=   0.1s\n",
      "[CV] END max_depth=3, min_samples_split=0.02, n_estimators=150; total time=   0.1s\n",
      "[CV] END max_depth=3, min_samples_split=0.02, n_estimators=150; total time=   0.1s\n",
      "[CV] END max_depth=3, min_samples_split=0.02, n_estimators=150; total time=   0.1s\n",
      "[CV] END max_depth=3, min_samples_split=0.02, n_estimators=150; total time=   0.1s\n",
      "[CV] END max_depth=3, min_samples_split=0.02, n_estimators=300; total time=   0.2s\n",
      "[CV] END max_depth=3, min_samples_split=0.02, n_estimators=300; total time=   0.2s\n",
      "[CV] END max_depth=3, min_samples_split=0.02, n_estimators=300; total time=   0.2s\n",
      "[CV] END max_depth=3, min_samples_split=0.02, n_estimators=300; total time=   0.2s\n",
      "[CV] END max_depth=3, min_samples_split=0.02, n_estimators=300; total time=   0.2s\n",
      "[CV] END max_depth=3, min_samples_split=0.05, n_estimators=100; total time=   0.1s\n",
      "[CV] END max_depth=3, min_samples_split=0.05, n_estimators=100; total time=   0.1s\n",
      "[CV] END max_depth=3, min_samples_split=0.05, n_estimators=100; total time=   0.1s\n",
      "[CV] END max_depth=3, min_samples_split=0.05, n_estimators=100; total time=   0.1s\n",
      "[CV] END max_depth=3, min_samples_split=0.05, n_estimators=100; total time=   0.1s\n",
      "[CV] END max_depth=3, min_samples_split=0.05, n_estimators=150; total time=   0.1s\n",
      "[CV] END max_depth=3, min_samples_split=0.05, n_estimators=150; total time=   0.1s\n",
      "[CV] END max_depth=3, min_samples_split=0.05, n_estimators=150; total time=   0.1s\n",
      "[CV] END max_depth=3, min_samples_split=0.05, n_estimators=150; total time=   0.1s\n",
      "[CV] END max_depth=3, min_samples_split=0.05, n_estimators=150; total time=   0.1s\n",
      "[CV] END max_depth=3, min_samples_split=0.05, n_estimators=300; total time=   0.2s\n",
      "[CV] END max_depth=3, min_samples_split=0.05, n_estimators=300; total time=   0.2s\n",
      "[CV] END max_depth=3, min_samples_split=0.05, n_estimators=300; total time=   0.2s\n",
      "[CV] END max_depth=3, min_samples_split=0.05, n_estimators=300; total time=   0.2s\n",
      "[CV] END max_depth=3, min_samples_split=0.05, n_estimators=300; total time=   0.2s\n",
      "[CV] END max_depth=3, min_samples_split=0.1, n_estimators=100; total time=   0.1s\n",
      "[CV] END max_depth=3, min_samples_split=0.1, n_estimators=100; total time=   0.1s\n",
      "[CV] END max_depth=3, min_samples_split=0.1, n_estimators=100; total time=   0.1s\n",
      "[CV] END max_depth=3, min_samples_split=0.1, n_estimators=100; total time=   0.1s\n",
      "[CV] END max_depth=3, min_samples_split=0.1, n_estimators=100; total time=   0.1s\n",
      "[CV] END max_depth=3, min_samples_split=0.1, n_estimators=150; total time=   0.1s\n",
      "[CV] END max_depth=3, min_samples_split=0.1, n_estimators=150; total time=   0.1s\n",
      "[CV] END max_depth=3, min_samples_split=0.1, n_estimators=150; total time=   0.1s\n",
      "[CV] END max_depth=3, min_samples_split=0.1, n_estimators=150; total time=   0.1s\n",
      "[CV] END max_depth=3, min_samples_split=0.1, n_estimators=150; total time=   0.1s\n",
      "[CV] END max_depth=3, min_samples_split=0.1, n_estimators=300; total time=   0.2s\n",
      "[CV] END max_depth=3, min_samples_split=0.1, n_estimators=300; total time=   0.2s\n",
      "[CV] END max_depth=3, min_samples_split=0.1, n_estimators=300; total time=   0.2s\n",
      "[CV] END max_depth=3, min_samples_split=0.1, n_estimators=300; total time=   0.2s\n",
      "[CV] END max_depth=3, min_samples_split=0.1, n_estimators=300; total time=   0.2s\n",
      "[CV] END max_depth=7, min_samples_split=0.02, n_estimators=100; total time=   0.1s\n",
      "[CV] END max_depth=7, min_samples_split=0.02, n_estimators=100; total time=   0.1s\n",
      "[CV] END max_depth=7, min_samples_split=0.02, n_estimators=100; total time=   0.1s\n",
      "[CV] END max_depth=7, min_samples_split=0.02, n_estimators=100; total time=   0.1s\n",
      "[CV] END max_depth=7, min_samples_split=0.02, n_estimators=100; total time=   0.1s\n",
      "[CV] END max_depth=7, min_samples_split=0.02, n_estimators=150; total time=   0.1s\n",
      "[CV] END max_depth=7, min_samples_split=0.02, n_estimators=150; total time=   0.1s\n",
      "[CV] END max_depth=7, min_samples_split=0.02, n_estimators=150; total time=   0.1s\n",
      "[CV] END max_depth=7, min_samples_split=0.02, n_estimators=150; total time=   0.2s\n",
      "[CV] END max_depth=7, min_samples_split=0.02, n_estimators=150; total time=   0.1s\n",
      "[CV] END max_depth=7, min_samples_split=0.02, n_estimators=300; total time=   0.3s\n",
      "[CV] END max_depth=7, min_samples_split=0.02, n_estimators=300; total time=   0.3s\n",
      "[CV] END max_depth=7, min_samples_split=0.02, n_estimators=300; total time=   0.3s\n",
      "[CV] END max_depth=7, min_samples_split=0.02, n_estimators=300; total time=   0.3s\n",
      "[CV] END max_depth=7, min_samples_split=0.02, n_estimators=300; total time=   0.3s\n",
      "[CV] END max_depth=7, min_samples_split=0.05, n_estimators=100; total time=   0.1s\n",
      "[CV] END max_depth=7, min_samples_split=0.05, n_estimators=100; total time=   0.1s\n",
      "[CV] END max_depth=7, min_samples_split=0.05, n_estimators=100; total time=   0.1s\n",
      "[CV] END max_depth=7, min_samples_split=0.05, n_estimators=100; total time=   0.1s\n",
      "[CV] END max_depth=7, min_samples_split=0.05, n_estimators=100; total time=   0.1s\n",
      "[CV] END max_depth=7, min_samples_split=0.05, n_estimators=150; total time=   0.1s\n",
      "[CV] END max_depth=7, min_samples_split=0.05, n_estimators=150; total time=   0.1s\n",
      "[CV] END max_depth=7, min_samples_split=0.05, n_estimators=150; total time=   0.1s\n",
      "[CV] END max_depth=7, min_samples_split=0.05, n_estimators=150; total time=   0.1s\n",
      "[CV] END max_depth=7, min_samples_split=0.05, n_estimators=150; total time=   0.1s\n",
      "[CV] END max_depth=7, min_samples_split=0.05, n_estimators=300; total time=   0.3s\n",
      "[CV] END max_depth=7, min_samples_split=0.05, n_estimators=300; total time=   0.3s\n",
      "[CV] END max_depth=7, min_samples_split=0.05, n_estimators=300; total time=   0.3s\n",
      "[CV] END max_depth=7, min_samples_split=0.05, n_estimators=300; total time=   0.3s\n",
      "[CV] END max_depth=7, min_samples_split=0.05, n_estimators=300; total time=   0.3s\n",
      "[CV] END max_depth=7, min_samples_split=0.1, n_estimators=100; total time=   0.1s\n",
      "[CV] END max_depth=7, min_samples_split=0.1, n_estimators=100; total time=   0.1s\n",
      "[CV] END max_depth=7, min_samples_split=0.1, n_estimators=100; total time=   0.1s\n",
      "[CV] END max_depth=7, min_samples_split=0.1, n_estimators=100; total time=   0.1s\n",
      "[CV] END max_depth=7, min_samples_split=0.1, n_estimators=100; total time=   0.1s\n",
      "[CV] END max_depth=7, min_samples_split=0.1, n_estimators=150; total time=   0.1s\n",
      "[CV] END max_depth=7, min_samples_split=0.1, n_estimators=150; total time=   0.1s\n",
      "[CV] END max_depth=7, min_samples_split=0.1, n_estimators=150; total time=   0.1s\n",
      "[CV] END max_depth=7, min_samples_split=0.1, n_estimators=150; total time=   0.1s\n",
      "[CV] END max_depth=7, min_samples_split=0.1, n_estimators=150; total time=   0.1s\n",
      "[CV] END max_depth=7, min_samples_split=0.1, n_estimators=300; total time=   0.3s\n",
      "[CV] END max_depth=7, min_samples_split=0.1, n_estimators=300; total time=   0.3s\n",
      "[CV] END max_depth=7, min_samples_split=0.1, n_estimators=300; total time=   0.3s\n",
      "[CV] END max_depth=7, min_samples_split=0.1, n_estimators=300; total time=   0.3s\n",
      "[CV] END max_depth=7, min_samples_split=0.1, n_estimators=300; total time=   0.3s\n",
      "[CV] END max_depth=10, min_samples_split=0.02, n_estimators=100; total time=   0.1s\n",
      "[CV] END max_depth=10, min_samples_split=0.02, n_estimators=100; total time=   0.1s\n",
      "[CV] END max_depth=10, min_samples_split=0.02, n_estimators=100; total time=   0.1s\n",
      "[CV] END max_depth=10, min_samples_split=0.02, n_estimators=100; total time=   0.1s\n",
      "[CV] END max_depth=10, min_samples_split=0.02, n_estimators=100; total time=   0.1s\n",
      "[CV] END max_depth=10, min_samples_split=0.02, n_estimators=150; total time=   0.2s\n",
      "[CV] END max_depth=10, min_samples_split=0.02, n_estimators=150; total time=   0.2s\n",
      "[CV] END max_depth=10, min_samples_split=0.02, n_estimators=150; total time=   0.2s\n",
      "[CV] END max_depth=10, min_samples_split=0.02, n_estimators=150; total time=   0.2s\n"
     ]
    },
    {
     "name": "stdout",
     "output_type": "stream",
     "text": [
      "[CV] END max_depth=10, min_samples_split=0.02, n_estimators=150; total time=   0.2s\n",
      "[CV] END max_depth=10, min_samples_split=0.02, n_estimators=300; total time=   0.3s\n",
      "[CV] END max_depth=10, min_samples_split=0.02, n_estimators=300; total time=   0.3s\n",
      "[CV] END max_depth=10, min_samples_split=0.02, n_estimators=300; total time=   0.3s\n",
      "[CV] END max_depth=10, min_samples_split=0.02, n_estimators=300; total time=   0.3s\n",
      "[CV] END max_depth=10, min_samples_split=0.02, n_estimators=300; total time=   0.3s\n",
      "[CV] END max_depth=10, min_samples_split=0.05, n_estimators=100; total time=   0.1s\n",
      "[CV] END max_depth=10, min_samples_split=0.05, n_estimators=100; total time=   0.1s\n",
      "[CV] END max_depth=10, min_samples_split=0.05, n_estimators=100; total time=   0.1s\n",
      "[CV] END max_depth=10, min_samples_split=0.05, n_estimators=100; total time=   0.1s\n",
      "[CV] END max_depth=10, min_samples_split=0.05, n_estimators=100; total time=   0.1s\n",
      "[CV] END max_depth=10, min_samples_split=0.05, n_estimators=150; total time=   0.1s\n",
      "[CV] END max_depth=10, min_samples_split=0.05, n_estimators=150; total time=   0.1s\n",
      "[CV] END max_depth=10, min_samples_split=0.05, n_estimators=150; total time=   0.2s\n",
      "[CV] END max_depth=10, min_samples_split=0.05, n_estimators=150; total time=   0.1s\n",
      "[CV] END max_depth=10, min_samples_split=0.05, n_estimators=150; total time=   0.1s\n",
      "[CV] END max_depth=10, min_samples_split=0.05, n_estimators=300; total time=   0.3s\n",
      "[CV] END max_depth=10, min_samples_split=0.05, n_estimators=300; total time=   0.3s\n",
      "[CV] END max_depth=10, min_samples_split=0.05, n_estimators=300; total time=   0.3s\n",
      "[CV] END max_depth=10, min_samples_split=0.05, n_estimators=300; total time=   0.3s\n",
      "[CV] END max_depth=10, min_samples_split=0.05, n_estimators=300; total time=   0.3s\n",
      "[CV] END max_depth=10, min_samples_split=0.1, n_estimators=100; total time=   0.1s\n",
      "[CV] END max_depth=10, min_samples_split=0.1, n_estimators=100; total time=   0.1s\n",
      "[CV] END max_depth=10, min_samples_split=0.1, n_estimators=100; total time=   0.1s\n",
      "[CV] END max_depth=10, min_samples_split=0.1, n_estimators=100; total time=   0.1s\n",
      "[CV] END max_depth=10, min_samples_split=0.1, n_estimators=100; total time=   0.1s\n",
      "[CV] END max_depth=10, min_samples_split=0.1, n_estimators=150; total time=   0.1s\n",
      "[CV] END max_depth=10, min_samples_split=0.1, n_estimators=150; total time=   0.1s\n",
      "[CV] END max_depth=10, min_samples_split=0.1, n_estimators=150; total time=   0.1s\n",
      "[CV] END max_depth=10, min_samples_split=0.1, n_estimators=150; total time=   0.1s\n",
      "[CV] END max_depth=10, min_samples_split=0.1, n_estimators=150; total time=   0.1s\n",
      "[CV] END max_depth=10, min_samples_split=0.1, n_estimators=300; total time=   0.3s\n",
      "[CV] END max_depth=10, min_samples_split=0.1, n_estimators=300; total time=   0.3s\n",
      "[CV] END max_depth=10, min_samples_split=0.1, n_estimators=300; total time=   0.3s\n",
      "[CV] END max_depth=10, min_samples_split=0.1, n_estimators=300; total time=   0.3s\n",
      "[CV] END max_depth=10, min_samples_split=0.1, n_estimators=300; total time=   0.3s\n"
     ]
    },
    {
     "data": {
      "text/plain": [
       "GridSearchCV(cv=5, estimator=RandomForestClassifier(),\n",
       "             param_grid={'max_depth': [3, 7, 10],\n",
       "                         'min_samples_split': [0.02, 0.05, 0.1],\n",
       "                         'n_estimators': [100, 150, 300]},\n",
       "             scoring='f1_weighted', verbose=2)"
      ]
     },
     "execution_count": 39,
     "metadata": {},
     "output_type": "execute_result"
    }
   ],
   "source": [
    "clf_rf = GridSearchCV(clf, hyperparameter_space_rf, cv=5, scoring='f1_weighted', verbose=2) # using grid search cv to find the best model from the hyperparameter space\n",
    "clf_rf.fit(X_train,Y_train)\n",
    "# GridSearchCV searches through the space defined above with 5 fold cross validation paradigm "
   ]
  },
  {
   "cell_type": "code",
   "execution_count": 40,
   "id": "a213c634",
   "metadata": {
    "ExecuteTime": {
     "end_time": "2023-05-10T01:13:39.234178Z",
     "start_time": "2023-05-10T01:13:39.231559Z"
    },
    "hidden": true
   },
   "outputs": [
    {
     "data": {
      "text/plain": [
       "RandomForestClassifier(max_depth=7, min_samples_split=0.02, n_estimators=300)"
      ]
     },
     "execution_count": 40,
     "metadata": {},
     "output_type": "execute_result"
    }
   ],
   "source": [
    "clf_rf.best_estimator_"
   ]
  },
  {
   "cell_type": "code",
   "execution_count": 41,
   "id": "5de280ba",
   "metadata": {
    "ExecuteTime": {
     "end_time": "2023-05-10T01:13:39.236606Z",
     "start_time": "2023-05-10T01:13:39.235028Z"
    },
    "hidden": true
   },
   "outputs": [],
   "source": [
    "clf_rf = RandomForestClassifier(max_depth=10, min_samples_split=0.02, n_estimators=300) # fitting the model with best f1_weighted score "
   ]
  },
  {
   "cell_type": "code",
   "execution_count": 42,
   "id": "fb15c1ab",
   "metadata": {
    "ExecuteTime": {
     "end_time": "2023-05-10T01:13:39.591257Z",
     "start_time": "2023-05-10T01:13:39.237342Z"
    },
    "hidden": true
   },
   "outputs": [
    {
     "data": {
      "text/plain": [
       "RandomForestClassifier(max_depth=10, min_samples_split=0.02, n_estimators=300)"
      ]
     },
     "execution_count": 42,
     "metadata": {},
     "output_type": "execute_result"
    }
   ],
   "source": [
    "clf_rf.fit(X_train,Y_train)"
   ]
  },
  {
   "cell_type": "code",
   "execution_count": 43,
   "id": "10adc8a4",
   "metadata": {
    "ExecuteTime": {
     "end_time": "2023-05-10T01:13:40.659376Z",
     "start_time": "2023-05-10T01:13:39.592073Z"
    },
    "hidden": true
   },
   "outputs": [],
   "source": [
    "scores_dt = cross_validate(clf_rf, X_test, Y_test, scoring=\"f1_weighted\", cv = 5)"
   ]
  },
  {
   "cell_type": "code",
   "execution_count": 44,
   "id": "18034ce5",
   "metadata": {
    "ExecuteTime": {
     "end_time": "2023-05-10T01:13:40.662811Z",
     "start_time": "2023-05-10T01:13:40.660329Z"
    },
    "hidden": true
   },
   "outputs": [
    {
     "data": {
      "text/plain": [
       "(0.7773994841851833, 0.016283238096053507)"
      ]
     },
     "execution_count": 44,
     "metadata": {},
     "output_type": "execute_result"
    }
   ],
   "source": [
    "scores_dt['test_score'].mean(), scores_dt['test_score'].std()"
   ]
  },
  {
   "cell_type": "code",
   "execution_count": 45,
   "id": "6b176c23",
   "metadata": {
    "ExecuteTime": {
     "end_time": "2023-05-10T01:13:40.753861Z",
     "start_time": "2023-05-10T01:13:40.663726Z"
    },
    "hidden": true
   },
   "outputs": [
    {
     "data": {
      "image/png": "[encoded data removed]",
      "text/plain": [
       "<Figure size 432x288 with 1 Axes>"
      ]
     },
     "metadata": {},
     "output_type": "display_data"
    }
   ],
   "source": [
    "from sklearn.metrics import PrecisionRecallDisplay\n",
    "\n",
    "display = PrecisionRecallDisplay.from_estimator(\n",
    "    clf_rf, X_test, Y_test, name=\"RandomForest\"\n",
    ")\n",
    "_ = display.ax_.set_title(\"2-class Precision-Recall curve\")\n",
    "# Precicion Recall Curve to see how good the model is. "
   ]
  },
  {
   "cell_type": "code",
   "execution_count": 46,
   "id": "a5a061a1",
   "metadata": {
    "ExecuteTime": {
     "end_time": "2023-05-10T01:13:40.757090Z",
     "start_time": "2023-05-10T01:13:40.754724Z"
    },
    "hidden": true
   },
   "outputs": [],
   "source": [
    "X = df.loc[:,df.columns!=\"Attrition\"] \n",
    "y = df.loc[:,\"Attrition\"]"
   ]
  },
  {
   "cell_type": "code",
   "execution_count": 47,
   "id": "31cdefb6",
   "metadata": {
    "ExecuteTime": {
     "end_time": "2023-05-10T01:13:40.759729Z",
     "start_time": "2023-05-10T01:13:40.758047Z"
    },
    "hidden": true
   },
   "outputs": [],
   "source": [
    "import sklearn \n",
    "from sklearn.model_selection import cross_validate\n",
    "from sklearn.model_selection import GridSearchCV\n",
    "from sklearn.tree import DecisionTreeClassifier"
   ]
  },
  {
   "cell_type": "code",
   "execution_count": 48,
   "id": "4acb6c21",
   "metadata": {
    "ExecuteTime": {
     "end_time": "2023-05-10T01:13:40.762678Z",
     "start_time": "2023-05-10T01:13:40.760514Z"
    },
    "hidden": true
   },
   "outputs": [],
   "source": [
    "hyperparameter_space_dt = {\n",
    "    \"max_depth\" : [3,7,10], \n",
    "    \"splitter\" : ['best', 'random'],\n",
    "    \"criterion\" : ['gini', 'entropy'],\n",
    "    \"min_samples_split\" : [5,8,10]\n",
    "} # hyperparameter space for decision trees"
   ]
  },
  {
   "cell_type": "code",
   "execution_count": 49,
   "id": "aef961bd",
   "metadata": {
    "ExecuteTime": {
     "end_time": "2023-05-10T01:13:40.765222Z",
     "start_time": "2023-05-10T01:13:40.763572Z"
    },
    "hidden": true
   },
   "outputs": [],
   "source": [
    "clf = DecisionTreeClassifier() "
   ]
  },
  {
   "cell_type": "code",
   "execution_count": 50,
   "id": "dfabae6a",
   "metadata": {
    "ExecuteTime": {
     "end_time": "2023-05-10T01:13:40.767831Z",
     "start_time": "2023-05-10T01:13:40.766142Z"
    },
    "hidden": true
   },
   "outputs": [],
   "source": [
    "from sklearn.model_selection import train_test_split"
   ]
  },
  {
   "cell_type": "code",
   "execution_count": 51,
   "id": "ab8e93cb",
   "metadata": {
    "ExecuteTime": {
     "end_time": "2023-05-10T01:13:40.772292Z",
     "start_time": "2023-05-10T01:13:40.768698Z"
    },
    "hidden": true
   },
   "outputs": [],
   "source": [
    "X_train, X_test, Y_train, Y_test = train_test_split(X, y, test_size = 0.25, random_state = 42, stratify = y)\n",
    "# splitting data with 25% going in the test set. Random State keeps the splitting constant across runs. \n",
    "# stratify preserves label distribution "
   ]
  },
  {
   "cell_type": "code",
   "execution_count": 52,
   "id": "684608f6",
   "metadata": {
    "ExecuteTime": {
     "end_time": "2023-05-10T01:13:41.514985Z",
     "start_time": "2023-05-10T01:13:40.772988Z"
    },
    "hidden": true
   },
   "outputs": [
    {
     "name": "stdout",
     "output_type": "stream",
     "text": [
      "Fitting 5 folds for each of 36 candidates, totalling 180 fits\n",
      "[CV] END criterion=gini, max_depth=3, min_samples_split=5, splitter=best; total time=   0.0s\n",
      "[CV] END criterion=gini, max_depth=3, min_samples_split=5, splitter=best; total time=   0.0s\n",
      "[CV] END criterion=gini, max_depth=3, min_samples_split=5, splitter=best; total time=   0.0s\n",
      "[CV] END criterion=gini, max_depth=3, min_samples_split=5, splitter=best; total time=   0.0s\n",
      "[CV] END criterion=gini, max_depth=3, min_samples_split=5, splitter=best; total time=   0.0s\n",
      "[CV] END criterion=gini, max_depth=3, min_samples_split=5, splitter=random; total time=   0.0s\n",
      "[CV] END criterion=gini, max_depth=3, min_samples_split=5, splitter=random; total time=   0.0s\n",
      "[CV] END criterion=gini, max_depth=3, min_samples_split=5, splitter=random; total time=   0.0s\n",
      "[CV] END criterion=gini, max_depth=3, min_samples_split=5, splitter=random; total time=   0.0s\n",
      "[CV] END criterion=gini, max_depth=3, min_samples_split=5, splitter=random; total time=   0.0s\n",
      "[CV] END criterion=gini, max_depth=3, min_samples_split=8, splitter=best; total time=   0.0s\n",
      "[CV] END criterion=gini, max_depth=3, min_samples_split=8, splitter=best; total time=   0.0s\n",
      "[CV] END criterion=gini, max_depth=3, min_samples_split=8, splitter=best; total time=   0.0s\n",
      "[CV] END criterion=gini, max_depth=3, min_samples_split=8, splitter=best; total time=   0.0s\n",
      "[CV] END criterion=gini, max_depth=3, min_samples_split=8, splitter=best; total time=   0.0s\n",
      "[CV] END criterion=gini, max_depth=3, min_samples_split=8, splitter=random; total time=   0.0s\n",
      "[CV] END criterion=gini, max_depth=3, min_samples_split=8, splitter=random; total time=   0.0s\n",
      "[CV] END criterion=gini, max_depth=3, min_samples_split=8, splitter=random; total time=   0.0s\n",
      "[CV] END criterion=gini, max_depth=3, min_samples_split=8, splitter=random; total time=   0.0s\n",
      "[CV] END criterion=gini, max_depth=3, min_samples_split=8, splitter=random; total time=   0.0s\n",
      "[CV] END criterion=gini, max_depth=3, min_samples_split=10, splitter=best; total time=   0.0s\n",
      "[CV] END criterion=gini, max_depth=3, min_samples_split=10, splitter=best; total time=   0.0s\n",
      "[CV] END criterion=gini, max_depth=3, min_samples_split=10, splitter=best; total time=   0.0s\n",
      "[CV] END criterion=gini, max_depth=3, min_samples_split=10, splitter=best; total time=   0.0s\n",
      "[CV] END criterion=gini, max_depth=3, min_samples_split=10, splitter=best; total time=   0.0s\n",
      "[CV] END criterion=gini, max_depth=3, min_samples_split=10, splitter=random; total time=   0.0s\n",
      "[CV] END criterion=gini, max_depth=3, min_samples_split=10, splitter=random; total time=   0.0s\n",
      "[CV] END criterion=gini, max_depth=3, min_samples_split=10, splitter=random; total time=   0.0s\n",
      "[CV] END criterion=gini, max_depth=3, min_samples_split=10, splitter=random; total time=   0.0s\n",
      "[CV] END criterion=gini, max_depth=3, min_samples_split=10, splitter=random; total time=   0.0s\n",
      "[CV] END criterion=gini, max_depth=7, min_samples_split=5, splitter=best; total time=   0.0s\n",
      "[CV] END criterion=gini, max_depth=7, min_samples_split=5, splitter=best; total time=   0.0s\n",
      "[CV] END criterion=gini, max_depth=7, min_samples_split=5, splitter=best; total time=   0.0s\n",
      "[CV] END criterion=gini, max_depth=7, min_samples_split=5, splitter=best; total time=   0.0s\n",
      "[CV] END criterion=gini, max_depth=7, min_samples_split=5, splitter=best; total time=   0.0s\n",
      "[CV] END criterion=gini, max_depth=7, min_samples_split=5, splitter=random; total time=   0.0s\n",
      "[CV] END criterion=gini, max_depth=7, min_samples_split=5, splitter=random; total time=   0.0s\n",
      "[CV] END criterion=gini, max_depth=7, min_samples_split=5, splitter=random; total time=   0.0s\n",
      "[CV] END criterion=gini, max_depth=7, min_samples_split=5, splitter=random; total time=   0.0s\n",
      "[CV] END criterion=gini, max_depth=7, min_samples_split=5, splitter=random; total time=   0.0s\n",
      "[CV] END criterion=gini, max_depth=7, min_samples_split=8, splitter=best; total time=   0.0s\n",
      "[CV] END criterion=gini, max_depth=7, min_samples_split=8, splitter=best; total time=   0.0s\n",
      "[CV] END criterion=gini, max_depth=7, min_samples_split=8, splitter=best; total time=   0.0s\n",
      "[CV] END criterion=gini, max_depth=7, min_samples_split=8, splitter=best; total time=   0.0s\n",
      "[CV] END criterion=gini, max_depth=7, min_samples_split=8, splitter=best; total time=   0.0s\n",
      "[CV] END criterion=gini, max_depth=7, min_samples_split=8, splitter=random; total time=   0.0s\n",
      "[CV] END criterion=gini, max_depth=7, min_samples_split=8, splitter=random; total time=   0.0s\n",
      "[CV] END criterion=gini, max_depth=7, min_samples_split=8, splitter=random; total time=   0.0s\n",
      "[CV] END criterion=gini, max_depth=7, min_samples_split=8, splitter=random; total time=   0.0s\n",
      "[CV] END criterion=gini, max_depth=7, min_samples_split=8, splitter=random; total time=   0.0s\n",
      "[CV] END criterion=gini, max_depth=7, min_samples_split=10, splitter=best; total time=   0.0s\n",
      "[CV] END criterion=gini, max_depth=7, min_samples_split=10, splitter=best; total time=   0.0s\n",
      "[CV] END criterion=gini, max_depth=7, min_samples_split=10, splitter=best; total time=   0.0s\n",
      "[CV] END criterion=gini, max_depth=7, min_samples_split=10, splitter=best; total time=   0.0s\n",
      "[CV] END criterion=gini, max_depth=7, min_samples_split=10, splitter=best; total time=   0.0s\n",
      "[CV] END criterion=gini, max_depth=7, min_samples_split=10, splitter=random; total time=   0.0s\n",
      "[CV] END criterion=gini, max_depth=7, min_samples_split=10, splitter=random; total time=   0.0s\n",
      "[CV] END criterion=gini, max_depth=7, min_samples_split=10, splitter=random; total time=   0.0s\n",
      "[CV] END criterion=gini, max_depth=7, min_samples_split=10, splitter=random; total time=   0.0s\n",
      "[CV] END criterion=gini, max_depth=7, min_samples_split=10, splitter=random; total time=   0.0s\n",
      "[CV] END criterion=gini, max_depth=10, min_samples_split=5, splitter=best; total time=   0.0s\n",
      "[CV] END criterion=gini, max_depth=10, min_samples_split=5, splitter=best; total time=   0.0s\n",
      "[CV] END criterion=gini, max_depth=10, min_samples_split=5, splitter=best; total time=   0.0s\n",
      "[CV] END criterion=gini, max_depth=10, min_samples_split=5, splitter=best; total time=   0.0s\n",
      "[CV] END criterion=gini, max_depth=10, min_samples_split=5, splitter=best; total time=   0.0s\n",
      "[CV] END criterion=gini, max_depth=10, min_samples_split=5, splitter=random; total time=   0.0s\n",
      "[CV] END criterion=gini, max_depth=10, min_samples_split=5, splitter=random; total time=   0.0s\n",
      "[CV] END criterion=gini, max_depth=10, min_samples_split=5, splitter=random; total time=   0.0s\n",
      "[CV] END criterion=gini, max_depth=10, min_samples_split=5, splitter=random; total time=   0.0s\n",
      "[CV] END criterion=gini, max_depth=10, min_samples_split=5, splitter=random; total time=   0.0s\n",
      "[CV] END criterion=gini, max_depth=10, min_samples_split=8, splitter=best; total time=   0.0s\n",
      "[CV] END criterion=gini, max_depth=10, min_samples_split=8, splitter=best; total time=   0.0s\n",
      "[CV] END criterion=gini, max_depth=10, min_samples_split=8, splitter=best; total time=   0.0s\n",
      "[CV] END criterion=gini, max_depth=10, min_samples_split=8, splitter=best; total time=   0.0s\n",
      "[CV] END criterion=gini, max_depth=10, min_samples_split=8, splitter=best; total time=   0.0s\n",
      "[CV] END criterion=gini, max_depth=10, min_samples_split=8, splitter=random; total time=   0.0s\n",
      "[CV] END criterion=gini, max_depth=10, min_samples_split=8, splitter=random; total time=   0.0s\n",
      "[CV] END criterion=gini, max_depth=10, min_samples_split=8, splitter=random; total time=   0.0s\n",
      "[CV] END criterion=gini, max_depth=10, min_samples_split=8, splitter=random; total time=   0.0s\n",
      "[CV] END criterion=gini, max_depth=10, min_samples_split=8, splitter=random; total time=   0.0s\n",
      "[CV] END criterion=gini, max_depth=10, min_samples_split=10, splitter=best; total time=   0.0s\n",
      "[CV] END criterion=gini, max_depth=10, min_samples_split=10, splitter=best; total time=   0.0s\n",
      "[CV] END criterion=gini, max_depth=10, min_samples_split=10, splitter=best; total time=   0.0s\n",
      "[CV] END criterion=gini, max_depth=10, min_samples_split=10, splitter=best; total time=   0.0s\n",
      "[CV] END criterion=gini, max_depth=10, min_samples_split=10, splitter=best; total time=   0.0s\n",
      "[CV] END criterion=gini, max_depth=10, min_samples_split=10, splitter=random; total time=   0.0s\n",
      "[CV] END criterion=gini, max_depth=10, min_samples_split=10, splitter=random; total time=   0.0s\n",
      "[CV] END criterion=gini, max_depth=10, min_samples_split=10, splitter=random; total time=   0.0s\n",
      "[CV] END criterion=gini, max_depth=10, min_samples_split=10, splitter=random; total time=   0.0s\n",
      "[CV] END criterion=gini, max_depth=10, min_samples_split=10, splitter=random; total time=   0.0s\n",
      "[CV] END criterion=entropy, max_depth=3, min_samples_split=5, splitter=best; total time=   0.0s\n",
      "[CV] END criterion=entropy, max_depth=3, min_samples_split=5, splitter=best; total time=   0.0s\n",
      "[CV] END criterion=entropy, max_depth=3, min_samples_split=5, splitter=best; total time=   0.0s\n",
      "[CV] END criterion=entropy, max_depth=3, min_samples_split=5, splitter=best; total time=   0.0s\n",
      "[CV] END criterion=entropy, max_depth=3, min_samples_split=5, splitter=best; total time=   0.0s\n",
      "[CV] END criterion=entropy, max_depth=3, min_samples_split=5, splitter=random; total time=   0.0s\n",
      "[CV] END criterion=entropy, max_depth=3, min_samples_split=5, splitter=random; total time=   0.0s\n",
      "[CV] END criterion=entropy, max_depth=3, min_samples_split=5, splitter=random; total time=   0.0s\n",
      "[CV] END criterion=entropy, max_depth=3, min_samples_split=5, splitter=random; total time=   0.0s\n",
      "[CV] END criterion=entropy, max_depth=3, min_samples_split=5, splitter=random; total time=   0.0s\n",
      "[CV] END criterion=entropy, max_depth=3, min_samples_split=8, splitter=best; total time=   0.0s\n",
      "[CV] END criterion=entropy, max_depth=3, min_samples_split=8, splitter=best; total time=   0.0s\n",
      "[CV] END criterion=entropy, max_depth=3, min_samples_split=8, splitter=best; total time=   0.0s\n"
     ]
    },
    {
     "name": "stdout",
     "output_type": "stream",
     "text": [
      "[CV] END criterion=entropy, max_depth=3, min_samples_split=8, splitter=best; total time=   0.0s\n",
      "[CV] END criterion=entropy, max_depth=3, min_samples_split=8, splitter=best; total time=   0.0s\n",
      "[CV] END criterion=entropy, max_depth=3, min_samples_split=8, splitter=random; total time=   0.0s\n",
      "[CV] END criterion=entropy, max_depth=3, min_samples_split=8, splitter=random; total time=   0.0s\n",
      "[CV] END criterion=entropy, max_depth=3, min_samples_split=8, splitter=random; total time=   0.0s\n",
      "[CV] END criterion=entropy, max_depth=3, min_samples_split=8, splitter=random; total time=   0.0s\n",
      "[CV] END criterion=entropy, max_depth=3, min_samples_split=8, splitter=random; total time=   0.0s\n",
      "[CV] END criterion=entropy, max_depth=3, min_samples_split=10, splitter=best; total time=   0.0s\n",
      "[CV] END criterion=entropy, max_depth=3, min_samples_split=10, splitter=best; total time=   0.0s\n",
      "[CV] END criterion=entropy, max_depth=3, min_samples_split=10, splitter=best; total time=   0.0s\n",
      "[CV] END criterion=entropy, max_depth=3, min_samples_split=10, splitter=best; total time=   0.0s\n",
      "[CV] END criterion=entropy, max_depth=3, min_samples_split=10, splitter=best; total time=   0.0s\n",
      "[CV] END criterion=entropy, max_depth=3, min_samples_split=10, splitter=random; total time=   0.0s\n",
      "[CV] END criterion=entropy, max_depth=3, min_samples_split=10, splitter=random; total time=   0.0s\n",
      "[CV] END criterion=entropy, max_depth=3, min_samples_split=10, splitter=random; total time=   0.0s\n",
      "[CV] END criterion=entropy, max_depth=3, min_samples_split=10, splitter=random; total time=   0.0s\n",
      "[CV] END criterion=entropy, max_depth=3, min_samples_split=10, splitter=random; total time=   0.0s\n",
      "[CV] END criterion=entropy, max_depth=7, min_samples_split=5, splitter=best; total time=   0.0s\n",
      "[CV] END criterion=entropy, max_depth=7, min_samples_split=5, splitter=best; total time=   0.0s\n",
      "[CV] END criterion=entropy, max_depth=7, min_samples_split=5, splitter=best; total time=   0.0s\n",
      "[CV] END criterion=entropy, max_depth=7, min_samples_split=5, splitter=best; total time=   0.0s\n",
      "[CV] END criterion=entropy, max_depth=7, min_samples_split=5, splitter=best; total time=   0.0s\n",
      "[CV] END criterion=entropy, max_depth=7, min_samples_split=5, splitter=random; total time=   0.0s\n",
      "[CV] END criterion=entropy, max_depth=7, min_samples_split=5, splitter=random; total time=   0.0s\n",
      "[CV] END criterion=entropy, max_depth=7, min_samples_split=5, splitter=random; total time=   0.0s\n",
      "[CV] END criterion=entropy, max_depth=7, min_samples_split=5, splitter=random; total time=   0.0s\n",
      "[CV] END criterion=entropy, max_depth=7, min_samples_split=5, splitter=random; total time=   0.0s\n",
      "[CV] END criterion=entropy, max_depth=7, min_samples_split=8, splitter=best; total time=   0.0s\n",
      "[CV] END criterion=entropy, max_depth=7, min_samples_split=8, splitter=best; total time=   0.0s\n",
      "[CV] END criterion=entropy, max_depth=7, min_samples_split=8, splitter=best; total time=   0.0s\n",
      "[CV] END criterion=entropy, max_depth=7, min_samples_split=8, splitter=best; total time=   0.0s\n",
      "[CV] END criterion=entropy, max_depth=7, min_samples_split=8, splitter=best; total time=   0.0s\n",
      "[CV] END criterion=entropy, max_depth=7, min_samples_split=8, splitter=random; total time=   0.0s\n",
      "[CV] END criterion=entropy, max_depth=7, min_samples_split=8, splitter=random; total time=   0.0s\n",
      "[CV] END criterion=entropy, max_depth=7, min_samples_split=8, splitter=random; total time=   0.0s\n",
      "[CV] END criterion=entropy, max_depth=7, min_samples_split=8, splitter=random; total time=   0.0s\n",
      "[CV] END criterion=entropy, max_depth=7, min_samples_split=8, splitter=random; total time=   0.0s\n",
      "[CV] END criterion=entropy, max_depth=7, min_samples_split=10, splitter=best; total time=   0.0s\n",
      "[CV] END criterion=entropy, max_depth=7, min_samples_split=10, splitter=best; total time=   0.0s\n",
      "[CV] END criterion=entropy, max_depth=7, min_samples_split=10, splitter=best; total time=   0.0s\n",
      "[CV] END criterion=entropy, max_depth=7, min_samples_split=10, splitter=best; total time=   0.0s\n",
      "[CV] END criterion=entropy, max_depth=7, min_samples_split=10, splitter=best; total time=   0.0s\n",
      "[CV] END criterion=entropy, max_depth=7, min_samples_split=10, splitter=random; total time=   0.0s\n",
      "[CV] END criterion=entropy, max_depth=7, min_samples_split=10, splitter=random; total time=   0.0s\n",
      "[CV] END criterion=entropy, max_depth=7, min_samples_split=10, splitter=random; total time=   0.0s\n",
      "[CV] END criterion=entropy, max_depth=7, min_samples_split=10, splitter=random; total time=   0.0s\n",
      "[CV] END criterion=entropy, max_depth=7, min_samples_split=10, splitter=random; total time=   0.0s\n",
      "[CV] END criterion=entropy, max_depth=10, min_samples_split=5, splitter=best; total time=   0.0s\n",
      "[CV] END criterion=entropy, max_depth=10, min_samples_split=5, splitter=best; total time=   0.0s\n",
      "[CV] END criterion=entropy, max_depth=10, min_samples_split=5, splitter=best; total time=   0.0s\n",
      "[CV] END criterion=entropy, max_depth=10, min_samples_split=5, splitter=best; total time=   0.0s\n",
      "[CV] END criterion=entropy, max_depth=10, min_samples_split=5, splitter=best; total time=   0.0s\n",
      "[CV] END criterion=entropy, max_depth=10, min_samples_split=5, splitter=random; total time=   0.0s\n",
      "[CV] END criterion=entropy, max_depth=10, min_samples_split=5, splitter=random; total time=   0.0s\n",
      "[CV] END criterion=entropy, max_depth=10, min_samples_split=5, splitter=random; total time=   0.0s\n",
      "[CV] END criterion=entropy, max_depth=10, min_samples_split=5, splitter=random; total time=   0.0s\n",
      "[CV] END criterion=entropy, max_depth=10, min_samples_split=5, splitter=random; total time=   0.0s\n",
      "[CV] END criterion=entropy, max_depth=10, min_samples_split=8, splitter=best; total time=   0.0s\n",
      "[CV] END criterion=entropy, max_depth=10, min_samples_split=8, splitter=best; total time=   0.0s\n",
      "[CV] END criterion=entropy, max_depth=10, min_samples_split=8, splitter=best; total time=   0.0s\n",
      "[CV] END criterion=entropy, max_depth=10, min_samples_split=8, splitter=best; total time=   0.0s\n",
      "[CV] END criterion=entropy, max_depth=10, min_samples_split=8, splitter=best; total time=   0.0s\n",
      "[CV] END criterion=entropy, max_depth=10, min_samples_split=8, splitter=random; total time=   0.0s\n",
      "[CV] END criterion=entropy, max_depth=10, min_samples_split=8, splitter=random; total time=   0.0s\n",
      "[CV] END criterion=entropy, max_depth=10, min_samples_split=8, splitter=random; total time=   0.0s\n",
      "[CV] END criterion=entropy, max_depth=10, min_samples_split=8, splitter=random; total time=   0.0s\n",
      "[CV] END criterion=entropy, max_depth=10, min_samples_split=8, splitter=random; total time=   0.0s\n",
      "[CV] END criterion=entropy, max_depth=10, min_samples_split=10, splitter=best; total time=   0.0s\n",
      "[CV] END criterion=entropy, max_depth=10, min_samples_split=10, splitter=best; total time=   0.0s\n",
      "[CV] END criterion=entropy, max_depth=10, min_samples_split=10, splitter=best; total time=   0.0s\n",
      "[CV] END criterion=entropy, max_depth=10, min_samples_split=10, splitter=best; total time=   0.0s\n",
      "[CV] END criterion=entropy, max_depth=10, min_samples_split=10, splitter=best; total time=   0.0s\n",
      "[CV] END criterion=entropy, max_depth=10, min_samples_split=10, splitter=random; total time=   0.0s\n",
      "[CV] END criterion=entropy, max_depth=10, min_samples_split=10, splitter=random; total time=   0.0s\n",
      "[CV] END criterion=entropy, max_depth=10, min_samples_split=10, splitter=random; total time=   0.0s\n",
      "[CV] END criterion=entropy, max_depth=10, min_samples_split=10, splitter=random; total time=   0.0s\n",
      "[CV] END criterion=entropy, max_depth=10, min_samples_split=10, splitter=random; total time=   0.0s\n"
     ]
    },
    {
     "data": {
      "text/plain": [
       "GridSearchCV(cv=5, estimator=DecisionTreeClassifier(),\n",
       "             param_grid={'criterion': ['gini', 'entropy'],\n",
       "                         'max_depth': [3, 7, 10],\n",
       "                         'min_samples_split': [5, 8, 10],\n",
       "                         'splitter': ['best', 'random']},\n",
       "             scoring='f1_weighted', verbose=2)"
      ]
     },
     "execution_count": 52,
     "metadata": {},
     "output_type": "execute_result"
    }
   ],
   "source": [
    "clf_rf = GridSearchCV(clf, hyperparameter_space_dt, cv=5, scoring='f1_weighted', verbose=2) # using grid search cv to find the best model from the hyperparameter space\n",
    "clf_rf.fit(X_train,Y_train)"
   ]
  },
  {
   "cell_type": "code",
   "execution_count": 53,
   "id": "ab8b5b90",
   "metadata": {
    "ExecuteTime": {
     "end_time": "2023-05-10T01:13:41.518095Z",
     "start_time": "2023-05-10T01:13:41.515862Z"
    },
    "hidden": true
   },
   "outputs": [
    {
     "data": {
      "text/plain": [
       "DecisionTreeClassifier(max_depth=3, min_samples_split=5)"
      ]
     },
     "execution_count": 53,
     "metadata": {},
     "output_type": "execute_result"
    }
   ],
   "source": [
    "clf_rf.best_estimator_"
   ]
  },
  {
   "cell_type": "code",
   "execution_count": 54,
   "id": "b1c4bc6b",
   "metadata": {
    "ExecuteTime": {
     "end_time": "2023-05-10T01:13:41.520403Z",
     "start_time": "2023-05-10T01:13:41.518847Z"
    },
    "hidden": true
   },
   "outputs": [],
   "source": [
    "clf_dt = DecisionTreeClassifier(max_depth=7, min_samples_split=8, splitter='random')"
   ]
  },
  {
   "cell_type": "code",
   "execution_count": 55,
   "id": "1a158259",
   "metadata": {
    "ExecuteTime": {
     "end_time": "2023-05-10T01:13:41.525113Z",
     "start_time": "2023-05-10T01:13:41.521048Z"
    },
    "hidden": true
   },
   "outputs": [
    {
     "data": {
      "text/plain": [
       "DecisionTreeClassifier(max_depth=7, min_samples_split=8, splitter='random')"
      ]
     },
     "execution_count": 55,
     "metadata": {},
     "output_type": "execute_result"
    }
   ],
   "source": [
    "clf_dt.fit(X_train,Y_train)"
   ]
  },
  {
   "cell_type": "code",
   "execution_count": 56,
   "id": "917fe00b",
   "metadata": {
    "ExecuteTime": {
     "end_time": "2023-05-10T01:13:41.538102Z",
     "start_time": "2023-05-10T01:13:41.525905Z"
    },
    "hidden": true
   },
   "outputs": [],
   "source": [
    "scores_dt = cross_validate(clf_dt, X_test, Y_test, scoring=\"f1_weighted\", cv = 5)"
   ]
  },
  {
   "cell_type": "code",
   "execution_count": 57,
   "id": "dd1181d1",
   "metadata": {
    "ExecuteTime": {
     "end_time": "2023-05-10T01:13:41.541253Z",
     "start_time": "2023-05-10T01:13:41.538957Z"
    },
    "hidden": true
   },
   "outputs": [
    {
     "data": {
      "text/plain": [
       "(0.8156650197320456, 0.03596993248310588)"
      ]
     },
     "execution_count": 57,
     "metadata": {},
     "output_type": "execute_result"
    }
   ],
   "source": [
    "scores_dt['test_score'].mean(), scores_dt['test_score'].std()"
   ]
  },
  {
   "cell_type": "markdown",
   "id": "3eed325e",
   "metadata": {},
   "source": [
    "## XGB Classifier"
   ]
  },
  {
   "cell_type": "code",
   "execution_count": 58,
   "id": "4139689e",
   "metadata": {
    "ExecuteTime": {
     "end_time": "2023-05-10T01:13:41.571448Z",
     "start_time": "2023-05-10T01:13:41.541970Z"
    }
   },
   "outputs": [],
   "source": [
    "import xgboost as xgb"
   ]
  },
  {
   "cell_type": "code",
   "execution_count": 59,
   "id": "f9ddb705",
   "metadata": {
    "ExecuteTime": {
     "end_time": "2023-05-10T01:13:41.574099Z",
     "start_time": "2023-05-10T01:13:41.572433Z"
    }
   },
   "outputs": [],
   "source": [
    "xgb_cl = xgb.XGBClassifier(n_estimators = 1000, max_depth = 3, learning_rate = 0.01,\n",
    "                           tree_method = 'exact', verbosity = 1) # changing max depth, estimators, learning rate\n",
    "# on the go as xbgclassifier does not support hyperparameter tuning out of the box. "
   ]
  },
  {
   "cell_type": "code",
   "execution_count": 60,
   "id": "bf0496b5",
   "metadata": {
    "ExecuteTime": {
     "end_time": "2023-05-10T01:13:41.576242Z",
     "start_time": "2023-05-10T01:13:41.574946Z"
    }
   },
   "outputs": [],
   "source": [
    "from sklearn.model_selection import train_test_split\n"
   ]
  },
  {
   "cell_type": "code",
   "execution_count": 61,
   "id": "684263f3",
   "metadata": {
    "ExecuteTime": {
     "end_time": "2023-05-10T01:13:41.580200Z",
     "start_time": "2023-05-10T01:13:41.576995Z"
    }
   },
   "outputs": [],
   "source": [
    "X_train, X_test, Y_train, Y_test = train_test_split(X, y, train_size = 0.7, stratify = y, random_state = 42)"
   ]
  },
  {
   "cell_type": "code",
   "execution_count": 62,
   "id": "51786b3b",
   "metadata": {
    "ExecuteTime": {
     "end_time": "2023-05-10T01:13:41.585012Z",
     "start_time": "2023-05-10T01:13:41.581209Z"
    }
   },
   "outputs": [
    {
     "data": {
      "text/plain": [
       "0    0.838678\n",
       "1    0.161322\n",
       "Name: Attrition, dtype: float64"
      ]
     },
     "execution_count": 62,
     "metadata": {},
     "output_type": "execute_result"
    }
   ],
   "source": [
    "Y_train.value_counts(normalize=True)"
   ]
  },
  {
   "cell_type": "code",
   "execution_count": 63,
   "id": "5a8c9d35",
   "metadata": {
    "ExecuteTime": {
     "end_time": "2023-05-10T01:13:41.588814Z",
     "start_time": "2023-05-10T01:13:41.585811Z"
    }
   },
   "outputs": [
    {
     "data": {
      "text/plain": [
       "0    0.839002\n",
       "1    0.160998\n",
       "Name: Attrition, dtype: float64"
      ]
     },
     "execution_count": 63,
     "metadata": {},
     "output_type": "execute_result"
    }
   ],
   "source": [
    "Y_test.value_counts(normalize=True)"
   ]
  },
  {
   "cell_type": "code",
   "execution_count": 64,
   "id": "c63f7595",
   "metadata": {
    "ExecuteTime": {
     "end_time": "2023-05-10T01:13:41.592241Z",
     "start_time": "2023-05-10T01:13:41.589625Z"
    }
   },
   "outputs": [
    {
     "data": {
      "text/plain": [
       "((1029, 30), (1029,), (441, 30), (441,))"
      ]
     },
     "execution_count": 64,
     "metadata": {},
     "output_type": "execute_result"
    }
   ],
   "source": [
    "X_train.shape, Y_train.shape, X_test.shape, Y_test.shape"
   ]
  },
  {
   "cell_type": "code",
   "execution_count": 65,
   "id": "878d8cd2",
   "metadata": {
    "ExecuteTime": {
     "end_time": "2023-05-10T01:13:42.306702Z",
     "start_time": "2023-05-10T01:13:41.593034Z"
    }
   },
   "outputs": [
    {
     "data": {
      "text/plain": [
       "XGBClassifier(base_score=0.5, booster='gbtree', callbacks=None,\n",
       "              colsample_bylevel=1, colsample_bynode=1, colsample_bytree=1,\n",
       "              early_stopping_rounds=None, enable_categorical=False,\n",
       "              eval_metric=None, gamma=0, gpu_id=-1, grow_policy='depthwise',\n",
       "              importance_type=None, interaction_constraints='',\n",
       "              learning_rate=0.01, max_bin=256, max_cat_to_onehot=4,\n",
       "              max_delta_step=0, max_depth=3, max_leaves=0, min_child_weight=1,\n",
       "              missing=nan, monotone_constraints='()', n_estimators=1000,\n",
       "              n_jobs=0, num_parallel_tree=1, predictor='auto', random_state=0,\n",
       "              reg_alpha=0, reg_lambda=1, ...)"
      ]
     },
     "execution_count": 65,
     "metadata": {},
     "output_type": "execute_result"
    }
   ],
   "source": [
    "xgb_cl.fit(X_train, Y_train) # fitting the classifier"
   ]
  },
  {
   "cell_type": "code",
   "execution_count": 66,
   "id": "4e02d428",
   "metadata": {
    "ExecuteTime": {
     "end_time": "2023-05-10T01:13:42.316312Z",
     "start_time": "2023-05-10T01:13:42.307753Z"
    }
   },
   "outputs": [],
   "source": [
    "Y_test_pred = xgb_cl.predict(X_test)\n",
    "Y_train_pred = xgb_cl.predict(X_train)"
   ]
  },
  {
   "cell_type": "code",
   "execution_count": 67,
   "id": "21e296cb",
   "metadata": {
    "ExecuteTime": {
     "end_time": "2023-05-10T01:13:42.319768Z",
     "start_time": "2023-05-10T01:13:42.317656Z"
    }
   },
   "outputs": [],
   "source": [
    "train_result = pd.DataFrame({'y_train' : Y_train, 'y_train_pred' : Y_train_pred})"
   ]
  },
  {
   "cell_type": "code",
   "execution_count": 68,
   "id": "0f9fedc8",
   "metadata": {
    "ExecuteTime": {
     "end_time": "2023-05-10T01:13:42.323331Z",
     "start_time": "2023-05-10T01:13:42.320743Z"
    }
   },
   "outputs": [],
   "source": [
    "test_result = pd.DataFrame({'y_test' : Y_test, 'y_test_pred' : Y_test_pred})"
   ]
  },
  {
   "cell_type": "code",
   "execution_count": 69,
   "id": "d1c9d977",
   "metadata": {
    "ExecuteTime": {
     "end_time": "2023-05-10T01:13:42.326570Z",
     "start_time": "2023-05-10T01:13:42.324574Z"
    }
   },
   "outputs": [],
   "source": [
    "import sklearn.metrics as sm"
   ]
  },
  {
   "cell_type": "code",
   "execution_count": 70,
   "id": "200ac344",
   "metadata": {
    "ExecuteTime": {
     "end_time": "2023-05-10T01:13:42.332946Z",
     "start_time": "2023-05-10T01:13:42.327532Z"
    }
   },
   "outputs": [
    {
     "name": "stdout",
     "output_type": "stream",
     "text": [
      "              precision    recall  f1-score   support\n",
      "\n",
      "           0       0.94      1.00      0.97       863\n",
      "           1       1.00      0.69      0.81       166\n",
      "\n",
      "    accuracy                           0.95      1029\n",
      "   macro avg       0.97      0.84      0.89      1029\n",
      "weighted avg       0.95      0.95      0.95      1029\n",
      "\n"
     ]
    }
   ],
   "source": [
    "print(sm.classification_report(train_result.y_train,train_result.y_train_pred))"
   ]
  },
  {
   "cell_type": "code",
   "execution_count": 71,
   "id": "c1afd327",
   "metadata": {
    "ExecuteTime": {
     "end_time": "2023-05-10T01:13:42.338606Z",
     "start_time": "2023-05-10T01:13:42.333981Z"
    }
   },
   "outputs": [
    {
     "name": "stdout",
     "output_type": "stream",
     "text": [
      "              precision    recall  f1-score   support\n",
      "\n",
      "           0       0.86      0.97      0.91       370\n",
      "           1       0.52      0.18      0.27        71\n",
      "\n",
      "    accuracy                           0.84       441\n",
      "   macro avg       0.69      0.58      0.59       441\n",
      "weighted avg       0.81      0.84      0.81       441\n",
      "\n"
     ]
    }
   ],
   "source": [
    "print(sm.classification_report(test_result.y_test,test_result.y_test_pred))\n",
    "# Our focus is on the weighted avg f1 score"
   ]
  },
  {
   "cell_type": "code",
   "execution_count": 72,
   "id": "76664fbb",
   "metadata": {
    "ExecuteTime": {
     "end_time": "2023-05-10T01:13:42.344888Z",
     "start_time": "2023-05-10T01:13:42.339512Z"
    }
   },
   "outputs": [
    {
     "name": "stdout",
     "output_type": "stream",
     "text": [
      "Accuracy of Model on training set is 94.95%\n"
     ]
    }
   ],
   "source": [
    "print(\"Accuracy of Model on training set is {:.2%}\".format(train_result.query('y_train == y_train_pred').shape[0] / train_result.shape[0]))"
   ]
  },
  {
   "cell_type": "code",
   "execution_count": 73,
   "id": "ac1b98e1",
   "metadata": {
    "ExecuteTime": {
     "end_time": "2023-05-10T01:13:42.349733Z",
     "start_time": "2023-05-10T01:13:42.345938Z"
    }
   },
   "outputs": [
    {
     "name": "stdout",
     "output_type": "stream",
     "text": [
      "Accuracy of Model on test set is 84.13%\n"
     ]
    }
   ],
   "source": [
    "print(\"Accuracy of Model on test set is {:.2%}\".format(test_result.query('y_test == y_test_pred').shape[0] / test_result.shape[0]))"
   ]
  },
  {
   "cell_type": "code",
   "execution_count": 74,
   "id": "d9e4c169",
   "metadata": {
    "ExecuteTime": {
     "end_time": "2023-05-10T01:13:42.631389Z",
     "start_time": "2023-05-10T01:13:42.350692Z"
    }
   },
   "outputs": [
    {
     "data": {
      "text/plain": [
       "<AxesSubplot:title={'center':'Feature importance'}, xlabel='F score', ylabel='Features'>"
      ]
     },
     "execution_count": 74,
     "metadata": {},
     "output_type": "execute_result"
    },
    {
     "data": {
      "image/png": "[encoded data removed]",
      "text/plain": [
       "<Figure size 1296x864 with 1 Axes>"
      ]
     },
     "metadata": {},
     "output_type": "display_data"
    }
   ],
   "source": [
    "# this block presents the features and their usefulness in model building. It also signifies feature importance. \n",
    "fig, ax = plt.subplots(figsize=(18, 12))\n",
    "xgb.plot_importance(xgb_cl, height=0.5, ax=ax)"
   ]
  },
  {
   "cell_type": "code",
   "execution_count": null,
   "id": "3eabfee6",
   "metadata": {},
   "outputs": [],
   "source": []
  },
  {
   "cell_type": "code",
   "execution_count": null,
   "id": "12887cda",
   "metadata": {},
   "outputs": [],
   "source": []
  },
  {
   "cell_type": "code",
   "execution_count": null,
   "id": "aeec704f",
   "metadata": {},
   "outputs": [],
   "source": []
  },
  {
   "cell_type": "code",
   "execution_count": null,
   "id": "2a274235",
   "metadata": {},
   "outputs": [],
   "source": []
  },
  {
   "cell_type": "code",
   "execution_count": null,
   "id": "36213a8e",
   "metadata": {},
   "outputs": [],
   "source": []
  },
  {
   "cell_type": "code",
   "execution_count": null,
   "id": "484c7d65",
   "metadata": {},
   "outputs": [],
   "source": []
  }
 ],
 "metadata": {
  "kernelspec": {
   "display_name": "Python 3 (ipykernel)",
   "language": "python",
   "name": "python3"
  },
  "language_info": {
   "codemirror_mode": {
    "name": "ipython",
    "version": 3
   },
   "file_extension": ".py",
   "mimetype": "text/x-python",
   "name": "python",
   "nbconvert_exporter": "python",
   "pygments_lexer": "ipython3",
   "version": "3.9.12"
  },
  "varInspector": {
   "cols": {
    "lenName": 16,
    "lenType": 16,
    "lenVar": 40
   },
   "kernels_config": {
    "python": {
     "delete_cmd_postfix": "",
     "delete_cmd_prefix": "del ",
     "library": "var_list.py",
     "varRefreshCmd": "print(var_dic_list())"
    },
    "r": {
     "delete_cmd_postfix": ") ",
     "delete_cmd_prefix": "rm(",
     "library": "var_list.r",
     "varRefreshCmd": "cat(var_dic_list()) "
    }
   },
   "types_to_exclude": [
    "module",
    "function",
    "builtin_function_or_method",
    "instance",
    "_Feature"
   ],
   "window_display": false
  }
 },
 "nbformat": 4,
 "nbformat_minor": 5
}
